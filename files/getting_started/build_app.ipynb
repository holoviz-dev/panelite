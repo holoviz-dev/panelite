{
 "cells": [
  {
   "cell_type": "markdown",
   "id": "65d97e3f",
   "metadata": {},
   "source": [
    "<div class=\"alert alert-block alert-success\">\n",
    "<em>Panelite</em> is powered by young technologies like <a href=\"https://pyodide.org/en/stable/\">Pyodide</a> and <a href=\"https://jupyterlite.readthedocs.io/en/latest/\">Jupyterlite</a>. Some browsers may be poorly supported (e.g. mobile or 32-bit versions). If you experience issues, please <a href=\"https://github.com/holoviz/panel/issues\">report them</a>.\n",
    "</div>"
   ]
  },
  {
   "cell_type": "code",
   "execution_count": null,
   "id": "3a34ebbf",
   "metadata": {},
   "outputs": [],
   "source": [
    "import piplite\n",
    "await piplite.install(['hvplot', 'matplotlib'])"
   ]
  },
  {
   "cell_type": "markdown",
   "id": "aff8620a",
   "metadata": {},
   "source": [
    "# Build an App\n",
    "\n",
    "By now, you should have [set up your environment and installed Panel](installation.md), so you're all set to dive in!\n",
    "\n",
    "In this section, we'll walk through creating a basic interactive application using [NumPy](https://numpy.org/), [Pandas](https://pandas.pydata.org/), and [hvPlot](https://hvplot.holoviz.org/). If you haven't installed `hvPlot` yet, you can do so with `pip install hvplot` or `conda install -c conda-forge hvplot`.\n",
    "\n",
    "Let's envision what our app will look like:\n",
    "\n",
    "![Getting Started App](../_static/images/getting_started_app.png)\n",
    "\n",
    "If you're eager to roll up your sleeves and build this app alongside us, we recommend starting with a Jupyter notebook. You can also run the code directly in the docs or launch the Notebook with JupyterLite on the right.\n",
    "\n",
    ":::{important}\n",
    "Initially, the code block outputs on this website offer limited interactivity, indicated by the <font color=\"darkgoldenrod\">golden</font> border to the left of the output below. By clicking the play button (<svg class=\"pyodide-run-icon\" style=\"width:32px;height:25px\" viewBox=\"0 0 24 24\"> <path stroke=\"none\" fill=\"#28a745\" d=\"M8,5.14V19.14L19,12.14L8,5.14Z\"></path> </svg>), you can activate full interactivity, marked by a <font color=\"green\">green</font> left-border.\n",
    ":::\n",
    "\n",
    "## Configuring the Application\n",
    "\n",
    "First, let's import the necessary dependencies and define some variables:\n",
    "\n"
   ]
  },
  {
   "cell_type": "code",
   "execution_count": null,
   "id": "db22daba",
   "metadata": {},
   "outputs": [],
   "source": [
    "import hvplot.pandas\n",
    "import numpy as np\n",
    "import pandas as pd\n",
    "import panel as pn\n",
    "\n",
    "PRIMARY_COLOR = \"#0072B5\"\n",
    "SECONDARY_COLOR = \"#B54300\"\n",
    "CSV_FILE = (\n",
    "    \"https://raw.githubusercontent.com/holoviz/panel/main/examples/assets/occupancy.csv\"\n",
    ")"
   ]
  },
  {
   "cell_type": "markdown",
   "id": "2a9df603",
   "metadata": {},
   "source": [
    "\n",
    "Next, we'll import the Panel JavaScript dependencies using `pn.extension(...)`. For a visually appealing and responsive user experience, we'll set the `design` to `\"material\"` and the `sizing_mode` to `stretch_width`:\n",
    "\n"
   ]
  },
  {
   "cell_type": "code",
   "execution_count": null,
   "id": "ebbe7ca4",
   "metadata": {},
   "outputs": [],
   "source": [
    "pn.extension(design=\"material\", sizing_mode=\"stretch_width\")"
   ]
  },
  {
   "cell_type": "markdown",
   "id": "03238274",
   "metadata": {},
   "source": [
    "\n",
    "## Fetching the Data\n",
    "\n",
    "Now, let's load the [UCI ML dataset](http://archive.ics.uci.edu/dataset/357/occupancy+detection) that measured the environment in a meeting room. We'll speed up our application by caching (`@pn.cache`) the data across users:\n",
    "\n"
   ]
  },
  {
   "cell_type": "code",
   "execution_count": null,
   "id": "ac9622f9",
   "metadata": {},
   "outputs": [],
   "source": [
    "@pn.cache\n",
    "def get_data():\n",
    "  return pd.read_csv(CSV_FILE, parse_dates=[\"date\"], index_col=\"date\")\n",
    "\n",
    "data = get_data()\n",
    "\n",
    "data.tail()"
   ]
  },
  {
   "cell_type": "markdown",
   "id": "0e8a7daa",
   "metadata": {},
   "source": [
    "\n",
    "## Visualizing a Subset of the Data\n",
    "\n",
    "Before diving into Panel, let's create a function that smooths one of our time series and identifies outliers. Then, we'll plot the result using hvPlot:\n",
    "\n"
   ]
  },
  {
   "cell_type": "code",
   "execution_count": null,
   "id": "caf5c7a7",
   "metadata": {},
   "outputs": [],
   "source": [
    "def transform_data(variable, window, sigma):\n",
    "    \"\"\"Calculates the rolling average and identifies outliers\"\"\"\n",
    "    avg = data[variable].rolling(window=window).mean()\n",
    "    residual = data[variable] - avg\n",
    "    std = residual.rolling(window=window).std()\n",
    "    outliers = np.abs(residual) > std * sigma\n",
    "    return avg, avg[outliers]\n",
    "\n",
    "\n",
    "def get_plot(variable=\"Temperature\", window=30, sigma=10):\n",
    "    \"\"\"Plots the rolling average and the outliers\"\"\"\n",
    "    avg, highlight = transform_data(variable, window, sigma)\n",
    "    return avg.hvplot(\n",
    "        height=300, legend=False, color=PRIMARY_COLOR\n",
    "    ) * highlight.hvplot.scatter(color=SECONDARY_COLOR, padding=0.1, legend=False)"
   ]
  },
  {
   "cell_type": "markdown",
   "id": "c215f98e",
   "metadata": {},
   "source": [
    "\n",
    "Now, we can call our `get_plot` function with specific parameters to obtain a plot with a single set of parameters:\n",
    "\n"
   ]
  },
  {
   "cell_type": "code",
   "execution_count": null,
   "id": "c14a9492",
   "metadata": {},
   "outputs": [],
   "source": [
    "get_plot(variable='Temperature', window=20, sigma=10)"
   ]
  },
  {
   "cell_type": "markdown",
   "id": "defe0689",
   "metadata": {},
   "source": [
    "\n",
    "Great! Now, let's explore how different values for `window` and `sigma` affect the plot. Instead of reevaluating the above cell multiple times, let's use Panel to add interactive controls and quickly visualize the impact of different parameter values.\n",
    "\n",
    "## Exploring the Parameter Space\n",
    "\n",
    "Let's create some Panel slider widgets to explore the range of parameter values:\n",
    "\n"
   ]
  },
  {
   "cell_type": "code",
   "execution_count": null,
   "id": "378fac47",
   "metadata": {},
   "outputs": [],
   "source": [
    "variable_widget = pn.widgets.Select(name=\"variable\", value=\"Temperature\", options=list(data.columns))\n",
    "window_widget = pn.widgets.IntSlider(name=\"window\", value=30, start=1, end=60)\n",
    "sigma_widget = pn.widgets.IntSlider(name=\"sigma\", value=10, start=0, end=20)"
   ]
  },
  {
   "cell_type": "markdown",
   "id": "67143f0f",
   "metadata": {},
   "source": [
    "\n",
    "Now, let's link these widgets to our plotting function so that updates to the widgets rerun the function. We can achieve this easily in Panel using `pn.bind`:\n",
    "\n"
   ]
  },
  {
   "cell_type": "code",
   "execution_count": null,
   "id": "6b73b006",
   "metadata": {},
   "outputs": [],
   "source": [
    "bound_plot = pn.bind(\n",
    "    get_plot, variable=variable_widget, window=window_widget, sigma=sigma_widget\n",
    ")"
   ]
  },
  {
   "cell_type": "markdown",
   "id": "7c6ee6f5",
   "metadata": {},
   "source": [
    "\n",
    "Once we've bound the widgets to the function's arguments, we can layout the resulting `bound_plot` component along with the `widgets` using a Panel layout such as `Column`:\n",
    "\n"
   ]
  },
  {
   "cell_type": "code",
   "execution_count": null,
   "id": "4041ceaf",
   "metadata": {},
   "outputs": [],
   "source": [
    "widgets = pn.Column(variable_widget, window_widget, sigma_widget, sizing_mode=\"fixed\", width=300)\n",
    "pn.Column(widgets, bound_plot)"
   ]
  },
  {
   "cell_type": "markdown",
   "id": "1a34bcff",
   "metadata": {},
   "source": [
    "\n",
    "As long as you have a live Python process running, dragging these widgets will trigger a call to the `get_plot` callback function, evaluating it for whatever combination of parameter values you select and displaying the results.\n",
    "\n",
    "## Serving the Notebook\n",
    "\n",
    "We'll organize our components in a nicely styled template (`MaterialTemplate`) and mark it `.servable()` to add it to our served app:\n",
    "\n",
    "```python\n",
    "pn.template.MaterialTemplate(\n",
    "    site=\"Panel\",\n",
    "    title=\"Getting Started App\",\n",
    "    sidebar=[variable_widget, window_widget, sigma_widget],\n",
    "    main=[bound_plot],\n",
    ").servable(); # The ; is needed in the notebook to not display the template. Its not needed in a script\n",
    "```\n",
    "\n",
    "Save the notebook with the name `app.ipynb`.\n",
    "\n",
    "Finally, we'll serve the app by running the command below in a terminal:\n",
    "\n",
    "```bash\n",
    "panel serve app.ipynb --dev\n",
    "```\n",
    "\n",
    "Now, open the app in your browser at [http://localhost:5006/app](http://localhost:5006/app).\n",
    "\n",
    "It should look like this:\n",
    "\n",
    "![Getting Started App](../_static/images/getting_started_app.png)\n",
    "\n",
    "::::{tip}\n",
    "\n",
    "If you prefer developing in a Python Script using an editor, you can copy the *code* into a file `app.py` and serve it.\n",
    "\n",
    ":::{dropdown} code\n",
    "\n",
    "```python\n",
    "import hvplot.pandas\n",
    "import numpy as np\n",
    "import pandas as pd\n",
    "import panel as pn\n",
    "\n",
    "PRIMARY_COLOR = \"#0072B5\"\n",
    "SECONDARY_COLOR = \"#B54300\"\n",
    "CSV_FILE = (\n",
    "    \"https://raw.githubusercontent.com/holoviz/panel/main/examples/assets/occupancy.csv\"\n",
    ")\n",
    "\n",
    "pn.extension(design=\"material\", sizing_mode=\"stretch_width\")\n",
    "\n",
    "@pn.cache\n",
    "def get_data():\n",
    "  return pd.read_csv(CSV_FILE, parse_dates=[\"date\"], index_col=\"date\")\n",
    "\n",
    "data = get_data()\n",
    "\n",
    "def transform_data(variable, window, sigma):\n",
    "    \"\"\"Calculates the rolling average and identifies outliers\"\"\"\n",
    "    avg = data[variable].rolling(window=window).mean()\n",
    "    residual = data[variable] - avg\n",
    "    std = residual.rolling(window=window).std()\n",
    "    outliers = np.abs(residual) > std * sigma\n",
    "    return avg, avg[outliers]\n",
    "\n",
    "\n",
    "def get_plot(variable=\"Temperature\", window=30, sigma=10):\n",
    "    \"\"\"Plots the rolling average and the outliers\"\"\"\n",
    "    avg, highlight = transform_data(variable, window, sigma)\n",
    "    return avg.hvplot(\n",
    "        height=300, legend=False, color=PRIMARY_COLOR\n",
    "    ) * highlight.hvplot.scatter(color=SECONDARY_COLOR, padding=0.1, legend=False)\n",
    "\n",
    "variable_widget = pn.widgets.Select(name=\"variable\", value=\"Temperature\", options=list(data.columns))\n",
    "window_widget = pn.widgets.IntSlider(name=\"window\", value=30, start=1, end=60)\n",
    "sigma_widget = pn.widgets.IntSlider(name=\"sigma\", value=10, start=0, end=20)\n",
    "\n",
    "bound_plot = pn.bind(\n",
    "    get_plot, variable=variable_widget, window=window_widget, sigma=sigma_widget\n",
    ")\n",
    "\n",
    "pn.template.MaterialTemplate(\n",
    "    site=\"Panel\",\n",
    "    title=\"Getting Started App\",\n",
    "    sidebar=[variable_widget, window_widget, sigma_widget],\n",
    "    main=[bound_plot],\n",
    ").servable(); # The ; is needed in the notebook to not display the template. Its not needed in a script\n",
    "```\n",
    "\n",
    ":::\n",
    "\n",
    "```bash\n",
    "panel serve app.py --dev\n",
    "```\n",
    "\n",
    "::::\n",
    "\n",
    "## What's Next?\n",
    "\n",
    "Now that you've experienced how easy it is to build a simple application in Panel, it's time to delve into some of the [core concepts](core_concepts.md) behind Panel.\n"
   ]
  }
 ],
 "metadata": {},
 "nbformat": 4,
 "nbformat_minor": 5
}
