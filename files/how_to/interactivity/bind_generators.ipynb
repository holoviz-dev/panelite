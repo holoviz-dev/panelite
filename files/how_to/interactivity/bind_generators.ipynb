{
 "cells": [
  {
   "cell_type": "markdown",
   "id": "0b28b550",
   "metadata": {},
   "source": [
    "# Add interactivity with generators\n",
    "\n",
    "This guide addresses how to use generators to build interactive components. This is done with the use of `pn.bind`, which binds a function or method to the value of a widget. Compared to simple reactive functions this allows for more complex interactivity.\n",
    "\n",
    "---\n",
    "\n"
   ]
  },
  {
   "cell_type": "code",
   "execution_count": null,
   "id": "30f5c8b6",
   "metadata": {},
   "outputs": [],
   "source": [
    "import asyncio\n",
    "import time\n",
    "\n",
    "import panel as pn\n",
    "\n",
    "pn.extension()"
   ]
  },
  {
   "cell_type": "markdown",
   "id": "e093f748",
   "metadata": {},
   "source": [
    "\n",
    "Let us say we have some action that is triggered by a widget, such as a button, and while we are computing the results we want to provide feedback to the user. Using imperative programming this involves writing callbacks that update the current state of our components. This is complex and really we prefer to write reactive components. This is where *generator functions* come in.\n",
    "\n",
    ":::{important}\n",
    "A *generator* function is a function that use `yield` to *return* results as they are produced during the execution. It is not allowed to `return` anything, but can use `return` to *break* the execution. For an introduction to *generator functions* check out [Real Python | Introduction to generator functions](https://realpython.com/introduction-to-python-generators/).\n",
    ":::\n",
    "\n",
    "In the example below we add a `Button` to trigger some calculation. Initially the calculation hasn't yet run, so we check the value provided by the `Button` indicating whether a calculation has been triggered and while it is `False` we `yield` some text and `return`. However, when the `Button` is clicked the function is called again with `run=True` and we kick off some calculation. As this calculation progresses we can `yield` updates and then once the calculation is successful we `yield` again with the final result:\n",
    "\n"
   ]
  },
  {
   "cell_type": "code",
   "execution_count": null,
   "id": "d2930382",
   "metadata": {},
   "outputs": [],
   "source": [
    "run = pn.widgets.Button(name=\"Press to run calculation\", align='center')\n",
    "\n",
    "def runner(run):\n",
    "    if not run:\n",
    "        yield \"Calculation did not run yet\"\n",
    "        return\n",
    "    for i in range(101):\n",
    "        time.sleep(0.01) # Some calculation\n",
    "        yield pn.Column(\n",
    "            f'Running ({i}/100%)', pn.indicators.Progress(value=i)\n",
    "        )\n",
    "    yield \"Success ✅︎\"\n",
    "pn.Row(run, pn.bind(runner, run))"
   ]
  },
  {
   "cell_type": "markdown",
   "id": "82fb809e",
   "metadata": {},
   "source": [
    "\n",
    "This provides a powerful mechanism for providing incrememental updates as we load some data, perform some data processing, etc.\n",
    "\n",
    "This can also be combined with asynchronous processing, e.g. to dynamically stream in new data as it arrives:\n",
    "\n"
   ]
  },
  {
   "cell_type": "code",
   "execution_count": null,
   "id": "94dad6ac",
   "metadata": {},
   "outputs": [],
   "source": [
    "import random\n",
    "\n",
    "async def slideshow():\n",
    "    index = 0\n",
    "    while True:\n",
    "        url = f\"https://picsum.photos/800/300?image={index}\"\n",
    "\n",
    "        if pn.state._is_pyodide:\n",
    "            from pyodide.http import pyfetch\n",
    "            img, _ = await asyncio.gather(pyfetch(url), asyncio.sleep(1))\n",
    "            yield pn.pane.JPG(await img.bytes())\n",
    "\n",
    "        import aiohttp\n",
    "        async with aiohttp.ClientSession() as session:\n",
    "            async with session.get(url) as resp:\n",
    "                img, _ = await asyncio.gather(resp.read(), asyncio.sleep(1))\n",
    "                yield pn.pane.JPG(img)\n",
    "        index = (index + 1) % 10\n",
    "\n",
    "pn.Row(slideshow)"
   ]
  },
  {
   "cell_type": "markdown",
   "id": "bd2b83c0",
   "metadata": {},
   "source": [
    "\n",
    "## Related Resources\n",
    "\n",
    "- Learn [how to use async callbacks to perform operations concurrently](../callbacks/async.md)\n"
   ]
  }
 ],
 "metadata": {},
 "nbformat": 4,
 "nbformat_minor": 5
}
