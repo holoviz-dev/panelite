{
 "cells": [
  {
   "cell_type": "markdown",
   "id": "4e283459",
   "metadata": {},
   "source": [
    "# Add reactivity to components\n",
    "\n",
    "This guide addresses how to bind *Parameters* and bound functions on components.\n",
    "\n",
    ":::{versionadded} 1.0.0\n",
    "Bind *Parameters*, widgets and bound functions to component *Parameters*.\n",
    ":::\n",
    "\n",
    "---\n",
    "\n",
    "The power to binding *Parameters*, widgets and interactive functions to component *Parameters* can be used with all of Panel's widgets and panes. This provides a powerful way to add interactivity to an application and update specific *Parameters* without writing callbacks.\n",
    "\n",
    "Let's start with an using existing components to give you an idea of the power behind this. In this example we bind the value of a slider widget to the `page_size` *Parameter* of the [Tabulator](../../reference/widgets/Tabulator) widget. This will allow you to change the page size of the table with the slider:\n",
    "\n"
   ]
  },
  {
   "cell_type": "code",
   "execution_count": null,
   "id": "c87b138d",
   "metadata": {},
   "outputs": [],
   "source": [
    "import pandas as pd\n",
    "import panel as pn\n",
    "\n",
    "pn.extension(\"tabulator\")\n",
    "\n",
    "df = pd.read_csv(\"https://datasets.holoviz.org/penguins/v1/penguins.csv\")\n",
    "\n",
    "slider = pn.widgets.IntSlider(value=5, start=1, end=10, name='page_size')\n",
    "tabulator = pn.widgets.Tabulator(df, page_size=slider, pagination=\"remote\")\n",
    "\n",
    "pn.Column(slider, tabulator)"
   ]
  },
  {
   "cell_type": "markdown",
   "id": "6fe87657",
   "metadata": {},
   "source": [
    "\n",
    "## Binding bound function on components\n",
    "\n",
    "```{admonition} Prerequisites\n",
    "Read the [How to > Make your functions interactive](./bind_function) guide to learn how to bind functions.\n",
    "```\n",
    "\n",
    "Often times the value of a widget or *Parameter* will not map directly onto the *Parameter* you want to set. In these cases, you can write a reactive function (using `pn.bind`), which transforms the values of the inputs.\n",
    "\n",
    "Let's say we have a function that takes a string and a number as input:\n",
    "\n"
   ]
  },
  {
   "cell_type": "code",
   "execution_count": null,
   "id": "5fb97742",
   "metadata": {},
   "outputs": [],
   "source": [
    "def object_creator(string, number):\n",
    "    return string * number\n",
    "\n",
    "object_creator('🐘', 5)"
   ]
  },
  {
   "cell_type": "markdown",
   "id": "27c05111",
   "metadata": {},
   "source": [
    "\n",
    "Now we can bind `IntSlider` and the `Select` widgets to the `object_creator` to create an interactive string. Once we have a reactive function we can pass it to a component, e.g. `Markdown` to render this:\n",
    "\n"
   ]
  },
  {
   "cell_type": "code",
   "execution_count": null,
   "id": "6506163b",
   "metadata": {},
   "outputs": [],
   "source": [
    "slider = pn.widgets.IntSlider(value=5, start=1, end=10)\n",
    "select = pn.widgets.Select(value=\"⭐\", options=[\"⭐\", \"🐘\"])\n",
    "\n",
    "iobject = pn.bind(object_creator, select, slider)\n",
    "\n",
    "pn.Row(slider, select, pn.pane.Markdown(iobject))"
   ]
  },
  {
   "cell_type": "markdown",
   "id": "eae02c37",
   "metadata": {},
   "source": [
    "\n",
    "This approach is preferred over rendering reactive functions directly because it is more efficient and updates only the specific *Parameters* that are being changed.\n",
    "\n",
    "If you want to update multiple *Parameters* at the same time you can pass a reactive function (or **Parameter**) as the `refs` keyword argument. The function (or **Parameter**) must return a dictionary of parameters to update, e.g. let's say you wanted to write a function that returns both\n",
    "\n",
    "\n"
   ]
  },
  {
   "cell_type": "code",
   "execution_count": null,
   "id": "8a883cef",
   "metadata": {},
   "outputs": [],
   "source": [
    "slider = pn.widgets.IntSlider(value=5, start=1, end=10, name='Number')\n",
    "select = pn.widgets.RadioButtonGroup(value=\"⭐\", options=[\"⭐\", \"🐘\"], name='String', align='center')\n",
    "size = pn.widgets.IntSlider(value=12, start=6, end=24, name='Size')\n",
    "\n",
    "def refs(string, number, size):\n",
    "    return {\n",
    "        'object': string * number,\n",
    "        'styles': {'font-size': f'{size}pt'}\n",
    "    }\n",
    "\n",
    "irefs = pn.bind(refs, select, slider, size)\n",
    "\n",
    "pn.Row(slider, size, select, pn.pane.Markdown(refs=irefs))"
   ]
  },
  {
   "cell_type": "markdown",
   "id": "92acfea7",
   "metadata": {},
   "source": [
    "\n",
    "In this way we can update both the current `object` and the `styles` **Parameter** of the `Markdown` pane simultaneously.\n",
    "\n",
    "## Related Resources\n",
    "\n",
    "- Learn [how to use generators with `bind`](bind_generators)\n",
    "- Understand [Param](../../explanation/dependencies/param)\n"
   ]
  }
 ],
 "metadata": {},
 "nbformat": 4,
 "nbformat_minor": 5
}
