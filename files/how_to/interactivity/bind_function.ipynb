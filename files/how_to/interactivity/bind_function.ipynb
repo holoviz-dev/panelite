{
 "cells": [
  {
   "cell_type": "markdown",
   "id": "f3af2ed0",
   "metadata": {},
   "source": [
    "# Add interactivity to a function\n",
    "\n",
    "This guide addresses how to make your functions interactive by binding widgets to them. This is done with the use of `pn.bind`, which allows binding the value of a widget to a function or method.\n",
    "\n",
    "---\n",
    "\n",
    "The recommended approach to adding interactivity to your applications is by writing reactive functions or methods. To discover how to write one of these first, we need a function.\n",
    "\n",
    "Let's start by creating a function. The function takes an argument `number` and will return a string of stars equal to the number:\n",
    "\n"
   ]
  },
  {
   "cell_type": "code",
   "execution_count": null,
   "id": "7fa4cfd4",
   "metadata": {},
   "outputs": [],
   "source": [
    "def star_creator(number):\n",
    "    return \"⭐\" * number\n",
    "\n",
    "star_creator(5)"
   ]
  },
  {
   "cell_type": "markdown",
   "id": "f470ee72",
   "metadata": {},
   "source": [
    "\n",
    "Calling a function repeatedly with different arguments is not very interactive, so as a second step we will create a widget. Here we have chosen the `pn.widgets.IntSlider` with a value of 5 and a range between 1 and 10:\n",
    "\n"
   ]
  },
  {
   "cell_type": "code",
   "execution_count": null,
   "id": "05ec9ea2",
   "metadata": {},
   "outputs": [],
   "source": [
    "import panel as pn\n",
    "\n",
    "pn.extension()\n",
    "\n",
    "slider = pn.widgets.IntSlider(value=5, start=1, end=10)\n",
    "slider"
   ]
  },
  {
   "cell_type": "markdown",
   "id": "73e04782",
   "metadata": {},
   "source": [
    "\n",
    "\n",
    "To make our `star_creator` function interactive we can now bind the widget to the function and add it to a layout together with the `slider`:\n",
    "\n"
   ]
  },
  {
   "cell_type": "code",
   "execution_count": null,
   "id": "afc07a16",
   "metadata": {},
   "outputs": [],
   "source": [
    "interactive_star_creator = pn.bind(star_creator, slider)\n",
    "\n",
    "pn.Column(slider, interactive_star_creator)"
   ]
  },
  {
   "cell_type": "markdown",
   "id": "81fa6e9e",
   "metadata": {},
   "source": [
    "\n",
    ":::{note}\n",
    "`pn.bind` works very similarly to Python's [`functools.partial`](https://docs.python.org/3/library/functools.html#functools.partial), except that it automatically resolves the current value of any widgets, *Parameters* and other bound functions that are passed as arguments.\n",
    ":::\n",
    "\n",
    "Internally the layout will create a so called `ParamFunction` component to wrap the interactive function. This wrapper component will re-evaluate and update the output whenever the inputs to the function change.\n",
    "\n",
    "## Related Resources\n",
    "\n",
    "- Learn [how to use reactive functions to update components](bind_component)\n",
    "- Learn [how to use reactive generators to generate interactive components ](bind_generators)\n",
    "- Understand [Param](../../explanation/dependencies/param)\n"
   ]
  }
 ],
 "metadata": {},
 "nbformat": 4,
 "nbformat_minor": 5
}
