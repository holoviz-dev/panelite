{
 "cells": [
  {
   "cell_type": "markdown",
   "id": "63c01c57",
   "metadata": {},
   "source": [
    "<div class=\"alert alert-block alert-success\">\n",
    "<em>Panelite</em> is powered by young technologies like <a href=\"https://pyodide.org/en/stable/\">Pyodide</a> and <a href=\"https://jupyterlite.readthedocs.io/en/latest/\">Jupyterlite</a>. Some browsers may be poorly supported (e.g. mobile or 32-bit versions). If you experience issues, please <a href=\"https://github.com/holoviz/panel/issues\">report them</a>.\n",
    "</div>"
   ]
  },
  {
   "cell_type": "code",
   "execution_count": null,
   "id": "7d585db4",
   "metadata": {},
   "outputs": [],
   "source": [
    "import piplite\n",
    "await piplite.install(['hvplot'])"
   ]
  },
  {
   "cell_type": "markdown",
   "id": "c65964ed",
   "metadata": {},
   "source": [
    "# Make interactive data workflows\n",
    "\n",
    "This guide addresses how to bind interactive data pipelines to a component using the [Reactive Expressions of Param](https://param.holoviz.org/user_guide/Reactive_Expressions.html).\n",
    "\n",
    "---\n",
    "\n",
    "The `Param rx` object allows you to treat any object as a reactive expression. This is done by replacing the constant parameters in your pipeline with widgets (e.g., a number slider) that will trigger an output update on changes. With this approach, all your pipeline parameters are available in one place, and you get complete interactive control over the pipeline. For convenience, we could use `pn.rx` instead of `param.rx` when you `import panel as pn`.\n",
    "\n",
    "Let's start by fetching some data:\n",
    "\n"
   ]
  },
  {
   "cell_type": "code",
   "execution_count": null,
   "id": "c8ea2489",
   "metadata": {},
   "outputs": [],
   "source": [
    "import pandas as pd\n",
    "\n",
    "df = pd.read_csv('https://datasets.holoviz.org/penguins/v1/penguins.csv')\n",
    "df.head()"
   ]
  },
  {
   "cell_type": "markdown",
   "id": "15d6fc13",
   "metadata": {},
   "source": [
    "\n",
    "We now want to create select widgets for the column `species` and a slider for `year`. We can do this with Panel's widgets:\n",
    "\n"
   ]
  },
  {
   "cell_type": "code",
   "execution_count": null,
   "id": "a8036d6e",
   "metadata": {},
   "outputs": [],
   "source": [
    "import panel as pn\n",
    "\n",
    "pn.extension('tabulator')\n",
    "\n",
    "species_widget = pn.widgets.Select(name=\"species\", options=[\"Adelie\", \"Gentoo\", \"Chinstrap\"])\n",
    "year_widget = pn.widgets.IntSlider(name=\"year\", start=2007, end=2009)"
   ]
  },
  {
   "cell_type": "markdown",
   "id": "0e058af0",
   "metadata": {},
   "source": [
    "\n",
    "Let's then use these to filter the data. We first wrap the `df` in `pn.rx` as `df_rx` and pass the `species_widget` as the `species` parameter and the `year_widget` as the `year` parameter. In our case, we want the year always to be greater than or equal to the widget's value.\n",
    "\n"
   ]
  },
  {
   "cell_type": "code",
   "execution_count": null,
   "id": "b7e28ba6",
   "metadata": {},
   "outputs": [],
   "source": [
    "import hvplot.pandas  # Enable interactive\n",
    "\n",
    "df_rx = pn.rx(df)\n",
    "df_rx = df_rx[(df_rx[\"species\"] == species_widget) & (df_rx[\"year\"] >= year_widget)]\n",
    "\n",
    "df_rx.head()"
   ]
  },
  {
   "cell_type": "markdown",
   "id": "9ff9ec83",
   "metadata": {},
   "source": [
    "Similarly we can use other pandas features in the same way.\n",
    "\n"
   ]
  },
  {
   "cell_type": "code",
   "execution_count": null,
   "id": "4ae07674",
   "metadata": {},
   "outputs": [],
   "source": [
    "head_widget = pn.widgets.IntSlider(name=\"Head\", start=1, end=10)\n",
    "\n",
    "df_rx.head(head_widget)"
   ]
  },
  {
   "cell_type": "markdown",
   "id": "8b661ec0",
   "metadata": {},
   "source": [
    "\n",
    "Because we've imported `hvplot.pandas`, we can utilize `.hvplot()` to render the widgets and plot the data easily:\n",
    "\n"
   ]
  },
  {
   "cell_type": "code",
   "execution_count": null,
   "id": "184897a4",
   "metadata": {},
   "outputs": [],
   "source": [
    "df_rx.hvplot(kind=\"scatter\", x=\"bill_length_mm\", y=\"bill_depth_mm\", by=\"sex\")"
   ]
  },
  {
   "cell_type": "markdown",
   "id": "a9554b7f",
   "metadata": {},
   "source": [
    "\n",
    "We can leverage [`panel.ReactiveExpr`](../../reference/panes/ReactiveExpr) to assist in rendering `df_rx`. This allows us to include all widgets related to `df_rx`, while also offering the flexibility to customize the appearance of the widgets. For instance, we can specify `pn.Column` as the `widget_layout` parameter and `top` as the `widget_location` parameter, as shown below:\n",
    "\n"
   ]
  },
  {
   "cell_type": "code",
   "execution_count": null,
   "id": "973dd0bc",
   "metadata": {},
   "outputs": [],
   "source": [
    "pn.ReactiveExpr(\n",
    "    df_rx.head(),  # only show a few rows to save some space\n",
    "    widget_layout=pn.Column,\n",
    "    widget_location=\"top\",\n",
    ")"
   ]
  },
  {
   "cell_type": "markdown",
   "id": "4b00fed5",
   "metadata": {},
   "source": [
    "\n",
    "While `panel.ReactiveExpr` offers convenience, it's also common practice to bind the interactive pipeline we've constructed to a Panel component, such as a `Tabulator` widget:\n",
    "\n"
   ]
  },
  {
   "cell_type": "code",
   "execution_count": null,
   "id": "fdab8a2b",
   "metadata": {},
   "outputs": [],
   "source": [
    "table = pn.widgets.Tabulator(df_rx, page_size=10, pagination=\"remote\")\n",
    "pn.Column(species_widget, year_widget, table)"
   ]
  },
  {
   "cell_type": "markdown",
   "id": "c4c100d5",
   "metadata": {},
   "source": [
    "\n",
    "Notably, with this approach, we need to handle the layout of widgets ourselves.\n",
    "\n",
    "For complex expressions involving many widgets, the `panel.ReactiveExpr` pane offers a `.widgets` attribute, returning a `ListPanel`, which helps us retrieve all the related widgets. Once we have access to the widgets, it becomes possible to reposition them or add custom widgets in the final layout.\n",
    "\n"
   ]
  },
  {
   "cell_type": "code",
   "execution_count": null,
   "id": "7a6c073e",
   "metadata": {},
   "outputs": [],
   "source": [
    "widgets = pn.ReactiveExpr(df_rx).widgets\n",
    "\n",
    "pn.Column(\n",
    "    pn.WidgetBox(*reversed(widgets)),\n",
    "    pn.Spacer(height=30),\n",
    "    table,\n",
    ")"
   ]
  },
  {
   "cell_type": "markdown",
   "id": "360a1a59",
   "metadata": {},
   "source": [
    "\n",
    "Finally, if performance is critical, you might want to consider using [Reactive expressions as references](../../reference/panes/ReactiveExpr#reactive-expressions-as-references). For instance, you can try replacing `df_rx` with `df_rx.rx()` in this tutorial.\n",
    "\n",
    "## Related Resources\n",
    "\n",
    "* [Reactive Functions and Expressions of Param](https://param.holoviz.org/user_guide/Reactive_Expressions.html)\n",
    "* [Reactive Expressions of Panel](../../tutorials/basic/pn_rx)\n",
    "* [panel.ReactiveExpr documentation](../../reference/panes/ReactiveExpr)\n"
   ]
  }
 ],
 "metadata": {},
 "nbformat": 4,
 "nbformat_minor": 5
}
