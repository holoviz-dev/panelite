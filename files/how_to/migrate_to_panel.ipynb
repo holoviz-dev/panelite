{
 "cells": [
  {
   "cell_type": "markdown",
   "id": "be953ea3",
   "metadata": {},
   "source": [
    ".. raw:: html\n",
    "    <head>\n",
    "        <meta http-equiv='refresh' content='0; URL=./index.html#migrate-to-panel'>\n",
    "    </head>\n",
    "\n",
    "# Migrate to Panel\n",
    "\n",
    "```{toctree}\n",
    ":titlesonly:\n",
    ":hidden:\n",
    ":maxdepth: 1\n",
    "\n",
    "Migrate from AnyWidget<migration/anywidget/index>\n",
    "Migrate from Streamlit<streamlit_migration/index>\n",
    "```\n"
   ]
  }
 ],
 "metadata": {},
 "nbformat": 4,
 "nbformat_minor": 5
}
