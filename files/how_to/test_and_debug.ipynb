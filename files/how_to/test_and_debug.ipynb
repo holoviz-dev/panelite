{
 "cells": [
  {
   "cell_type": "markdown",
   "id": "ab24e10d",
   "metadata": {},
   "source": [
    ".. raw:: html\n",
    "    <head>\n",
    "        <meta http-equiv='refresh' content='0; URL=./index.html#test-and-debug'>\n",
    "    </head>\n",
    "\n",
    "# Test and debug\n",
    "\n",
    "```{toctree}\n",
    ":titlesonly:\n",
    ":hidden:\n",
    ":maxdepth: 1\n",
    "\n",
    "Enable profiling and debugging<profiling/index>\n",
    "Set up testing for an application<test/index>\n",
    "```\n"
   ]
  }
 ],
 "metadata": {},
 "nbformat": 4,
 "nbformat_minor": 5
}
