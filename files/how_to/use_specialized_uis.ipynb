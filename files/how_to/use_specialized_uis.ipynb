{
 "cells": [
  {
   "cell_type": "markdown",
   "id": "49bcebbe",
   "metadata": {},
   "source": [
    ".. raw:: html\n",
    "    <head>\n",
    "        <meta http-equiv='refresh' content='0; URL=./index.html#use-specialized-uis-and-apis'>\n",
    "    </head>\n",
    "\n",
    "# Use specialized UIs and APIs\n",
    "\n",
    "```{toctree}\n",
    ":titlesonly:\n",
    ":hidden:\n",
    ":maxdepth: 1\n",
    "\n",
    "Build a sequential UI<pipeline/index>\n",
    "Build custom components<custom_components/index>\n",
    "Explicitly link parameters (Callbacks API)<links/index>\n",
    "Generate UIs from declared parameters (Declarative API)<param/index>\n",
    "```\n"
   ]
  }
 ],
 "metadata": {},
 "nbformat": 4,
 "nbformat_minor": 5
}
