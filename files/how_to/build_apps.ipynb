{
 "cells": [
  {
   "cell_type": "markdown",
   "id": "b529c002",
   "metadata": {},
   "source": [
    ".. raw:: html\n",
    "    <head>\n",
    "        <meta http-equiv='refresh' content='0; URL=./index.html#build-apps'>\n",
    "    </head>\n",
    "\n",
    "# Build apps\n",
    "\n",
    "```{toctree}\n",
    ":titlesonly:\n",
    ":hidden:\n",
    ":maxdepth: 1\n",
    "\n",
    "Construct individual components<components/index>\n",
    "Styling components<styling/index>\n",
    "Interactivity<interactivity/index>\n",
    "Arranging components<layout/index>\n",
    "Bind Component Parameters (Reactive API)<reactive/index>\n",
    "```\n"
   ]
  }
 ],
 "metadata": {},
 "nbformat": 4,
 "nbformat_minor": 5
}
