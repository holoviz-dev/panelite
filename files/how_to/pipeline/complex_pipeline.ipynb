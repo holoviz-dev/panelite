{
 "cells": [
  {
   "cell_type": "markdown",
   "id": "67bca9bb",
   "metadata": {},
   "source": [
    "<div class=\"alert alert-block alert-success\">\n",
    "<em>Panelite</em> is powered by young technologies like <a href=\"https://pyodide.org/en/stable/\">Pyodide</a> and <a href=\"https://jupyterlite.readthedocs.io/en/latest/\">Jupyterlite</a>. Some browsers may be poorly supported (e.g. mobile or 32-bit versions). If you experience issues, please <a href=\"https://github.com/holoviz/panel/issues\">report them</a>.\n",
    "</div>"
   ]
  },
  {
   "cell_type": "code",
   "execution_count": null,
   "id": "c518986e",
   "metadata": {},
   "outputs": [],
   "source": [
    "import piplite\n",
    "await piplite.install(['holoviews'])"
   ]
  },
  {
   "cell_type": "markdown",
   "id": "ef777a37",
   "metadata": {},
   "source": [
    "# Create a Non-Linear `Pipeline`\n",
    "\n",
    "This guide addresses how to build a non-linear Panel Pipeline with branching and converging steps, i.e., an acyclic graph.\n",
    "\n",
    "```{admonition} Prerequisites\n",
    "1. The [How-to > Param with Panel](../param/index) guides describe how to set up classes that declare parameters and link them to some computation or visualization.\n",
    "2. The [How-to > Create a Pipeline](./simple_pipeline) guide walks through the essential steps of pipeline construction.\n",
    "```\n",
    "\n",
    "---\n",
    "\n",
    "An example of a non-linear pipeline might be a workflow with two alternative stages that rejoin at a later point. Let's create a pipeline with alternative stages (`Add` or `Multiply`) by declaring how each stage feeds into the other stages.\n",
    "\n",
    "First, we declare four simple stages: `Input`, `Multiply`, `Add`, and `Result`.\n",
    "\n"
   ]
  },
  {
   "cell_type": "code",
   "execution_count": null,
   "id": "5b32aba2",
   "metadata": {},
   "outputs": [],
   "source": [
    "import param\n",
    "import panel as pn\n",
    "pn.extension() # for notebook\n",
    "\n",
    "class Input(param.Parameterized):\n",
    "\n",
    "    value1 = param.Integer(default=2, bounds=(0,10))\n",
    "    value2 = param.Integer(default=3, bounds=(0,10))\n",
    "\n",
    "    def panel(self):\n",
    "        return pn.Column(self.param.value1, self.param.value2)\n",
    "\n",
    "class Multiply(param.Parameterized):\n",
    "\n",
    "    value1 = param.Integer()\n",
    "    value2 = param.Integer()\n",
    "    operator = param.String(default='*')\n",
    "\n",
    "    def panel(self):\n",
    "        return pn.pane.Markdown(f'# {self.value1} * {self.value2}')\n",
    "\n",
    "    @param.output('result')\n",
    "    def output(self):\n",
    "        return self.value1 * self.value2\n",
    "\n",
    "class Add(param.Parameterized):\n",
    "\n",
    "    value1 = param.Integer()\n",
    "    value2 = param.Integer()\n",
    "    operator = param.String(default='+')\n",
    "\n",
    "    def panel(self):\n",
    "        return pn.pane.Markdown(f'# {self.value1} + {self.value2}')\n",
    "\n",
    "    @param.output('result')\n",
    "    def output(self):\n",
    "        return self.value1 + self.value2\n",
    "\n",
    "class Result(param.Parameterized):\n",
    "\n",
    "    value1 = param.Integer()\n",
    "    value2 = param.Integer()\n",
    "    operator = param.String(default='')\n",
    "    result = param.Integer(default=0)\n",
    "\n",
    "    def panel(self):\n",
    "        return pn.pane.Markdown(f'# {self.value1} {self.operator} {self.value2} = {self.result}')"
   ]
  },
  {
   "cell_type": "markdown",
   "id": "3b8d286d",
   "metadata": {},
   "source": [
    "\n",
    "Now let's add these stages to a new Pipeline:\n",
    "\n"
   ]
  },
  {
   "cell_type": "code",
   "execution_count": null,
   "id": "edec6b09",
   "metadata": {},
   "outputs": [],
   "source": [
    "dag = pn.pipeline.Pipeline()\n",
    "\n",
    "dag.add_stage('Input', Input)\n",
    "dag.add_stage('Multiply', Multiply)\n",
    "dag.add_stage('Add', Add)\n",
    "dag.add_stage('Result', Result)"
   ]
  },
  {
   "cell_type": "markdown",
   "id": "324cb3d2",
   "metadata": {},
   "source": [
    "\n",
    "Now comes the important part that differs from a simple linear pipeline. After adding all the stages we have to express the alternative branching aspect. We can use the `define_graph` method to provide an adjacency map which declares how each stage feeds into the other stages. In this case the `Input` feeds into both `Multiply` and `Add` and both those stages feed into the `Result`:\n",
    "\n"
   ]
  },
  {
   "cell_type": "code",
   "execution_count": null,
   "id": "0271a226",
   "metadata": {},
   "outputs": [],
   "source": [
    "dag.define_graph({'Input': ('Multiply', 'Add'), 'Multiply': 'Result', 'Add': 'Result'})"
   ]
  },
  {
   "cell_type": "markdown",
   "id": "e47003f3",
   "metadata": {},
   "source": [
    "\n",
    "Now let's view our result:\n",
    "\n"
   ]
  },
  {
   "cell_type": "code",
   "execution_count": null,
   "id": "a56c44d7",
   "metadata": {},
   "outputs": [],
   "source": [
    "dag"
   ]
  },
  {
   "cell_type": "markdown",
   "id": "8261af82",
   "metadata": {},
   "source": [
    "\n",
    "Here is the complete code for this section in case you want to easily copy it:\n",
    "\n"
   ]
  },
  {
   "cell_type": "code",
   "execution_count": null,
   "id": "8a7bd5be",
   "metadata": {},
   "outputs": [],
   "source": [
    "import param\n",
    "import panel as pn\n",
    "pn.extension() # for notebook\n",
    "\n",
    "class Input(param.Parameterized):\n",
    "\n",
    "    value1 = param.Integer(default=2, bounds=(0,10))\n",
    "    value2 = param.Integer(default=3, bounds=(0,10))\n",
    "\n",
    "    def panel(self):\n",
    "        return pn.Column(self.param.value1, self.param.value2)\n",
    "\n",
    "class Multiply(param.Parameterized):\n",
    "\n",
    "    value1 = param.Integer()\n",
    "    value2 = param.Integer()\n",
    "    operator = param.String(default='*')\n",
    "\n",
    "    def panel(self):\n",
    "        return pn.pane.Markdown(f'# {self.value1} * {self.value2}')\n",
    "\n",
    "    @param.output('result')\n",
    "    def output(self):\n",
    "        return self.value1 * self.value2\n",
    "\n",
    "class Add(param.Parameterized):\n",
    "\n",
    "    value1 = param.Integer()\n",
    "    value2 = param.Integer()\n",
    "    operator = param.String(default='+')\n",
    "\n",
    "    def panel(self):\n",
    "        return pn.pane.Markdown(f'# {self.value1} + {self.value2}')\n",
    "\n",
    "    @param.output('result')\n",
    "    def output(self):\n",
    "        return self.value1 + self.value2\n",
    "\n",
    "class Result(param.Parameterized):\n",
    "\n",
    "    value1 = param.Integer()\n",
    "    value2 = param.Integer()\n",
    "    operator = param.String(default='')\n",
    "    result = param.Integer(default=0)\n",
    "\n",
    "    def panel(self):\n",
    "        return pn.pane.Markdown(f'# {self.value1} {self.operator} {self.value2} = {self.result}')\n",
    "\n",
    "dag = pn.pipeline.Pipeline()\n",
    "\n",
    "dag.add_stage('Input', Input)\n",
    "dag.add_stage('Multiply', Multiply)\n",
    "dag.add_stage('Add', Add)\n",
    "dag.add_stage('Result', Result)\n",
    "\n",
    "dag.define_graph({'Input': ('Multiply', 'Add'), 'Multiply': 'Result', 'Add': 'Result'})\n",
    "\n",
    "dag"
   ]
  },
  {
   "cell_type": "markdown",
   "id": "a48efec9",
   "metadata": {},
   "source": [
    "\n",
    "\n",
    "## Related Resources\n",
    "- The [How to > Param with Panel](../param/index) guide describe how to set up classes that declare parameters and link them to some computation or visualization.\n",
    "- The [How to > Create a Pipeline](./simple_pipeline) guide walks through the essential components of a pipeline.\n"
   ]
  }
 ],
 "metadata": {},
 "nbformat": 4,
 "nbformat_minor": 5
}
