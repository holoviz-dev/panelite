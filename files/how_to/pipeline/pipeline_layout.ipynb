{
 "cells": [
  {
   "cell_type": "markdown",
   "id": "9abd6c53",
   "metadata": {},
   "source": [
    "<div class=\"alert alert-block alert-success\">\n",
    "<em>Panelite</em> is powered by young technologies like <a href=\"https://pyodide.org/en/stable/\">Pyodide</a> and <a href=\"https://jupyterlite.readthedocs.io/en/latest/\">Jupyterlite</a>. Some browsers may be poorly supported (e.g. mobile or 32-bit versions). If you experience issues, please <a href=\"https://github.com/holoviz/panel/issues\">report them</a>.\n",
    "</div>"
   ]
  },
  {
   "cell_type": "code",
   "execution_count": null,
   "id": "1b7a671f",
   "metadata": {},
   "outputs": [],
   "source": [
    "import piplite\n",
    "await piplite.install(['holoviews'])"
   ]
  },
  {
   "cell_type": "markdown",
   "id": "ce07f851",
   "metadata": {},
   "source": [
    "# Customize `Pipeline` Layout\n",
    "\n",
    "This guide addresses how to customize the visual layout of the Panel `Pipeline` UI.\n",
    "\n",
    "---\n",
    "\n",
    "A `Pipeline` object has the following components that you can customize to display in any configuration.\n",
    "\n",
    "- `layout`: The overall layout of the header and stage.\n",
    "- `header`: The navigation components and network diagram.\n",
    "- `title`: The name of the current stage.\n",
    "- `network`: A network diagram representing the pipeline.\n",
    "- `stage`: The contents of the current pipeline stage.\n",
    "- `buttons`: All navigation buttons and selectors.\n",
    "- `prev_button`: The button to go to the previous stage.\n",
    "- `prev_selector`: The selector widget to select between previous branching stages.\n",
    "- `next_button`:   The button to go to the previous stage\n",
    "- `next_selector`: The selector widget to select the next branching stages.\n",
    "\n",
    "For instance, let's rearrange the layout of a simple non-linear pipeline. For a walk-through of this type of pipeline, refer to the [Create a Non-Linear Pipeline](./complex_pipeline.md) How-to Guide.\n",
    "\n",
    "First, let's create the stages and add them to a pipeline:\n",
    "\n"
   ]
  },
  {
   "cell_type": "code",
   "execution_count": null,
   "id": "cbca2371",
   "metadata": {},
   "outputs": [],
   "source": [
    "import param\n",
    "import panel as pn\n",
    "pn.extension() # for notebook\n",
    "\n",
    "class Input(param.Parameterized):\n",
    "\n",
    "    value1 = param.Integer(default=2, bounds=(0,10))\n",
    "    value2 = param.Integer(default=3, bounds=(0,10))\n",
    "\n",
    "    def panel(self):\n",
    "        return pn.Column(self.param.value1, self.param.value2)\n",
    "\n",
    "class Multiply(Input):\n",
    "\n",
    "    value1 = param.Integer()\n",
    "    value2 = param.Integer()\n",
    "    operator = param.String(default='*')\n",
    "\n",
    "    def panel(self):\n",
    "        return pn.pane.Markdown(f'# {self.value1} * {self.value2}')\n",
    "\n",
    "    @param.output('result')\n",
    "    def output(self):\n",
    "        return self.value1 * self.value2\n",
    "\n",
    "class Add(Input):\n",
    "\n",
    "    value1 = param.Integer()\n",
    "    value2 = param.Integer()\n",
    "    operator = param.String(default='+')\n",
    "\n",
    "    def panel(self):\n",
    "        return pn.pane.Markdown(f'# {self.value1} + {self.value2}')\n",
    "\n",
    "    @param.output('result')\n",
    "    def output(self):\n",
    "        return self.value1 + self.value2\n",
    "\n",
    "class Result(Input):\n",
    "\n",
    "    value1 = param.Integer()\n",
    "    value2 = param.Integer()\n",
    "    operator = param.String(default='')\n",
    "    result = param.Integer(default=0)\n",
    "\n",
    "    def panel(self):\n",
    "        return pn.pane.Markdown(f'# {self.value1} {self.operator} {self.value2} = {self.result}')\n",
    "\n",
    "dag = pn.pipeline.Pipeline()\n",
    "\n",
    "dag.add_stage('Input', Input)\n",
    "dag.add_stage('Multiply', Multiply)\n",
    "dag.add_stage('Add', Add)\n",
    "dag.add_stage('Result', Result)\n",
    "\n",
    "dag.define_graph({'Input': ('Multiply', 'Add'), 'Multiply': 'Result', 'Add': 'Result'})"
   ]
  },
  {
   "cell_type": "markdown",
   "id": "f9fb1956",
   "metadata": {},
   "source": [
    "\n",
    "Now we can use any of the layout components to arrange the UI:\n",
    "\n"
   ]
  },
  {
   "cell_type": "code",
   "execution_count": null,
   "id": "beec2d78",
   "metadata": {},
   "outputs": [],
   "source": [
    "pn.Column(\n",
    "    dag.title,\n",
    "    pn.Row(dag.buttons, pn.layout.HSpacer(), dag.stage),\n",
    "    dag.network\n",
    ")"
   ]
  },
  {
   "cell_type": "markdown",
   "id": "cdde0ab3",
   "metadata": {},
   "source": [
    "\n",
    "## Related Resources\n",
    "- The [How to > Create a Non-Linear Pipeline](./complex_pipeline.md) guide contains a walk-through of the type of pipeline used on the current page.\n"
   ]
  }
 ],
 "metadata": {},
 "nbformat": 4,
 "nbformat_minor": 5
}
