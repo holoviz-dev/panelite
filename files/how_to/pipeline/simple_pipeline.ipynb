{
 "cells": [
  {
   "cell_type": "markdown",
   "id": "39037a5b",
   "metadata": {},
   "source": [
    "<div class=\"alert alert-block alert-success\">\n",
    "<em>Panelite</em> is powered by young technologies like <a href=\"https://pyodide.org/en/stable/\">Pyodide</a> and <a href=\"https://jupyterlite.readthedocs.io/en/latest/\">Jupyterlite</a>. Some browsers may be poorly supported (e.g. mobile or 32-bit versions). If you experience issues, please <a href=\"https://github.com/holoviz/panel/issues\">report them</a>.\n",
    "</div>"
   ]
  },
  {
   "cell_type": "code",
   "execution_count": null,
   "id": "59820e14",
   "metadata": {},
   "outputs": [],
   "source": [
    "import piplite\n",
    "await piplite.install(['holoviews'])"
   ]
  },
  {
   "cell_type": "markdown",
   "id": "674a27ca",
   "metadata": {},
   "source": [
    "# Create a `Pipeline`\n",
    "\n",
    "This guide addresses how to connect multiple panels into a `Pipeline` to express complex multi-page workflows where the output of one stage feeds into the next stage.\n",
    "\n",
    "```{admonition} Prerequisites\n",
    "1. The [Param with Panel How-to Guides](../param/index.md) describe how to set up classes that declare parameters and link them to some computation or visualization.\n",
    "```\n",
    "\n",
    "---\n",
    "\n",
    "To start, lets instantiate an empty `Pipeline`. We will use the 'katex' extension to render mathematical notation in this example.\n",
    "\n"
   ]
  },
  {
   "cell_type": "code",
   "execution_count": null,
   "id": "0208a6d1",
   "metadata": {},
   "outputs": [],
   "source": [
    "import param\n",
    "import panel as pn\n",
    "pn.extension('katex')\n",
    "\n",
    "pipeline = pn.pipeline.Pipeline()"
   ]
  },
  {
   "cell_type": "markdown",
   "id": "2b56202e",
   "metadata": {},
   "source": [
    "\n",
    "Now let's populate the pipeline with our first stage which takes two inputs (`a` and `b`) and produces two outputs (`c`, computed by multiplying the inputs, and `d`, computed by raising `a` to the power `b`).\n",
    "\n",
    "To create this stage, let's:\n",
    "\n",
    "1. Declare a Parameterized class with some input parameters (e.g. `a = param.Integer`)\n",
    "2. Decorate a method with `@param.output` to declare outputs (we'll discuss this more later)\n",
    "3. Declare a `panel` method that returns a view of this stage's object\n",
    "\n"
   ]
  },
  {
   "cell_type": "code",
   "execution_count": null,
   "id": "3e3b726b",
   "metadata": {},
   "outputs": [],
   "source": [
    "class Stage1(param.Parameterized):\n",
    "\n",
    "    a = param.Integer(default=2, bounds=(0, 10))\n",
    "    b = param.Integer(default=3, bounds=(0, 10))\n",
    "\n",
    "    @param.output(('c', param.Integer), ('d', param.Integer))\n",
    "    def output(self):\n",
    "        return self.a * self.b, self.a ** self.b\n",
    "\n",
    "    @param.depends('a', 'b')\n",
    "    def view(self):\n",
    "        c, d = self.output()\n",
    "        c_out = pn.pane.LaTeX('${a} * {b} = {c}$'.format(\n",
    "            a=self.a, b=self.b, c=c), styles={'font-size': '2em'})\n",
    "        d_out = pn.pane.LaTeX('${a}^{{{b}}} = {d}$'.format(\n",
    "            a=self.a, b=self.b, d=d), styles={'font-size': '2em'})\n",
    "        return pn.Column(\n",
    "\t\t    c_out, d_out,  margin=(40, 10), styles={'background': '#f0f0f0'}\n",
    "\t\t)\n",
    "\n",
    "    def panel(self):\n",
    "        return pn.Row(self.param, self.view,)"
   ]
  },
  {
   "cell_type": "markdown",
   "id": "0d532aa8",
   "metadata": {},
   "source": [
    "\n",
    "We can now render this stage on its own:\n",
    "\n"
   ]
  },
  {
   "cell_type": "code",
   "execution_count": null,
   "id": "f60b2a1d",
   "metadata": {},
   "outputs": [],
   "source": [
    "stage1 = Stage1()\n",
    "stage1.panel()"
   ]
  },
  {
   "cell_type": "markdown",
   "id": "cc29567e",
   "metadata": {},
   "source": [
    "\n",
    "Before we create a second stage let's briefly discuss the some details about the system of outputs that links the stages. To declare the output for our first stage, we decorated one of its methods with `@param.output(('c', param.Integer), ('d', param.Integer))`. However, there are multiple ways to declare outputs with this decorator:\n",
    "\n",
    "* `param.output()`: Declaring an output without arguments will declare that the method returns an output that will inherit the **name of the method** and does not make any specific type declarations.\n",
    "* `param.output(param.Integer)`: Declaring an output with a specific `Parameter` or Python type also declares an output with the name of the method but declares that the output will be of a specific type.\n",
    "* `param.output(c=param.Integer)`: Declaring an output using a keyword argument allows overriding the method name as the name of the output and declares the type.\n",
    "\n",
    "It is also possible to declare multiple outputs, either as keywords or tuples:\n",
    "\n",
    "* `param.output(c=param.Integer, d=param.String)` or\n",
    "* `param.output(('c', param.Integer), ('d', param.String))`\n",
    "\n",
    "Importantly, in addition to passing along the outputs designated with `param.output()`, the Pipeline will also pass along the values of any input parameters whose names match input parameters on the next stage (unless `inherit_params` is set to `False`).\n",
    "\n",
    "Ok, enough explanation, let's take a look at the outputs of our first stage:\n",
    "\n"
   ]
  },
  {
   "cell_type": "code",
   "execution_count": null,
   "id": "e1bdaa0b",
   "metadata": {},
   "outputs": [],
   "source": [
    "stage1.param.outputs()"
   ]
  },
  {
   "cell_type": "markdown",
   "id": "5e15235e",
   "metadata": {},
   "source": [
    "\n",
    "Our `Pipeline` will use this information to determine what outputs are available to be fed into the next stage of the workflow.\n",
    "\n",
    "Now let's set up a second stage that will also declare a `c` input Parameter to consume the `c` output of the first stage. Note, the second stage does not have to consume all parameters, and here we will ignore the first stage's output `d`. Otherwise, the second stage below is very similar to the first one; it declares both a ``view`` method that depends on the parameters of the class, and a ``panel`` method that returns a view of the object. As this is our last stage, we don't need to define any further outputs.\n",
    "\n"
   ]
  },
  {
   "cell_type": "code",
   "execution_count": null,
   "id": "273508f8",
   "metadata": {},
   "outputs": [],
   "source": [
    "class Stage2(param.Parameterized):\n",
    "\n",
    "    c = param.Integer(default=6, bounds=(0, None))\n",
    "    exp = param.Number(default=0.1, bounds=(0, 3))\n",
    "\n",
    "    @param.depends('c', 'exp')\n",
    "    def view(self):\n",
    "        out = pn.pane.LaTeX('${%s}^{%s}={%.3f}$' % (self.c, self.exp, self.c**self.exp),\n",
    "                      styles={'font-size': '2em'})\n",
    "        return pn.Column(out, margin=(40, 10), styles={'background': '#f0f0f0'})\n",
    "\n",
    "    def panel(self):\n",
    "        return pn.Row(self.param, self.view)"
   ]
  },
  {
   "cell_type": "markdown",
   "id": "309beab1",
   "metadata": {},
   "source": [
    "\n",
    "Now let's add our stages to our `Pipeline` using the `add_stage` method\n",
    "\n"
   ]
  },
  {
   "cell_type": "code",
   "execution_count": null,
   "id": "278661dd",
   "metadata": {},
   "outputs": [],
   "source": [
    "pipeline.add_stage('Stage 1', Stage1)\n",
    "pipeline.add_stage('Stage 2', Stage2)"
   ]
  },
  {
   "cell_type": "markdown",
   "id": "c7750bde",
   "metadata": {},
   "source": [
    "\n",
    "Finally, to display the `pipeline` UI we simply let it render itself:\n",
    "\n"
   ]
  },
  {
   "cell_type": "code",
   "execution_count": null,
   "id": "7ace2b19",
   "metadata": {},
   "outputs": [],
   "source": [
    "pipeline"
   ]
  },
  {
   "cell_type": "markdown",
   "id": "018e5fef",
   "metadata": {},
   "source": [
    "\n",
    "As you can see the ``Pipeline`` renders a diagram displaying the available stages in the workflow along with previous and next buttons to move between each stage. Note also when progressing to Stage 2, the `c` parameter widget is not rendered because its value has been provided by the previous stage.\n",
    "\n",
    "Here is the complete code for this section in case you want to easily copy it:\n",
    "\n"
   ]
  },
  {
   "cell_type": "code",
   "execution_count": null,
   "id": "c1e9e54a",
   "metadata": {},
   "outputs": [],
   "source": [
    "import param\n",
    "import panel as pn\n",
    "pn.extension('katex')\n",
    "\n",
    "pipeline = pn.pipeline.Pipeline()\n",
    "\n",
    "class Stage1(param.Parameterized):\n",
    "\n",
    "    a = param.Integer(default=2, bounds=(0, 10))\n",
    "    b = param.Integer(default=3, bounds=(0, 10))\n",
    "\n",
    "    @param.output(('c', param.Integer), ('d', param.Integer))\n",
    "    def output(self):\n",
    "        return self.a * self.b, self.a ** self.b\n",
    "\n",
    "    @param.depends('a', 'b')\n",
    "    def view(self):\n",
    "        c, d = self.output()\n",
    "        c_out = pn.pane.LaTeX('${a} * {b} = {c}$'.format(\n",
    "            a=self.a, b=self.b, c=c), styles={'font-size': '2em'})\n",
    "        d_out = pn.pane.LaTeX('${a}^{{{b}}} = {d}$'.format(\n",
    "            a=self.a, b=self.b, d=d), styles={'font-size': '2em'})\n",
    "        return pn.Column(c_out, d_out,  margin=(40, 10), styles={'background': '#f0f0f0'})\n",
    "\n",
    "    def panel(self):\n",
    "        return pn.Row(self.param, self.view,)\n",
    "\n",
    "class Stage2(param.Parameterized):\n",
    "\n",
    "    c = param.Integer(default=6, bounds=(0, None))\n",
    "    exp = param.Number(default=0.1, bounds=(0, 3))\n",
    "\n",
    "    @param.depends('c', 'exp')\n",
    "    def view(self):\n",
    "        out = pn.pane.LaTeX('${%s}^{%s}={%.3f}$' % (self.c, self.exp, self.c**self.exp),\n",
    "                      styles={'font-size': '2em'})\n",
    "        return pn.Column(out, margin=(40, 10), styles={'background': '#f0f0f0'})\n",
    "\n",
    "    def panel(self):\n",
    "        return pn.Row(self.param, self.view)\n",
    "\n",
    "pipeline.add_stage('Stage 1', Stage1)\n",
    "pipeline.add_stage('Stage 2', Stage2)\n",
    "\n",
    "pipeline"
   ]
  },
  {
   "cell_type": "markdown",
   "id": "72dc682d",
   "metadata": {},
   "source": [
    "\n",
    "## Related Resources\n",
    "\n",
    "- The [How to > Param with Panel](../param/index) guides demonstrate how to set up classes that declare parameters and link them to some computation or visualization.\n"
   ]
  }
 ],
 "metadata": {},
 "nbformat": 4,
 "nbformat_minor": 5
}
