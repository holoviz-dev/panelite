{
 "cells": [
  {
   "cell_type": "markdown",
   "id": "fedec745",
   "metadata": {},
   "source": [
    "# Control Size\n",
    "\n",
    "This guide addresses how to control the size of components.\n",
    "\n",
    "---\n",
    "\n",
    "Components can use either one of the responsive sizing modes or absolute sizing.\n",
    "\n",
    ":::{admonition} Important\n",
    ":class: important\n",
    "\n",
    "Unlike other components, the size of a plot component is usually determined by the underlying plotting library, so it may be necessary to ensure that you set the size and aspect when declaring the plot.\n",
    "\n",
    ":::\n",
    "\n",
    "## Absolute Sizing\n",
    "\n",
    "To set a fixed size on a component, it is usually sufficient to set a `width` or `height`, but in certain cases setting ``sizing_mode='fixed'`` explicitly may also be required.\n",
    "\n",
    "Let's create a simple example that fixes the height or width of several components:\n",
    "\n"
   ]
  },
  {
   "cell_type": "code",
   "execution_count": null,
   "id": "95afec94",
   "metadata": {},
   "outputs": [],
   "source": [
    "import panel as pn\n",
    "pn.extension() # for notebook\n",
    "\n",
    "pn.Row(\n",
    "    pn.pane.Markdown('ABCDE', styles={'background': '#f0f0f0'}, width=75, height=100),\n",
    "    pn.widgets.FloatSlider(width=200, styles={'background': '#f0f0f0'}),\n",
    "    pn.pane.PNG('https://upload.wikimedia.org/wikipedia/commons/4/47/PNG_transparency_demonstration_1.png', width=300, styles={'background': '#f0f0f0'}),\n",
    ")"
   ]
  },
  {
   "cell_type": "markdown",
   "id": "4ade16af",
   "metadata": {},
   "source": [
    "\n",
    "Now let's use ``sizing_mode='fixed'`` to create a fixed-size component. This will retain the object's original width and height regardless of any subsequent browser window resize events. This is usually the default behavior and simply respects the provided width and height.\n",
    "\n"
   ]
  },
  {
   "cell_type": "code",
   "execution_count": null,
   "id": "4562cd96",
   "metadata": {},
   "outputs": [],
   "source": [
    "pn.pane.PNG('https://upload.wikimedia.org/wikipedia/commons/8/89/PNG-Gradient.png', sizing_mode='fixed')"
   ]
  },
  {
   "cell_type": "markdown",
   "id": "93c64356",
   "metadata": {},
   "source": [
    "\n",
    "## Responsive Sizing\n",
    "\n",
    "Most panel objects support reactive sizing which adjusts depending on the size of the visible area of a web page. Responsive sizing modes can be controlled using the ``sizing_mode`` parameter with the following options:\n",
    "\n",
    "* **\"stretch_width\"**: Component will responsively resize to stretch to the available width, without maintaining any aspect ratio. The height of the component depends on the type of the component and may be fixed or fit to component's contents. To demonstrate this behavior we create a Row with a fixed height and responsive width to fill:\n",
    "\n"
   ]
  },
  {
   "cell_type": "code",
   "execution_count": null,
   "id": "423b650e",
   "metadata": {},
   "outputs": [],
   "source": [
    "pn.Row(\n",
    "    pn.pane.Str(styles={'background': '#f0f0f0'}, height=100, sizing_mode='stretch_width'),\n",
    "    width_policy='max', height=200\n",
    ")"
   ]
  },
  {
   "cell_type": "markdown",
   "id": "968f6806",
   "metadata": {},
   "source": [
    "\n",
    "* **\"stretch_height\"**: Component will responsively resize to stretch to the available height, without maintaining any aspect ratio. The width of the component depends on the type of the component and may be fixed or fit to component's contents. To demonstrate the filling behavior in a document we declare a Column with a fixed height for the component to fill:\n",
    "\n"
   ]
  },
  {
   "cell_type": "code",
   "execution_count": null,
   "id": "402457c2",
   "metadata": {},
   "outputs": [],
   "source": [
    "pn.Column(\n",
    "    pn.pane.Str(styles={'background': '#f0f0f0'}, sizing_mode='stretch_height', width=200),\n",
    "    height=200\n",
    ")"
   ]
  },
  {
   "cell_type": "markdown",
   "id": "f31f08da",
   "metadata": {},
   "source": [
    "\n",
    "* **\"stretch_both\"**: Component is completely responsive, independently in width and height, and will occupy all the available horizontal and vertical space, even if this changes the aspect ratio of the component. To demonstrate this behavior we will declare a Column with a fixed height and responsive width for the component to fill:\n",
    "\n"
   ]
  },
  {
   "cell_type": "code",
   "execution_count": null,
   "id": "de04bb1e",
   "metadata": {},
   "outputs": [],
   "source": [
    "pn.Column(\n",
    "    pn.pane.Str(styles={'background': '#f0f0f0'}, sizing_mode='stretch_both'),\n",
    "    height=200, width_policy='max'\n",
    ")"
   ]
  },
  {
   "cell_type": "markdown",
   "id": "b8df5156",
   "metadata": {},
   "source": [
    "\n",
    "* **\"scale_height\"**: Component will responsively resize to stretch to the available height, while maintaining the original or provided aspect ratio.\n",
    "* **\"scale_width\"**: Component will responsively resize to stretch to the available width, while maintaining the original or provided aspect ratio.\n",
    "* **\"scale_both\"**: Component will responsively resize to both the available width and height, while maintaining the original or provided aspect ratio. For example:\n",
    "\n",
    "\n"
   ]
  },
  {
   "cell_type": "code",
   "execution_count": null,
   "id": "35e7aa53",
   "metadata": {},
   "outputs": [],
   "source": [
    "pn.Column(\n",
    "    pn.pane.PNG(\n",
    "        'https://upload.wikimedia.org/wikipedia/commons/4/47/PNG_transparency_demonstration_1.png',\n",
    "        sizing_mode='scale_both'\n",
    "    ), height=400, width=500, styles={'background': '#f0f0f0'})"
   ]
  },
  {
   "cell_type": "markdown",
   "id": "918499d9",
   "metadata": {},
   "source": [
    "\n",
    "---\n",
    "\n",
    "## Related Resources\n"
   ]
  }
 ],
 "metadata": {},
 "nbformat": 4,
 "nbformat_minor": 5
}
