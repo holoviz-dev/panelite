{
 "cells": [
  {
   "cell_type": "markdown",
   "id": "34e545a7",
   "metadata": {},
   "source": [
    "# Align Components\n",
    "\n",
    "This guide addresses how to customize the alignment between components.\n",
    "\n",
    "---\n",
    "\n",
    "The `align` parameter controls how components align vertically and horizontally. It supports 'start', 'center', and 'end' values and can be set for both horizontal and vertical directions at once or for each separately by passing in a tuple of the form `(horizontal, vertical)`.\n",
    "\n",
    "One common use-case where alignment is important is when placing multiple items with different heights in a `Row`. Let's create a big button and align a slider to the center of the button using `align=center`:\n",
    "\n"
   ]
  },
  {
   "cell_type": "code",
   "execution_count": null,
   "id": "7c4f37d3",
   "metadata": {},
   "outputs": [],
   "source": [
    "import panel as pn\n",
    "pn.extension() # for notebook\n",
    "\n",
    "button = pn.widgets.Button(name='Test', height=100)\n",
    "slider = pn.widgets.IntSlider(align='center')\n",
    "\n",
    "pn.Row(button, slider, styles={'background': 'lightgrey'})"
   ]
  },
  {
   "cell_type": "markdown",
   "id": "cbbcc4b0",
   "metadata": {},
   "source": [
    "\n",
    "Now, let's look at aligning components in a grid with an instance of passing in `(horizontal, vertical)`:\n",
    "\n"
   ]
  },
  {
   "cell_type": "code",
   "execution_count": null,
   "id": "a3e834a1",
   "metadata": {},
   "outputs": [],
   "source": [
    "pn.GridBox(\n",
    "    pn.widgets.Button(name='Test', height=100),\n",
    "    pn.widgets.IntSlider(align='center'),\n",
    "    pn.widgets.TextInput(name='Test', height=100, width=100, align=('center')),\n",
    "    pn.widgets.TextInput(width=150, align=('start', 'end')),\n",
    "    ncols=2,\n",
    "    styles={'background': 'lightgrey'}\n",
    ")"
   ]
  },
  {
   "cell_type": "markdown",
   "id": "4d2d0a2c",
   "metadata": {},
   "source": [
    "\n",
    "---\n",
    "\n",
    "## Related Resources\n"
   ]
  }
 ],
 "metadata": {},
 "nbformat": 4,
 "nbformat_minor": 5
}
