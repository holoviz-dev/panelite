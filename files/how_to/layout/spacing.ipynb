{
 "cells": [
  {
   "cell_type": "markdown",
   "id": "af716976",
   "metadata": {},
   "source": [
    "# Customize Spacing\n",
    "\n",
    "This guide addresses how to customize the spacing between elements.\n",
    "\n",
    "---\n",
    "\n",
    "The spacing between components is controlled by setting the margin parameter on individual components and by adding Spacers between components.\n",
    "\n",
    "## Margin Parameter\n",
    "\n",
    "The ``margin`` parameter can be used to create space around an element defined as the number of pixels at the (top, right, bottom, and left). The ``margin`` can be defined in one of three ways:\n",
    "\n",
    "1. By setting ``margin=25``, which will set the margin on all sides to 25 px.\n",
    "2. By setting ``margin=(25, 50)``, which will set the top and bottom margins to 25 px and the left and right margins to 50 px.\n",
    "3. By setting ``margin=(25, 50, 75, 100)``, which will set the top, right, bottom, and left margins to 25, 50, 75, and 100 px, respectively.\n",
    "\n",
    "For example, let's create three buttons and customize their margin. To make it easier to see the margin area, we'll embed each into a `Column` and then shade the `Column` background.\n",
    "\n"
   ]
  },
  {
   "cell_type": "code",
   "execution_count": null,
   "id": "471522c6",
   "metadata": {},
   "outputs": [],
   "source": [
    "import panel as pn\n",
    "\n",
    "pn.extension() # for notebook\n",
    "\n",
    "pn.Row(\n",
    "    pn.Column(pn.widgets.Button(name='B1', width=100, margin=25), styles={'background': '#f0f0f0'}),\n",
    "    pn.Column(pn.widgets.Button(name='B2', width=100, margin=(40, 50)), styles={'background': '#f0f0f0'}),\n",
    "    pn.Column(pn.widgets.Button(name='B3', width=100, margin=(25, 50, 75, 100)), styles={'background': '#f0f0f0'}))\n"
   ]
  },
  {
   "cell_type": "markdown",
   "id": "ac0fa445",
   "metadata": {},
   "source": [
    "\n",
    "## Spacer Components\n",
    "\n",
    "Spacer components make it easy to put fixed or responsive spacing between objects.\n",
    "\n",
    "First, let's add fixed-width Spacers in between some numbers:\n",
    "\n"
   ]
  },
  {
   "cell_type": "code",
   "execution_count": null,
   "id": "b4b0cabc",
   "metadata": {},
   "outputs": [],
   "source": [
    "pn.Row(\n",
    "    1,\n",
    "    pn.Spacer(width=200),\n",
    "    2,\n",
    "    pn.Spacer(width=100),\n",
    "    3,\n",
    "    pn.Spacer(width=50),\n",
    "    4,\n",
    "    pn.Spacer(width=25),\n",
    "    5\n",
    ")"
   ]
  },
  {
   "cell_type": "markdown",
   "id": "13705705",
   "metadata": {},
   "source": [
    "\n",
    "Instead of absolute spacing, we could use ``VSpacer`` or ``HSpacer`` components to provide responsive vertical and horizontal spacing, respectively. Using these components we can space objects equidistantly in a layout and allow the empty space to shrink when the browser is resized.\n",
    "\n"
   ]
  },
  {
   "cell_type": "code",
   "execution_count": null,
   "id": "9f9f1362",
   "metadata": {},
   "outputs": [],
   "source": [
    "pn.Row(\n",
    "    pn.layout.HSpacer(),\n",
    "    '* Item 1\\n* Item2',\n",
    "    pn.layout.HSpacer(),\n",
    "    '1. First\\n2. Second',\n",
    "    pn.layout.HSpacer()\n",
    ")"
   ]
  },
  {
   "cell_type": "markdown",
   "id": "1020bc77",
   "metadata": {},
   "source": [
    "\n",
    "---\n",
    "\n",
    "## Related Resources\n"
   ]
  }
 ],
 "metadata": {},
 "nbformat": 4,
 "nbformat_minor": 5
}
