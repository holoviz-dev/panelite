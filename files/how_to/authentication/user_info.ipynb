{
 "cells": [
  {
   "cell_type": "markdown",
   "id": "0fa74e58",
   "metadata": {},
   "source": [
    "# Accessing User information\n",
    "\n",
    "## User State\n",
    "\n",
    "Once a user is authorized with the chosen OAuth provider certain user information and an `access_token` will be available to be used in the session to customize the user experience. Like all other session state this may be accessed on the `pn.state` object, specifically it makes four attributes available:\n",
    "\n",
    "* **`pn.state.user`**: A unique name, email or ID that identifies the user.\n",
    "* **`pn.state.access_token`**: The access token issued by the OAuth provider to authorize requests to its APIs.\n",
    "* **`pn.state.refresh_token`**: The refresh token issued by the OAuth provider to authorize requests to its APIs (if available these are usually longer lived than the `access_token`).\n",
    "* **`pn.state.user_info`**: Additional user information provided by the OAuth provider. This may include names, email, APIs to request further user information, IDs and more.\n",
    "\n",
    ":::{note}\n",
    "\n",
    "Please note that the user information above is only available to the users session. Its not shared across sessions.\n",
    "\n",
    ":::\n",
    "\n",
    "## Related Topics\n",
    "\n",
    "- [Authorization Callbacks](authorization): Discover how to configure an authorization callback to perform custom authorization logic based on the user info such as redirects or error pages\n"
   ]
  }
 ],
 "metadata": {},
 "nbformat": 4,
 "nbformat_minor": 5
}
