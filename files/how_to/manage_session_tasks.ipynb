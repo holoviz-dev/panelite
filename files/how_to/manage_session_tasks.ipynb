{
 "cells": [
  {
   "cell_type": "markdown",
   "id": "1c3156ed",
   "metadata": {},
   "source": [
    ".. raw:: html\n",
    "    <head>\n",
    "        <meta http-equiv='refresh' content='0; URL=./index.html#manage-session-tasks'>\n",
    "    </head>\n",
    "\n",
    "# Manage session tasks\n",
    "\n",
    "```{toctree}\n",
    ":titlesonly:\n",
    ":hidden:\n",
    ":maxdepth: 1\n",
    "\n",
    "Register Session Callbacks<callbacks/index>\n",
    "Access Session State<state/index>\n",
    "```\n"
   ]
  }
 ],
 "metadata": {},
 "nbformat": 4,
 "nbformat_minor": 5
}
