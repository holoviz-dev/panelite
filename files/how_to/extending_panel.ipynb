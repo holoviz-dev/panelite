{
 "cells": [
  {
   "cell_type": "markdown",
   "id": "85f7db1a",
   "metadata": {},
   "source": [
    ".. raw:: html\n",
    "    <head>\n",
    "        <meta http-equiv='refresh' content='0; URL=./index.html#extending-panel>\n",
    "    </head>\n",
    "\n",
    "# Extending Panel\n",
    "\n",
    "```{toctree}\n",
    ":titlesonly:\n",
    ":hidden:\n",
    ":maxdepth: 1\n",
    "\n",
    "Create Custom Components<custom_components/index>\n",
    "```\n"
   ]
  }
 ],
 "metadata": {},
 "nbformat": 4,
 "nbformat_minor": 5
}
