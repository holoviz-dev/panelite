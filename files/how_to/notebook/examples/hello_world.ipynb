{
 "cells": [
  {
   "cell_type": "markdown",
   "id": "c2145cd5",
   "metadata": {},
   "source": [
    "# My App\n",
    "\n",
    "```python\n",
    "import panel as pn\n",
    "\n",
    "pn.extension(template='fast')\n",
    "```\n",
    "\n",
    "This application provides a minimal example demonstrating how to write an app in a Markdown file.\n",
    "\n",
    "```python\n",
    "widget = pn.widgets.TextInput(value='world')\n",
    "\n",
    "def hello_world(text):\n",
    "    return f'Hello {text}!'\n",
    "\n",
    "pn.Row(widget, pn.bind(hello_world, widget)).servable()\n",
    "```\n"
   ]
  }
 ],
 "metadata": {},
 "nbformat": 4,
 "nbformat_minor": 5
}
