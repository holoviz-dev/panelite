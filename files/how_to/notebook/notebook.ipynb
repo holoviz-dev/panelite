{
 "cells": [
  {
   "cell_type": "markdown",
   "id": "f52072f4",
   "metadata": {},
   "source": [
    "# Display Output in Notebooks\n",
    "\n",
    "This guide addresses how to display output in Jupyter and non-Jupyter based notebook environments.\n",
    "\n",
    "---\n",
    "\n",
    "Once you have installed Panel it should automatically set up class Jupyter notebook and JupyterLab extensions for rendering Panel output and configuring communication channels to ensure the rendered output syncs bi-directionally with the Python process.\n",
    "\n",
    "## Run Panel in another notebook kernel\n",
    "\n",
    "You generally have two ways to install JupyterLab/Jupyter Notebook:\n",
    "\n",
    "1. directly in your working environment that contains all the dependencies you need to run your project\n",
    "2. in another environment, maybe a central environment or an environment dedicated to Jupyter, in which case when you run a notebook you should pick the kernel of your project environment\n",
    "\n",
    "When in the second setup, you need to ensure that `pyviz_comms` is explicitly installed in the same environment as JupyterLab/Jupyter Notebook (with `conda install pyviz_comms` or `pip install pyviz-comms`) for bi-directional communication to be fully working.\n",
    "\n",
    "## Loading the extension\n",
    "\n",
    "The first step when working in a notebook environment should always be to load the `panel.extension`:\n",
    "\n"
   ]
  },
  {
   "cell_type": "code",
   "execution_count": null,
   "id": "d34350c9",
   "metadata": {},
   "outputs": [],
   "source": [
    "import panel as pn\n",
    "\n",
    "pn.extension()"
   ]
  },
  {
   "cell_type": "markdown",
   "id": "8abc1366",
   "metadata": {},
   "source": [
    "\n",
    "The extension ensures that all required Javascript and CSS resources are added to your notebook environment. If you are going to be using any custom extensions, such as [Vega](../../reference/panes/Vega) or [Tabulator](../../reference/widgets/Tabulator) you must ensure that you initialize these as well:\n",
    "\n"
   ]
  },
  {
   "cell_type": "code",
   "execution_count": null,
   "id": "2bd41100",
   "metadata": {},
   "outputs": [],
   "source": [
    "pn.extension('vega', 'tabulator')"
   ]
  },
  {
   "cell_type": "markdown",
   "id": "3b7d25d9",
   "metadata": {},
   "source": [
    "\n",
    "## Display output\n",
    "\n",
    "One of the major benefits of notebook environments is that they support rich output. This means that if you place an object with rich output at the end of a cell the notebook will figure out how to render the rich representation. Panel uses this mechanism to ensure that all components return a rich representation:\n",
    "\n"
   ]
  },
  {
   "cell_type": "code",
   "execution_count": null,
   "id": "4096bf7a",
   "metadata": {},
   "outputs": [],
   "source": [
    "pane = pn.panel('<marquee>Here is some custom HTML</marquee>')\n",
    "\n",
    "pane"
   ]
  },
  {
   "cell_type": "markdown",
   "id": "03a606ec",
   "metadata": {},
   "source": [
    "\n",
    "To instead see a textual representation of the component, you can use the `print` function on any Panel object:\n",
    "\n"
   ]
  },
  {
   "cell_type": "code",
   "execution_count": null,
   "id": "e62009c1",
   "metadata": {},
   "outputs": [],
   "source": [
    "print(pane)"
   ]
  },
  {
   "cell_type": "markdown",
   "id": "8c010fc4",
   "metadata": {},
   "source": [
    "\n",
    "### The ``display`` function\n",
    "\n",
    ":::{attention}\n",
    "The `display` function is an IPython built-in and will only work in notebooks.\n",
    ":::\n",
    "\n",
    "To avoid having to put a Panel on the last line of a notebook cell, e.g. to display it from inside a function call, you can use the IPython built-in ``display`` function:\n",
    "\n"
   ]
  },
  {
   "cell_type": "code",
   "execution_count": null,
   "id": "0f9673b0",
   "metadata": {},
   "outputs": [],
   "source": [
    "def display_marquee(text):\n",
    "    display(pn.panel('<marquee>{text}</marquee>'.format(text=text)))\n",
    "\n",
    "display_marquee('This Panel was displayed from within a function')"
   ]
  },
  {
   "cell_type": "markdown",
   "id": "952caac8",
   "metadata": {},
   "source": [
    "\n",
    "## Render as ipywidget\n",
    "\n",
    "While Jupyter Notebook and JupyterLab support rendering arbitrary MIME types many other notebook environments (such as VSCode notebooks) only support bi-directional communication channels when rendering an IPyWidget. Therefore Panel provides a compatibility wrapper that makes it possible to wrap a Panel component in an IPywidget. To enable ipywidgets support globally you can set the `comms` option:\n",
    "\n",
    "```python\n",
    "pn.extension(comms='ipywidgets')\n",
    "# or\n",
    "pn.config.comms = 'ipywidgets'\n",
    "```\n",
    "\n",
    "Note that this happens automatically when running Panel inside VSCode and Google Colab but may be needed in other notebook environments. This global setting can also be useful when trying to serve an entire notebook using [Voilà](https://github.com/voila-dashboards/voila). Alternatively, we can convert individual objects to an ipywidget one at a time using the `pn.ipywidget()` function:\n",
    "\n",
    "```python\n",
    "ipywidget = pn.ipywidget(pane)\n",
    "ipywidget\n",
    "```\n",
    "\n",
    "This approach also allows combining a Panel object with any other Jupyter-widget--based model:\n",
    "\n",
    "```python\n",
    "from ipywidgets import Accordion\n",
    "Accordion(children=[pn.ipywidget(pane)])\n",
    "```\n",
    "\n",
    "To use Panel's ipywidgets support in JupyterLab, the following extensions have to be installed:\n",
    "\n",
    "```\n",
    "jupyter labextension install @jupyter-widgets/jupyterlab-manager\n",
    "jupyter labextension install @bokeh/jupyter_bokeh\n",
    "```\n",
    "\n",
    "Additionally the `jupyter_bokeh` package should be installed using either pip:\n",
    "\n",
    "```\n",
    "pip install jupyter_bokeh\n",
    "```\n",
    "\n",
    "or using conda:\n",
    "\n",
    "```\n",
    "conda install -c bokeh jupyter_bokeh\n",
    "```\n",
    "## Related Resources\n"
   ]
  }
 ],
 "metadata": {},
 "nbformat": 4,
 "nbformat_minor": 5
}
