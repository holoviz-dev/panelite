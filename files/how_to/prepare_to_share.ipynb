{
 "cells": [
  {
   "cell_type": "markdown",
   "id": "719fab46",
   "metadata": {},
   "source": [
    ".. raw:: html\n",
    "    <head>\n",
    "        <meta http-equiv='refresh' content='0; URL=./index.html#prepare-to-share'>\n",
    "    </head>\n",
    "\n",
    "# Prepare to share\n",
    "\n",
    "```{toctree}\n",
    ":titlesonly:\n",
    ":hidden:\n",
    ":maxdepth: 1\n",
    "\n",
    "Apply Templates<templates/index>\n",
    "Improve Performance<performance/index>\n",
    "Cache Data<caching/index>\n",
    "Improve Scalability<concurrency/index>\n",
    "Best Practices <best_practices/index>\n",
    "Add Authentication<authentication/index>\n",
    "```\n"
   ]
  }
 ],
 "metadata": {},
 "nbformat": 4,
 "nbformat_minor": 5
}
