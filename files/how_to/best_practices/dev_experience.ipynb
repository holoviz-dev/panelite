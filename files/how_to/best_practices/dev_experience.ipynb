{
 "cells": [
  {
   "cell_type": "markdown",
   "id": "800b3e2c",
   "metadata": {},
   "source": [
    "# Developer Experience\n",
    "\n"
   ]
  },
  {
   "cell_type": "code",
   "execution_count": null,
   "id": "7b9f22aa",
   "metadata": {},
   "outputs": [],
   "source": [
    "import time\n",
    "\n",
    "import param\n",
    "import panel as pn\n",
    "\n",
    "pn.extension()"
   ]
  },
  {
   "cell_type": "markdown",
   "id": "fbd0bb44",
   "metadata": {},
   "source": [
    "\n",
    "The best practices described on this page serve as a checklist of items to keep in mind as you are developing your application. They include items we see users frequently get confused about or things that are easily missed but can make a big difference to the user experience of your application(s).\n",
    "\n",
    ":::{note}\n",
    "- Good: recommended, works.\n",
    "- Okay: works (with intended behavior), potentially inefficient.\n",
    "- Bad: Deprecated (may or may not work), just don't do it.\n",
    "- Wrong: Not intended behavior, won't really work.\n",
    ":::\n",
    "\n",
    "## Bind on reference value, not value\n",
    "\n",
    "### Good\n",
    "\n",
    "Be sure to bind `obj.param.(the current Parameter value).\n",
    "\n"
   ]
  },
  {
   "cell_type": "code",
   "execution_count": null,
   "id": "6ced275c",
   "metadata": {},
   "outputs": [],
   "source": [
    "def show_clicks(clicks):\n",
    "    return f\"Number of clicks: {clicks}\"\n",
    "\n",
    "button = pn.widgets.Button(name=\"Click me!\")\n",
    "clicks = pn.bind(show_clicks, button.param.clicks)\n",
    "pn.Row(button, clicks)"
   ]
  },
  {
   "cell_type": "markdown",
   "id": "274a8d18",
   "metadata": {},
   "source": [
    "\n",
    "### Wrong\n",
    "\n",
    "Binding to `{parameter}` will bind to the single current value of the parameter, _not_ to the underlying object, and so it will not trigger an update on change.\n",
    "\n"
   ]
  },
  {
   "cell_type": "code",
   "execution_count": null,
   "id": "3722b61e",
   "metadata": {},
   "outputs": [],
   "source": [
    "def show_clicks(clicks):\n",
    "    return f\"Number of clicks: {clicks}\"\n",
    "\n",
    "button = pn.widgets.Button(name=\"Click me!\")\n",
    "clicks = pn.bind(show_clicks, button.clicks)  # not button.clicks!\n",
    "pn.Row(button, clicks)"
   ]
  },
  {
   "cell_type": "markdown",
   "id": "2c040efb",
   "metadata": {},
   "source": [
    "\n",
    "## Inherit from `pn.viewer.Viewer` or `pn.custom.PyComponent`\n",
    "\n",
    "### Good\n",
    "\n",
    "`param.Parameterized` is a very general class that can be used separately from Panel for working with Parameters.\n",
    "\n",
    "But if you want a Parameterized class to use with Panel, it is usually appropriate to inherit from the Panel-specific class `pn.viewable.Viewer` instead, because `Viewer` allows direct instantiation of the `Viewer` class, resembling a native Panel object.\n",
    "\n",
    "For example, it's possible to use `ExampleApp().servable()` instead of `ExampleApp().view().servable()`.\n",
    "\n",
    "```python\n",
    "class ExampleApp(pn.viewable.Viewer):\n",
    "\n",
    "    ...\n",
    "\n",
    "    def __panel__(self):\n",
    "        return pn.template.FastListTemplate(\n",
    "            main=[...],\n",
    "            sidebar=[...],\n",
    "        )\n",
    "\n",
    "ExampleApp().servable();\n",
    "```\n",
    "\n",
    "`Viewer` is ideal if you're building a class with some fairly specific business logic, *but* if you are building a reusable component assembled from other Panel components use [`PyComponent`](https://panel.holoviz.org/reference/custom_components/PyComponent.html) instead.\n",
    "\n",
    "```python\n",
    "class MultipleChildren(PyComponent):\n",
    "\n",
    "    objects = Children()\n",
    "\n",
    "    def __panel__(self):\n",
    "        return pn.Column(objects=self.param['objects'], styles={\"background\": \"silver\"})\n",
    "```\n",
    "\n",
    "### Okay\n",
    "\n",
    "Inheriting from `param.Parameterized` also works, but should be reserved for cases where there's no Panel output.\n",
    "\n",
    "```python\n",
    "class ExampleApp(param.Parameterized):\n",
    "\n",
    "    ...\n",
    "\n",
    "    def view(self):\n",
    "        return pn.template.FastListTemplate(\n",
    "            main=[...],\n",
    "            sidebar=[...],\n",
    "        )\n",
    "\n",
    "ExampleApp().view().servable();\n",
    "```\n",
    "\n",
    "## Build widgets from parameters\n",
    "\n",
    "### Good\n",
    "\n",
    "To translate multiple Parameters into widgets, use `pn.Param`.\n",
    "\n"
   ]
  },
  {
   "cell_type": "code",
   "execution_count": null,
   "id": "1f78b4b8",
   "metadata": {},
   "outputs": [],
   "source": [
    "class ExampleApp(pn.viewable.Viewer):\n",
    "\n",
    "    width = param.Integer(default=100, bounds=(1, 200), label=\"Width of box\")\n",
    "    height = param.Integer(default=100, bounds=(1, 250), label=\"Height of box\")\n",
    "    color = param.Color(default=\"red\", label=\"Color of box\")\n",
    "\n",
    "    def __panel__(self):\n",
    "        return pn.Column(\n",
    "            pn.Param(self, widgets={\"height\": pn.widgets.IntInput}),\n",
    "            pn.pane.HTML(\n",
    "                width=self.param.width,\n",
    "                height=self.param.height,\n",
    "                styles={\"background-color\": self.param.color},\n",
    "            ),\n",
    "        )\n",
    "\n",
    "\n",
    "ExampleApp()"
   ]
  },
  {
   "cell_type": "markdown",
   "id": "37e07ffc",
   "metadata": {},
   "source": [
    "\n",
    "### Good\n",
    "\n",
    "You can also use `from_param` to manually build each component.\n",
    "\n"
   ]
  },
  {
   "cell_type": "code",
   "execution_count": null,
   "id": "aa0f5db0",
   "metadata": {},
   "outputs": [],
   "source": [
    "class ExampleApp(pn.viewable.Viewer):\n",
    "\n",
    "    width = param.Integer(default=100, bounds=(1, 200), label=\"Width of box\")\n",
    "    height = param.Integer(default=100, bounds=(1, 250), label=\"Height of box\")\n",
    "    color = param.Color(default=\"red\", label=\"Color of box\")\n",
    "\n",
    "    def __panel__(self):\n",
    "        width_slider = pn.widgets.IntSlider.from_param(self.param.width)\n",
    "        height_input = pn.widgets.IntInput.from_param(self.param.height)\n",
    "        color_picker = pn.widgets.ColorPicker.from_param(self.param.color)\n",
    "        return pn.Column(\n",
    "            width_slider,\n",
    "            height_input,\n",
    "            color_picker,\n",
    "            pn.pane.HTML(\n",
    "                width=self.param.width,\n",
    "                height=self.param.height,\n",
    "                styles={\"background-color\": self.param.color},\n",
    "            ),\n",
    "        )\n",
    "\n",
    "\n",
    "ExampleApp()"
   ]
  },
  {
   "cell_type": "markdown",
   "id": "402a1bc9",
   "metadata": {},
   "source": [
    "\n",
    "### Bad\n",
    "\n",
    "If you instantiate individually through `param`, it's not bidirectional.\n",
    "\n",
    "\n"
   ]
  },
  {
   "cell_type": "code",
   "execution_count": null,
   "id": "c7b6b6f9",
   "metadata": {},
   "outputs": [],
   "source": [
    "class ExampleApp(pn.viewable.Viewer):\n",
    "\n",
    "    width = param.Integer(default=100, bounds=(1, 200), label=\"Width of box\")\n",
    "    height = param.Integer(default=100, bounds=(1, 250), label=\"Height of box\")\n",
    "    color = param.Color(default=\"red\", label=\"Color of box\")\n",
    "\n",
    "    def __panel__(self):\n",
    "        width_slider = pn.widgets.IntSlider(\n",
    "            value=self.param.width,\n",
    "            start=self.param[\"width\"].bounds[0],\n",
    "            end=self.param[\"width\"].bounds[1],\n",
    "            name=self.param[\"width\"].label,\n",
    "        )\n",
    "        height_input = pn.widgets.IntInput(\n",
    "            value=self.param.height,\n",
    "            start=self.param[\"height\"].bounds[0],\n",
    "            end=self.param[\"height\"].bounds[1],\n",
    "            name=self.param[\"height\"].label,\n",
    "        )\n",
    "        color_picker = pn.widgets.ColorPicker(\n",
    "            value=self.param.color,\n",
    "            name=self.param[\"color\"].label,\n",
    "            width=200,\n",
    "        )\n",
    "        return pn.Column(\n",
    "            width_slider,\n",
    "            height_input,\n",
    "            color_picker,\n",
    "            pn.pane.HTML(\n",
    "                width=self.param.width,\n",
    "                height=self.param.height,\n",
    "                styles={\"background-color\": self.param.color},\n",
    "            ),\n",
    "        )\n",
    "\n",
    "\n",
    "ExampleApp()"
   ]
  },
  {
   "cell_type": "markdown",
   "id": "59b475f8",
   "metadata": {},
   "source": [
    "\n",
    "### Bad\n",
    "\n",
    "It's possible to `link` each widget to `self` with `bidirectional=True`, but certain keyword arguments, like `bounds`, cannot be linked easily.\n",
    "\n"
   ]
  },
  {
   "cell_type": "code",
   "execution_count": null,
   "id": "12fbbd15",
   "metadata": {},
   "outputs": [],
   "source": [
    "class ExampleApp(pn.viewable.Viewer):\n",
    "\n",
    "    width = param.Integer(default=100, bounds=(1, 200), label=\"Width of box\")\n",
    "    height = param.Integer(default=100, bounds=(1, 250), label=\"Height of box\")\n",
    "    color = param.Color(default=\"red\", label=\"Color of box\")\n",
    "\n",
    "    def __panel__(self):\n",
    "        width_slider = pn.widgets.IntSlider()\n",
    "        height_input = pn.widgets.IntInput()\n",
    "        color_picker = pn.widgets.ColorPicker()\n",
    "\n",
    "        width_slider.link(self, value=\"width\", bidirectional=True)\n",
    "        height_input.link(self, value=\"height\", bidirectional=True)\n",
    "        color_picker.link(self, value=\"color\", bidirectional=True)\n",
    "\n",
    "        return pn.Column(\n",
    "            width_slider,\n",
    "            height_input,\n",
    "            color_picker,\n",
    "            pn.pane.HTML(\n",
    "                width=self.param.width,\n",
    "                height=self.param.height,\n",
    "                styles={\"background-color\": self.param.color},\n",
    "            ),\n",
    "        )\n",
    "\n",
    "\n",
    "ExampleApp()"
   ]
  },
  {
   "cell_type": "markdown",
   "id": "293cc690",
   "metadata": {},
   "source": [
    "\n",
    "### Wrong\n",
    "\n",
    "Widgets should not be used as if they were Parameters, because then all instances of your new class will share a single set of instantiated widgets, confusing everyone:\n",
    "\n"
   ]
  },
  {
   "cell_type": "code",
   "execution_count": null,
   "id": "bebfab6b",
   "metadata": {},
   "outputs": [],
   "source": [
    "class ExampleApp(pn.viewable.Viewer):\n",
    "\n",
    "    width = pn.widgets.IntSlider()\n",
    "    height = pn.widgets.IntInput()\n",
    "    color = pn.widgets.ColorPicker()"
   ]
  },
  {
   "cell_type": "markdown",
   "id": "6bd38853",
   "metadata": {},
   "source": [
    "\n",
    "## Show templates in notebooks\n",
    "\n",
    "### Good\n",
    "\n",
    "Templates, at the time of writing, are not able to be rendered properly in Jupyter notebooks.\n",
    "\n",
    "To continue working with templates in notebooks, call `show` to pop up a new browser window.\n",
    "\n"
   ]
  },
  {
   "cell_type": "code",
   "execution_count": null,
   "id": "99f610c9",
   "metadata": {},
   "outputs": [],
   "source": [
    "template = pn.template.FastListTemplate(\n",
    "    main=[...],\n",
    "    sidebar=[...],\n",
    ")\n",
    "\n",
    "# template.show()  # commented out to disable opening a new browser tab in example"
   ]
  },
  {
   "cell_type": "markdown",
   "id": "1612d81c",
   "metadata": {},
   "source": [
    "\n",
    "### Okay\n",
    "\n",
    "Alternatively, you can use a barebones notebook template like the one below.\n",
    "\n"
   ]
  },
  {
   "cell_type": "code",
   "execution_count": null,
   "id": "b22de449",
   "metadata": {},
   "outputs": [],
   "source": [
    "class NotebookPlaceholderTemplate(pn.viewable.Viewer):\n",
    "    main = param.List()\n",
    "    sidebar = param.List()\n",
    "    header = param.List()\n",
    "    title = param.String()\n",
    "\n",
    "    def __panel__(self):\n",
    "        title = pn.pane.Markdown(f\"# {self.title}\", sizing_mode=\"stretch_width\")\n",
    "        # pastel blue\n",
    "        header_row = pn.Row(\n",
    "            title,\n",
    "            *self.header,\n",
    "            sizing_mode=\"stretch_width\",\n",
    "            styles={\"background\": \"#e6f2ff\"},\n",
    "        )\n",
    "        main_col = pn.WidgetBox(*self.main, sizing_mode=\"stretch_both\")\n",
    "        sidebar_col = pn.WidgetBox(\n",
    "            *self.sidebar, width=300, sizing_mode=\"stretch_height\"\n",
    "        )\n",
    "        return pn.Column(\n",
    "            header_row,\n",
    "            pn.Row(sidebar_col, main_col, sizing_mode=\"stretch_both\"),\n",
    "            sizing_mode=\"stretch_both\",\n",
    "            min_height=400,\n",
    "        )\n",
    "\n",
    "template = pn.template.FastListTemplate(\n",
    "    main=[...],\n",
    "    sidebar=[...],\n",
    ")\n",
    "\n",
    "template;"
   ]
  },
  {
   "cell_type": "markdown",
   "id": "0b552ed5",
   "metadata": {},
   "source": [
    "\n",
    "## Yield to show intermediate values\n",
    "\n",
    "### Good\n",
    "\n",
    "Use a generator (yield) to provide incremental updates.\n",
    "\n"
   ]
  },
  {
   "cell_type": "code",
   "execution_count": null,
   "id": "bba324ad",
   "metadata": {},
   "outputs": [],
   "source": [
    "def increment_to_value(value):\n",
    "    for i in range(value):\n",
    "        time.sleep(0.1)\n",
    "        yield i\n",
    "\n",
    "slider = pn.widgets.IntSlider(start=1, end=10)\n",
    "output = pn.bind(increment_to_value, slider.param.value_throttled)\n",
    "pn.Row(slider, output)"
   ]
  },
  {
   "cell_type": "markdown",
   "id": "d225379b",
   "metadata": {},
   "source": [
    "\n",
    "## Watch side effects\n",
    "\n",
    "### Good\n",
    "\n",
    "For functions that trigger side effects, i.e. do not return anything (or return None), be sure to set `watch=True` on `pn.bind` or `pn.depends`.\n",
    "\n"
   ]
  },
  {
   "cell_type": "code",
   "execution_count": null,
   "id": "f408d144",
   "metadata": {},
   "outputs": [],
   "source": [
    "def print_clicks(clicks):\n",
    "    print(f\"Number of clicks: {clicks}\")\n",
    "\n",
    "button = pn.widgets.Button(name=\"Click me!\")\n",
    "pn.bind(print_clicks, button.param.clicks, watch=True)\n",
    "button"
   ]
  },
  {
   "cell_type": "markdown",
   "id": "0d7d093f",
   "metadata": {},
   "source": [
    "\n",
    "### Good\n",
    "\n",
    "For buttons, you can also use `on_click`.\n",
    "\n"
   ]
  },
  {
   "cell_type": "code",
   "execution_count": null,
   "id": "3e6d8129",
   "metadata": {},
   "outputs": [],
   "source": [
    "def print_clicks(event):\n",
    "    clicks = event.new\n",
    "    print(f\"Number of clicks: {clicks}\")\n",
    "\n",
    "button = pn.widgets.Button(name=\"Click me!\", on_click=print_clicks)\n",
    "button"
   ]
  },
  {
   "cell_type": "markdown",
   "id": "0d174905",
   "metadata": {},
   "source": [
    "\n",
    "### Okay\n",
    "\n",
    "For all other widgets, use `obj.param.watch()` for side effects.\n",
    "\n"
   ]
  },
  {
   "cell_type": "code",
   "execution_count": null,
   "id": "e604a2af",
   "metadata": {},
   "outputs": [],
   "source": [
    "def print_clicks(event):\n",
    "    clicks = event.new\n",
    "    print(f\"Number of clicks: {clicks}\")\n",
    "\n",
    "button = pn.widgets.Button(name=\"Click me!\")\n",
    "button.param.watch(print_clicks, \"clicks\")\n",
    "button"
   ]
  },
  {
   "cell_type": "markdown",
   "id": "a6c0f391",
   "metadata": {},
   "source": [
    "\n",
    "## Refreshing layout objects\n",
    "\n",
    "### Good\n",
    "\n",
    "Updating the `objects` on a layout should be done via the methods on the layout itself:\n",
    "\n"
   ]
  },
  {
   "cell_type": "code",
   "execution_count": null,
   "id": "6ff07362",
   "metadata": {},
   "outputs": [],
   "source": [
    "def print_objects(event):\n",
    "    print(f\"Got new {[pane.object for pane in event.new]}\")\n",
    "\n",
    "col = pn.Column(\"a\", \"b\")\n",
    "\n",
    "col.param.watch(print_objects, 'objects')\n",
    "\n",
    "col"
   ]
  },
  {
   "cell_type": "markdown",
   "id": "7d2a7056",
   "metadata": {},
   "source": [
    "\n"
   ]
  },
  {
   "cell_type": "code",
   "execution_count": null,
   "id": "6219f1d7",
   "metadata": {},
   "outputs": [],
   "source": [
    "col[:] = [\"c\", *col.objects[1:]]"
   ]
  },
  {
   "cell_type": "markdown",
   "id": "9aec9e70",
   "metadata": {},
   "source": [
    "\n",
    "### Wrong\n",
    "\n",
    "Modifying container `objects` by index will not trigger the callback.\n",
    "\n"
   ]
  },
  {
   "cell_type": "code",
   "execution_count": null,
   "id": "4329ef37",
   "metadata": {},
   "outputs": [],
   "source": [
    "def print_objects(event):\n",
    "    print(f\"Got new {event.new}\")\n",
    "\n",
    "col = pn.Column(\"a\", \"b\")\n",
    "\n",
    "col.param.watch(print_objects, \"objects\")\n",
    "\n",
    "col"
   ]
  },
  {
   "cell_type": "markdown",
   "id": "7b71784b",
   "metadata": {},
   "source": [
    "\n"
   ]
  },
  {
   "cell_type": "code",
   "execution_count": null,
   "id": "3d020626",
   "metadata": {},
   "outputs": [],
   "source": [
    "col.objects[0] = [\"c\"]  # does not trigger"
   ]
  },
  {
   "cell_type": "markdown",
   "id": "743f4f9d",
   "metadata": {},
   "source": [
    "\n",
    "### Good\n",
    "\n",
    "However, you **can** modify the container by index using the APIs on the component itself.\n",
    "\n"
   ]
  },
  {
   "cell_type": "code",
   "execution_count": null,
   "id": "40ea8c92",
   "metadata": {},
   "outputs": [],
   "source": [
    "def print_objects(event):\n",
    "    print(f\"Got new {[pane.object for pane in event.new]}\")\n",
    "\n",
    "col = pn.Column(\"a\", \"b\")\n",
    "\n",
    "col.param.watch(print_objects, \"objects\")\n",
    "\n",
    "col"
   ]
  },
  {
   "cell_type": "markdown",
   "id": "ced190fe",
   "metadata": {},
   "source": [
    "\n"
   ]
  },
  {
   "cell_type": "code",
   "execution_count": null,
   "id": "62e4ee7d",
   "metadata": {},
   "outputs": [],
   "source": [
    "# col.objects[0] = 'Foo'  # no\n",
    "col[0] = 'Foo'  # yes"
   ]
  }
 ],
 "metadata": {},
 "nbformat": 4,
 "nbformat_minor": 5
}
