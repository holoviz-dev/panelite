{
 "cells": [
  {
   "cell_type": "markdown",
   "id": "9aa68c84",
   "metadata": {},
   "source": [
    "# User Experience\n",
    "\n"
   ]
  },
  {
   "cell_type": "code",
   "execution_count": null,
   "id": "2e13170a",
   "metadata": {},
   "outputs": [],
   "source": [
    "import time\n",
    "import random\n",
    "\n",
    "import param\n",
    "import pandas as pd\n",
    "import panel as pn\n",
    "\n",
    "pn.extension()"
   ]
  },
  {
   "cell_type": "markdown",
   "id": "0cd84d08",
   "metadata": {},
   "source": [
    "\n",
    "The best practices described on this page serve as a checklist of items to keep in mind as you are developing your application. They include items we see users frequently get confused about or things that are easily missed but can make a big difference to the user experience of your application(s).\n",
    "\n",
    ":::{note}\n",
    "- Good: recommended, works.\n",
    "- Okay: works (with intended behavior), potentially inefficient.\n",
    "- Bad: Deprecated (may or may not work), just don't do it.\n",
    "- Wrong: Not intended behavior, won't really work.\n",
    ":::\n",
    "\n",
    "## Update params effectively\n",
    "\n",
    "### Good\n",
    "\n",
    "Use `obj.param.update`:\n",
    "\n",
    "- to update multiple parameters on an object simultaneously\n",
    "- as a context manager to temporarily set values, restoring original values on completion\n",
    "\n"
   ]
  },
  {
   "cell_type": "code",
   "execution_count": null,
   "id": "e67b7fa0",
   "metadata": {},
   "outputs": [],
   "source": [
    "def run(event):\n",
    "    with progress.param.update(\n",
    "        bar_color=\"primary\",\n",
    "        active=True,\n",
    "    ):\n",
    "        for i in range(0, 101):\n",
    "            time.sleep(0.01)\n",
    "            progress.value = i\n",
    "\n",
    "button = pn.widgets.Button(name=\"Run\", on_click=run)\n",
    "progress = pn.indicators.Progress(value=100, active=False, bar_color=\"dark\")\n",
    "pn.Row(button, progress)"
   ]
  },
  {
   "cell_type": "markdown",
   "id": "2886291e",
   "metadata": {},
   "source": [
    "\n",
    "### Okay\n",
    "\n",
    "The following shows setting parameters individually, which could be inefficient and may temporarily leave the object in an inconsistent state.\n",
    "\n"
   ]
  },
  {
   "cell_type": "code",
   "execution_count": null,
   "id": "596a18f6",
   "metadata": {},
   "outputs": [],
   "source": [
    "def run(event):\n",
    "    try:\n",
    "        progress.bar_color = \"primary\"\n",
    "        progress.active = True\n",
    "        for i in range(0, 101):\n",
    "            time.sleep(0.01)\n",
    "            progress.value = i\n",
    "    finally:\n",
    "        progress.bar_color = \"dark\"\n",
    "        progress.active = False\n",
    "\n",
    "button = pn.widgets.Button(name=\"Run\", on_click=run)\n",
    "progress = pn.indicators.Progress(value=100, active=False, bar_color=\"dark\")\n",
    "pn.Row(button, progress)"
   ]
  },
  {
   "cell_type": "markdown",
   "id": "9e36d067",
   "metadata": {},
   "source": [
    "\n",
    "## Throttle slider callbacks\n",
    "\n",
    "### Good\n",
    "\n",
    "When callbacks are expensive to run, you can prevent sliders from triggering too many callbacks, by setting `throttled=True`. When throttled, callbacks will be triggered only once, upon mouse-up.\n",
    "\n"
   ]
  },
  {
   "cell_type": "code",
   "execution_count": null,
   "id": "1b77352c",
   "metadata": {},
   "outputs": [],
   "source": [
    "pn.extension(throttled=True)\n",
    "\n",
    "def callback(value):\n",
    "    time.sleep(2)\n",
    "    return f\"# {value}\"\n",
    "\n",
    "slider = pn.widgets.IntSlider(end=10)\n",
    "output = pn.bind(callback, slider)\n",
    "pn.Row(slider, output)"
   ]
  },
  {
   "cell_type": "markdown",
   "id": "7a47e186",
   "metadata": {},
   "source": [
    "\n",
    "### Good\n",
    "\n",
    "Alternatively, you can apply throttling only to the specific widgets with the most expensive callbacks, by binding to `value_throttled` instead of `value`.\n",
    "\n"
   ]
  },
  {
   "cell_type": "code",
   "execution_count": null,
   "id": "fbc5c3b6",
   "metadata": {},
   "outputs": [],
   "source": [
    "def callback(value):\n",
    "    time.sleep(2)\n",
    "    return f\"# {value}\"\n",
    "\n",
    "slider = pn.widgets.IntSlider(end=10)\n",
    "output = pn.bind(callback, slider.param.value_throttled)\n",
    "pn.Row(slider, output)"
   ]
  },
  {
   "cell_type": "markdown",
   "id": "9dbe3cca",
   "metadata": {},
   "source": [
    "\n",
    "### Bad\n",
    "\n",
    "Binding against `value` can be really slow for expensive callbacks.\n",
    "\n"
   ]
  },
  {
   "cell_type": "code",
   "execution_count": null,
   "id": "fd5509ab",
   "metadata": {},
   "outputs": [],
   "source": [
    "def callback(value):\n",
    "    time.sleep(2)\n",
    "    return f\"# {value}\"\n",
    "\n",
    "slider = pn.widgets.IntSlider(end=10)\n",
    "output = pn.bind(callback, slider.param.value)\n",
    "pn.Row(slider, output)"
   ]
  },
  {
   "cell_type": "markdown",
   "id": "b3447b4d",
   "metadata": {},
   "source": [
    "\n",
    "## Defer expensive operations\n",
    "\n",
    "### Good\n",
    "\n",
    "It's easy to defer the execution of all bound and displayed functions with `pn.extension(defer_load=True)` (note this applies to served applications, not to interactive notebook environments):\n",
    "\n"
   ]
  },
  {
   "cell_type": "code",
   "execution_count": null,
   "id": "23b47777",
   "metadata": {},
   "outputs": [],
   "source": [
    "pn.extension(defer_load=True, loading_indicator=True)\n",
    "\n",
    "def onload():\n",
    "    time.sleep(5)  # simulate expensive operations\n",
    "    return pn.Column(\n",
    "        \"Welcome to this app!\",\n",
    "    )\n",
    "\n",
    "layout = pn.Column(\"Check this out!\", onload)\n",
    "# layout.show()"
   ]
  },
  {
   "cell_type": "markdown",
   "id": "9afaa770",
   "metadata": {},
   "source": [
    "\n",
    "### Okay\n",
    "\n",
    "If you need finer control, start by instantiating the initial layout with placeholder `pn.Columns`, then populate it later in `onload`.\n",
    "\n"
   ]
  },
  {
   "cell_type": "code",
   "execution_count": null,
   "id": "ad4a71e1",
   "metadata": {},
   "outputs": [],
   "source": [
    "import time\n",
    "\n",
    "def onload():\n",
    "    time.sleep(1)  # simulate expensive operations\n",
    "    layout[:] = [\"Welcome to this app!\"]\n",
    "\n",
    "layout = pn.Column(\"Loading...\")\n",
    "display(layout)\n",
    "pn.state.onload(onload)"
   ]
  },
  {
   "cell_type": "markdown",
   "id": "0d7c1dd4",
   "metadata": {},
   "source": [
    "\n",
    "## Show indicator while computing\n",
    "\n",
    "### Good\n",
    "\n",
    "Set `loading=pn.state.param.busy` to overlay a spinner while processing to let the user know it's working.\n",
    "\n"
   ]
  },
  {
   "cell_type": "code",
   "execution_count": null,
   "id": "ed09521f",
   "metadata": {},
   "outputs": [],
   "source": [
    "def process_load(event):\n",
    "    time.sleep(3)\n",
    "\n",
    "button = pn.widgets.Button(name=\"Click me\", on_click=process_load)\n",
    "widget_box = pn.WidgetBox(button, loading=pn.state.param.busy, height=300, width=300)\n",
    "widget_box"
   ]
  },
  {
   "cell_type": "markdown",
   "id": "f7e5092a",
   "metadata": {},
   "source": [
    "\n",
    "### Good\n",
    "\n",
    "Set `loading=True` to show a spinner while processing to let the user know it's working.\n",
    "\n"
   ]
  },
  {
   "cell_type": "code",
   "execution_count": null,
   "id": "f59db0e1",
   "metadata": {},
   "outputs": [],
   "source": [
    "def compute(event):\n",
    "    with layout.param.update(loading=True):\n",
    "        time.sleep(3)\n",
    "        layout.append(\"Computation complete!\")\n",
    "\n",
    "button = pn.widgets.Button(name=\"Compute\", on_click=compute)\n",
    "layout = pn.Column(\"Click below to compute\", button)\n",
    "\n",
    "layout"
   ]
  },
  {
   "cell_type": "markdown",
   "id": "69e67097",
   "metadata": {},
   "source": [
    "\n",
    "### Okay\n",
    "\n",
    "You can also wrap a `try/finally` to do the same thing.\n",
    "\n"
   ]
  },
  {
   "cell_type": "code",
   "execution_count": null,
   "id": "60cb187b",
   "metadata": {},
   "outputs": [],
   "source": [
    "def compute(event):\n",
    "    try:\n",
    "        layout.loading = True\n",
    "        time.sleep(3)\n",
    "        layout.append(\"Computation complete!\")\n",
    "    finally:\n",
    "        layout.loading = False\n",
    "\n",
    "button = pn.widgets.Button(name=\"Compute\", on_click=compute)\n",
    "layout = pn.Column(\"Click below to compute\", button)\n",
    "\n",
    "layout"
   ]
  },
  {
   "cell_type": "markdown",
   "id": "7c770283",
   "metadata": {},
   "source": [
    "\n",
    "## Manage exceptions gracefully\n",
    "\n",
    "### Good\n",
    "\n",
    "Use:\n",
    "- `try` block to update values on success\n",
    "- `except` block to update values on exception\n",
    "- `finally` block to update values regardless\n",
    "\n"
   ]
  },
  {
   "cell_type": "code",
   "execution_count": null,
   "id": "b73bc59d",
   "metadata": {},
   "outputs": [],
   "source": [
    "def compute(divisor):\n",
    "    try:\n",
    "        busy.value = True\n",
    "        time.sleep(1)\n",
    "        output = 1 / divisor\n",
    "        text.value = \"Success!\"\n",
    "    except Exception as exc:\n",
    "        output = \"Undefined\"\n",
    "        text.value = f\"Error: {exc}\"\n",
    "    finally:\n",
    "        busy.value = False\n",
    "    return f\"Output: {output}\"\n",
    "\n",
    "busy = pn.widgets.LoadingSpinner(width=10, height=10)\n",
    "text = pn.widgets.StaticText()\n",
    "\n",
    "slider = pn.widgets.IntSlider(name=\"Divisor\")\n",
    "output = pn.bind(compute, slider)\n",
    "\n",
    "layout = pn.Column(pn.Row(busy, text), slider, output)\n",
    "layout"
   ]
  },
  {
   "cell_type": "markdown",
   "id": "ddec2a4c",
   "metadata": {},
   "source": [
    "\n",
    "## Cache values for speed\n",
    "\n",
    "### Good\n",
    "\n",
    "Wrap your callback with a `pn.cache` decorator so that values are automatically cached so that expensive computations are not repeated.\n",
    "\n"
   ]
  },
  {
   "cell_type": "code",
   "execution_count": null,
   "id": "97067053",
   "metadata": {},
   "outputs": [],
   "source": [
    "@pn.cache\n",
    "def callback(value):\n",
    "    time.sleep(2)\n",
    "    return f\"# {value}\"\n",
    "\n",
    "slider = pn.widgets.IntSlider(end=3)\n",
    "output = pn.bind(callback, slider.param.value_throttled)\n",
    "pn.Row(slider, output)"
   ]
  },
  {
   "cell_type": "markdown",
   "id": "4439fd90",
   "metadata": {},
   "source": [
    "\n",
    "### Okay\n",
    "\n",
    "Or, manually handle the cache yourself with `pn.state.cache`.\n",
    "\n"
   ]
  },
  {
   "cell_type": "code",
   "execution_count": null,
   "id": "9b160643",
   "metadata": {},
   "outputs": [],
   "source": [
    "def callback(value):\n",
    "    output = pn.state.cache.get(value)\n",
    "    if output is None:\n",
    "        time.sleep(2)\n",
    "        output = f\"# {value}\"\n",
    "        pn.state.cache[value] = output\n",
    "    return output\n",
    "\n",
    "slider = pn.widgets.IntSlider(end=3)\n",
    "output = pn.bind(callback, slider.param.value_throttled)\n",
    "pn.Row(slider, output)"
   ]
  },
  {
   "cell_type": "markdown",
   "id": "0c6a951d",
   "metadata": {},
   "source": [
    "\n",
    "## Preserve axes ranges on update\n",
    "\n",
    "### Good\n",
    "\n",
    "When you are working with HoloViews or hvPlot in Panel, you can prevent the plot from resetting to its original axes ranges when zoomed in by wrapping it with `hv.DynamicMap`.\n",
    "\n"
   ]
  },
  {
   "cell_type": "code",
   "execution_count": null,
   "id": "bc446085",
   "metadata": {},
   "outputs": [],
   "source": [
    "import numpy as np\n",
    "import holoviews as hv\n",
    "hv.extension(\"bokeh\")\n",
    "\n",
    "data = []\n",
    "\n",
    "def add_point(clicks):\n",
    "    data.append((np.random.random(), (np.random.random())))\n",
    "    return hv.Scatter(data)\n",
    "\n",
    "button = pn.widgets.Button(name=\"Add point\")\n",
    "plot = hv.DynamicMap(pn.bind(add_point, button.param.clicks))\n",
    "pn.Column(button, plot)"
   ]
  },
  {
   "cell_type": "markdown",
   "id": "2aefd7af",
   "metadata": {},
   "source": [
    "\n",
    "### Okay\n",
    "\n",
    "If you want the object to be completely refreshed, simply drop `hv.DynamicMap`. If it's a long computation, it's good to set `loading_indicator=True`.\n",
    "\n"
   ]
  },
  {
   "cell_type": "code",
   "execution_count": null,
   "id": "c54671a0",
   "metadata": {},
   "outputs": [],
   "source": [
    "import numpy as np\n",
    "import holoviews as hv\n",
    "hv.extension(\"bokeh\")\n",
    "pn.extension(defer_load=True, loading_indicator=True)\n",
    "\n",
    "data = []\n",
    "\n",
    "def add_point(clicks):\n",
    "    data.append((np.random.random(), (np.random.random())))\n",
    "    return hv.Scatter(data)\n",
    "\n",
    "button = pn.widgets.Button(name=\"Add point\")\n",
    "plot = pn.bind(add_point, button.param.clicks)\n",
    "pn.Column(button, plot)"
   ]
  },
  {
   "cell_type": "markdown",
   "id": "950cab59",
   "metadata": {},
   "source": [
    "\n",
    "## FlexBox instead of Column/Row\n",
    "\n",
    "### Good\n",
    "\n",
    "`pn.FlexBox` automatically moves objects to another row/column, depending on the space available.\n",
    "\n"
   ]
  },
  {
   "cell_type": "code",
   "execution_count": null,
   "id": "9bab98c8",
   "metadata": {},
   "outputs": [],
   "source": [
    "rcolor = lambda: \"#%06x\" % random.randint(0, 0xFFFFFF)\n",
    "\n",
    "pn.FlexBox(\n",
    "    pn.pane.HTML(str(5), styles=dict(background=rcolor()), width=1000, height=100),\n",
    "    pn.pane.HTML(str(5), styles=dict(background=rcolor()), width=1000, height=100)\n",
    ")"
   ]
  },
  {
   "cell_type": "markdown",
   "id": "ca6fb9b0",
   "metadata": {},
   "source": [
    "\n",
    "### Okay\n",
    "\n",
    "`pn.Column`/`pn.Row` will overflow if the content is too long/wide.\n",
    "\n"
   ]
  },
  {
   "cell_type": "code",
   "execution_count": null,
   "id": "5bd27f0d",
   "metadata": {},
   "outputs": [],
   "source": [
    "rcolor = lambda: \"#%06x\" % random.randint(0, 0xFFFFFF)\n",
    "\n",
    "pn.Row(\n",
    "    pn.pane.HTML(str(5), styles=dict(background=rcolor()), width=1000, height=100),\n",
    "    pn.pane.HTML(str(5), styles=dict(background=rcolor()), width=1000, height=100)\n",
    ")"
   ]
  },
  {
   "cell_type": "markdown",
   "id": "20a03668",
   "metadata": {},
   "source": [
    "\n",
    "## Reuse objects for efficiency\n",
    "\n",
    "### Good\n",
    "\n",
    "Imagine Panel components as placeholders and use them as such, rather than re-creating them on update.\n",
    "\n"
   ]
  },
  {
   "cell_type": "code",
   "execution_count": null,
   "id": "559a00ab",
   "metadata": {},
   "outputs": [],
   "source": [
    "def randomize(event):\n",
    "    df_pane.object = pd.DataFrame(np.random.randn(10, 3), columns=list(\"ABC\"))\n",
    "\n",
    "button = pn.widgets.Button(name=\"Compute\", on_click=randomize)\n",
    "df_pane = pn.pane.DataFrame()\n",
    "button.param.trigger(\"clicks\")  # initialize\n",
    "\n",
    "pn.Column(button, df_pane)"
   ]
  },
  {
   "cell_type": "markdown",
   "id": "6af01d66",
   "metadata": {},
   "source": [
    "\n",
    "### Okay\n",
    "\n",
    "If your callback returns a Panel object rather than the underlying object being displayed, you'll end up instantiating the `pn.pane.DataFrame` on every click (which is typically slower and will often have distracting flickering).\n",
    "\n"
   ]
  },
  {
   "cell_type": "code",
   "execution_count": null,
   "id": "f1d87e76",
   "metadata": {},
   "outputs": [],
   "source": [
    "def randomize(clicks):\n",
    "    return pn.pane.DataFrame(pd.DataFrame(np.random.randn(10, 3), columns=list(\"ABC\")))\n",
    "\n",
    "button = pn.widgets.Button(name=\"Compute\")\n",
    "df_pane = pn.bind(randomize, button.param.clicks)\n",
    "button.param.trigger(\"clicks\")  # initialize\n",
    "\n",
    "pn.Column(button, df_pane)"
   ]
  }
 ],
 "metadata": {},
 "nbformat": 4,
 "nbformat_minor": 5
}
