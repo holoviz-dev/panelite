{
 "cells": [
  {
   "cell_type": "markdown",
   "id": "0a06e1a5",
   "metadata": {},
   "source": [
    "# ReactiveHTML component with callback\n",
    "\n",
    "In this guide we will show you how to add callbacks to your `ReactiveHTML` components.\n",
    "\n",
    "## Slideshow with Python callback\n",
    "\n",
    "This example shows you how to create a `Slideshow` component that uses a Python *callback* function to update the `Slideshow` image when its clicked:\n",
    "\n"
   ]
  },
  {
   "cell_type": "code",
   "execution_count": null,
   "id": "2a7e3801",
   "metadata": {},
   "outputs": [],
   "source": [
    "import param\n",
    "import panel as pn\n",
    "\n",
    "from panel.reactive import ReactiveHTML\n",
    "\n",
    "pn.extension()\n",
    "\n",
    "class Slideshow(ReactiveHTML):\n",
    "\n",
    "    index = param.Integer(default=0)\n",
    "\n",
    "    _template = '<img id=\"slideshow\" src=\"https://picsum.photos/800/300?image=${index}\" onclick=\"${_img_click}\"></img>'\n",
    "\n",
    "    def _img_click(self, event):\n",
    "        self.index += 1\n",
    "\n",
    "Slideshow().servable()"
   ]
  },
  {
   "cell_type": "markdown",
   "id": "f996f397",
   "metadata": {},
   "source": [
    "\n",
    "This approach lets you quickly build custom HTML components with complex interactivity. However if you do not need any complex computations in Python you can also construct a pure JS equivalent:\n",
    "\n",
    "## Slideshow with Javascript Callback\n",
    "\n",
    "This example shows you how to create a `Slideshow` component that uses a Javascript *callback* function to update the `Slideshow` image when its clicked:\n",
    "\n"
   ]
  },
  {
   "cell_type": "code",
   "execution_count": null,
   "id": "2ee8f81b",
   "metadata": {},
   "outputs": [],
   "source": [
    "import param\n",
    "import panel as pn\n",
    "\n",
    "from panel.reactive import ReactiveHTML\n",
    "\n",
    "pn.extension()\n",
    "\n",
    "class JSSlideshow(ReactiveHTML):\n",
    "\n",
    "    index = param.Integer(default=0)\n",
    "\n",
    "    _template = \"\"\"<img id=\"slideshow\" src=\"https://picsum.photos/800/300?image=${index}\" onclick=\"${script('click')}\"></img>\"\"\"\n",
    "\n",
    "    _scripts = {'click': 'data.index += 1'}\n",
    "\n",
    "JSSlideshow().servable()"
   ]
  },
  {
   "cell_type": "markdown",
   "id": "6224c39f",
   "metadata": {},
   "source": [
    "\n",
    "By using Javascript callbacks instead of Python callbacks you can achieve higher performance, components that can be *js linked* and components that will also work when your app is saved to static html.\n"
   ]
  }
 ],
 "metadata": {},
 "nbformat": 4,
 "nbformat_minor": 5
}
