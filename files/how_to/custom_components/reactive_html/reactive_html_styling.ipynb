{
 "cells": [
  {
   "cell_type": "markdown",
   "id": "db2f0faf",
   "metadata": {},
   "source": [
    "# Style your ReactiveHTML template\n",
    "\n",
    "In this guide we will show you how to style your `ReactiveHTML` `_template` using the `_stylesheets` attribute and CSS.\n",
    "\n",
    "If you are not familiar with CSS then the [W3 CSS School](https://www.w3schools.com/css/default.asp)\n",
    "is a good resource to learn from. You can also ask ChatGPT for help. It can often provide you with\n",
    "an HTML and CSS starting point that you can fine tune.\n",
    "\n",
    "## A Layout with CSS Styling\n",
    "\n"
   ]
  },
  {
   "cell_type": "code",
   "execution_count": null,
   "id": "b45c06d9",
   "metadata": {},
   "outputs": [],
   "source": [
    "import param\n",
    "import panel as pn\n",
    "\n",
    "from panel.custom import Child, ReactiveHTML\n",
    "\n",
    "pn.extension()\n",
    "\n",
    "class SensorLayout(ReactiveHTML):\n",
    "    object = Child(allow_refs=False)\n",
    "\n",
    "    _template = \"\"\"\n",
    "    <div class=\"pn-container styled-container\">\n",
    "        <h1 id=\"name\">Temperature</h1>\n",
    "        <h2 id=\"subtitle\">A measurement from the sensor</h1>\n",
    "        <div id=\"object\" class=\"styled-object\">${object}</div>\n",
    "    </div>\n",
    "\"\"\"\n",
    "\n",
    "    _stylesheets = [\"\"\"\n",
    "        .pn-container {height: 100%;width: calc(100% - 20px); margin:10px;}\n",
    "        .styled-container {border-radius: 10px;border: 2px solid gray;text-align: center; padding:10px;}\n",
    "        .styled-object {display: inline-block;}\n",
    "    \"\"\"]\n",
    "\n",
    "dial = pn.widgets.Dial(\n",
    "    name=\"°C\", value=37, format=\"{value}\", colors=[(0.40, \"green\"), (1, \"red\")], bounds=(0, 100),\n",
    ")\n",
    "SensorLayout(\n",
    "    object=dial, name=\"Temperature\",\n",
    "    styles={\"border\": \"2px solid lightgray\"},\n",
    ").servable()"
   ]
  },
  {
   "cell_type": "markdown",
   "id": "cc0a9b85",
   "metadata": {},
   "source": [
    "\n",
    "Note the difference between `styles` and `_stylesheets`.\n",
    "\n",
    "- `styles` styles the outer HTML element wrapping the component\n",
    "- `_stylesheets` styles the HTML elements inside the component\n"
   ]
  }
 ],
 "metadata": {},
 "nbformat": 4,
 "nbformat_minor": 5
}
