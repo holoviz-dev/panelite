{
 "cells": [
  {
   "cell_type": "markdown",
   "id": "9f4a76bf",
   "metadata": {},
   "source": [
    "# ESM component with callback\n",
    "\n",
    "In this guide we will show you how to add callbacks to your ESM components.\n",
    "\n",
    "## Slideshow with Python callback\n",
    "\n",
    "This example shows you how to create a `Slideshow` component that uses a Python *callback* function to update the `Slideshow` image when its clicked:\n",
    "\n"
   ]
  },
  {
   "cell_type": "code",
   "execution_count": null,
   "id": "076412fe",
   "metadata": {},
   "outputs": [],
   "source": [
    "import param\n",
    "import panel as pn\n",
    "\n",
    "from panel.custom import JSComponent\n",
    "\n",
    "pn.extension()\n",
    "\n",
    "class Slideshow(JSComponent):\n",
    "\n",
    "    index = param.Integer(default=0)\n",
    "\n",
    "    _esm = \"\"\"\n",
    "    export function render({ model }) {\n",
    "      const img = document.createElement('img')\n",
    "      img.src = `https://picsum.photos/800/300?image=${model.index}`\n",
    "      img.addEventListener('click', (event) => model.send_event('click', event))\n",
    "      model.on('index', () => {\n",
    "        img.src = `https://picsum.photos/800/300?image=${model.index}`\n",
    "      })\n",
    "      return img\n",
    "    }\n",
    "    \"\"\"\n",
    "\n",
    "    def _handle_click(self, event):\n",
    "        self.index += 1\n",
    "\n",
    "Slideshow(width=500, height=200).servable()"
   ]
  },
  {
   "cell_type": "markdown",
   "id": "da562a9f",
   "metadata": {},
   "source": [
    "\n",
    "This approach lets you quickly build custom components with complex interactivity. However if you do not need any complex computations in Python you can also construct a pure JS equivalent:\n",
    "\n",
    "## Slideshow with Javascript Callback\n",
    "\n",
    "This example shows you how to create a `Slideshow` component that uses a Javascript *callback* function to update the `Slideshow` image when its clicked:\n",
    "\n"
   ]
  },
  {
   "cell_type": "code",
   "execution_count": null,
   "id": "161102d8",
   "metadata": {},
   "outputs": [],
   "source": [
    "import param\n",
    "import panel as pn\n",
    "\n",
    "from panel.custom import JSComponent\n",
    "\n",
    "pn.extension()\n",
    "\n",
    "class JSSlideshow(JSComponent):\n",
    "\n",
    "    index = param.Integer(default=0)\n",
    "\n",
    "    _esm = \"\"\"\n",
    "    export function render({ model }) {\n",
    "      const img = document.createElement('img')\n",
    "      img.src = `https://picsum.photos/800/300?image=${model.index}`\n",
    "      img.addEventListener('click', (event) => { model.index += 1 })\n",
    "      model.on('index', () => {\n",
    "        img.src = `https://picsum.photos/800/300?image=${model.index}`\n",
    "      })\n",
    "      return img\n",
    "    }\n",
    "    \"\"\"\n",
    "\n",
    "JSSlideshow(width=800, height=300).servable()"
   ]
  },
  {
   "cell_type": "markdown",
   "id": "b74d7c54",
   "metadata": {},
   "source": [
    "\n",
    "By using Javascript callbacks instead of Python callbacks you can achieve higher performance, components that can be *js linked* and components that will also work when your app is saved to static html.\n"
   ]
  }
 ],
 "metadata": {},
 "nbformat": 4,
 "nbformat_minor": 5
}
