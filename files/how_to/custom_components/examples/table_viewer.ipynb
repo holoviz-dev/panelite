{
 "cells": [
  {
   "cell_type": "markdown",
   "id": "2e5c640a",
   "metadata": {},
   "source": [
    "# Reactive Tables\n",
    "\n"
   ]
  },
  {
   "cell_type": "code",
   "execution_count": null,
   "id": "66772c45",
   "metadata": {},
   "outputs": [],
   "source": [
    "import param\n",
    "import panel as pn\n",
    "\n",
    "from bokeh.sampledata.iris import flowers\n",
    "from bokeh.sampledata.autompg import autompg_clean\n",
    "from bokeh.sampledata.population import data\n",
    "from panel.viewable import Viewer\n",
    "\n",
    "pn.extension(template='fast')"
   ]
  },
  {
   "cell_type": "markdown",
   "id": "b364f99d",
   "metadata": {},
   "source": [
    "\n",
    "This example demonstrates Panel's reactive programming paradigm using the Param library to express parameters, plus methods with computation depending on those parameters. This pattern can be used to update the displayed views whenever a parameter value changes, without re-running computation unnecessarily.\n",
    "\n"
   ]
  },
  {
   "cell_type": "code",
   "execution_count": null,
   "id": "d1fdd35f",
   "metadata": {},
   "outputs": [],
   "source": [
    "class ReactiveTables(Viewer):\n",
    "\n",
    "    dataset = param.ObjectSelector(default='iris', objects=['iris', 'autompg', 'population'])\n",
    "\n",
    "    rows = param.Integer(default=10, bounds=(0, 19))\n",
    "\n",
    "    @param.depends('dataset')\n",
    "    def data(self):\n",
    "        if self.dataset == 'iris':\n",
    "            return flowers\n",
    "        elif self.dataset == 'autompg':\n",
    "            return autompg_clean\n",
    "        else:\n",
    "            return data\n",
    "\n",
    "    @param.depends('data')\n",
    "    def summary(self):\n",
    "        return self.data().describe()\n",
    "\n",
    "    @param.depends('data', 'rows')\n",
    "    def table(self):\n",
    "        return self.data().iloc[:self.rows]\n",
    "\n",
    "    def __panel__(self):\n",
    "        return pn.Row(\n",
    "            pn.Param(self, name=\"Settings\", width=300),\n",
    "\t\t\tpn.Spacer(width=10),\n",
    "            pn.Column(\n",
    "\t\t\t    \"## Description\",\n",
    "\t\t\t\tpn.pane.DataFrame(self.summary, sizing_mode='stretch_width'),\n",
    "\t\t\t\t\"## Table\",\n",
    "\t\t\t\tpn.pane.DataFrame(self.table, sizing_mode='stretch_width'),\n",
    "\t\t\t)\n",
    "        )\n",
    "\n",
    "ReactiveTables().servable()"
   ]
  }
 ],
 "metadata": {},
 "nbformat": 4,
 "nbformat_minor": 5
}
