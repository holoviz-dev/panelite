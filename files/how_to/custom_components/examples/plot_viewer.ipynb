{
 "cells": [
  {
   "cell_type": "markdown",
   "id": "3f3d4c24",
   "metadata": {},
   "source": [
    "<div class=\"alert alert-block alert-success\">\n",
    "<em>Panelite</em> is powered by young technologies like <a href=\"https://pyodide.org/en/stable/\">Pyodide</a> and <a href=\"https://jupyterlite.readthedocs.io/en/latest/\">Jupyterlite</a>. Some browsers may be poorly supported (e.g. mobile or 32-bit versions). If you experience issues, please <a href=\"https://github.com/holoviz/panel/issues\">report them</a>.\n",
    "</div>"
   ]
  },
  {
   "cell_type": "code",
   "execution_count": null,
   "id": "a7eb0a75",
   "metadata": {},
   "outputs": [],
   "source": [
    "import piplite\n",
    "await piplite.install(['hvplot'])"
   ]
  },
  {
   "cell_type": "markdown",
   "id": "c10220dd",
   "metadata": {},
   "source": [
    "# Plot Viewer\n",
    "\n"
   ]
  },
  {
   "cell_type": "code",
   "execution_count": null,
   "id": "3333b2b2",
   "metadata": {},
   "outputs": [],
   "source": [
    "import param\n",
    "import panel as pn\n",
    "\n",
    "from bokeh.sampledata.iris import flowers\n",
    "from panel.viewable import Viewer\n",
    "\n",
    "pn.extension(template='fast')\n",
    "import hvplot.pandas"
   ]
  },
  {
   "cell_type": "markdown",
   "id": "1112b79c",
   "metadata": {},
   "source": [
    "\n",
    "This example demonstrates the use of a `Viewer` class to build a reactive app. It uses the [iris dataset](https://en.wikipedia.org/wiki/Iris_flower_data_set) which is a standard example used to illustrate machine-learning and visualization techniques.\n",
    "\n",
    "We will start by using the dataframe with these five features and then create a `Selector` parameter to develop menu options for different input features. Later we will define the core plotting function in a `plot` method and define the layout in the `__panel__` method of the `IrisDashboard` class.\n",
    "\n",
    "The `plot` method watches the `X_variable` and `Y_variable` using the `param.depends` [decorator](https://www.google.com/search?q=python+decorator). The `plot` method plots the features selected for `X_variable` and `Y_variable` and colors them using the `species` column.\n",
    "\n"
   ]
  },
  {
   "cell_type": "code",
   "execution_count": null,
   "id": "f0adaf7b",
   "metadata": {},
   "outputs": [],
   "source": [
    "inputs = ['sepal_length', 'sepal_width', 'petal_length', 'petal_width']\n",
    "\n",
    "class IrisDashboard(Viewer):\n",
    "    X_variable = param.Selector(objects=inputs, default=inputs[0])\n",
    "    Y_variable = param.Selector(objects=inputs, default=inputs[1])\n",
    "\n",
    "    @param.depends('X_variable', 'Y_variable')\n",
    "    def plot(self):\n",
    "        return flowers.hvplot.scatter(x=self.X_variable, y=self.Y_variable, by='species').opts(height=600)\n",
    "\n",
    "    def __panel__(self):\n",
    "        return pn.Row(\n",
    "            pn.Param(self, width=300, name=\"Plot Settings\"),\n",
    "            self.plot\n",
    "        )\n",
    "\n",
    "IrisDashboard(name='Iris_Dashboard').servable()"
   ]
  }
 ],
 "metadata": {},
 "nbformat": 4,
 "nbformat_minor": 5
}
