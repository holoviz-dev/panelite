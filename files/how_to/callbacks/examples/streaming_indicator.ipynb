{
 "cells": [
  {
   "cell_type": "markdown",
   "id": "fbc8d6f1",
   "metadata": {},
   "source": [
    "# Streaming Indicator\n",
    "\n"
   ]
  },
  {
   "cell_type": "code",
   "execution_count": null,
   "id": "781d2eaa",
   "metadata": {},
   "outputs": [],
   "source": [
    "import numpy as np\n",
    "import panel as pn\n",
    "\n",
    "pn.extension(template='fast')"
   ]
  },
  {
   "cell_type": "markdown",
   "id": "686e1791",
   "metadata": {},
   "source": [
    "\n",
    "This example demonstrates how to use `add_periodic_callback` to stream data to the `Trend` indicator.\n",
    "\n"
   ]
  },
  {
   "cell_type": "code",
   "execution_count": null,
   "id": "306c815a",
   "metadata": {},
   "outputs": [],
   "source": [
    "layout = pn.layout.FlexBox(*(\n",
    "    pn.indicators.Trend(\n",
    "        data={'x': list(range(10)), 'y': np.random.randn(10).cumsum()},\n",
    "        width=150,\n",
    "        height=100,\n",
    "        plot_type=pn.indicators.Trend.param.plot_type.objects[i%4]\n",
    "    ) for i in range(32)\n",
    "))\n",
    "\n",
    "def stream():\n",
    "    for trend in layout:\n",
    "        trend.stream({'x': [trend.data['x'][-1]+1], 'y': [trend.data['y'][-1]+np.random.randn()]}, rollover=20)\n",
    "\n",
    "cb = pn.state.add_periodic_callback(stream, 500)\n",
    "\n",
    "pn.Column(\n",
    "  pn.Row(\n",
    "      cb.param.period,\n",
    "\t  pn.widgets.Toggle.from_param(cb.param.running, align='end')\n",
    "  ),\n",
    "  layout\n",
    ").servable()"
   ]
  }
 ],
 "metadata": {},
 "nbformat": 4,
 "nbformat_minor": 5
}
