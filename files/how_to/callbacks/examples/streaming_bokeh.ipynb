{
 "cells": [
  {
   "cell_type": "markdown",
   "id": "b3922fe4",
   "metadata": {},
   "source": [
    "# Streaming Bokeh\n",
    "\n"
   ]
  },
  {
   "cell_type": "code",
   "execution_count": null,
   "id": "881add17",
   "metadata": {},
   "outputs": [],
   "source": [
    "import numpy as np\n",
    "import panel as pn\n",
    "\n",
    "from bokeh.plotting import figure\n",
    "from bokeh.models import ColumnDataSource\n",
    "\n",
    "pn.extension(template='fast')"
   ]
  },
  {
   "cell_type": "markdown",
   "id": "6b4018be",
   "metadata": {},
   "source": [
    "\n",
    "This example demonstrates how to use `add_periodic_callback` to stream data to a Bokeh plot.\n",
    "\n"
   ]
  },
  {
   "cell_type": "code",
   "execution_count": null,
   "id": "3f4259e9",
   "metadata": {},
   "outputs": [],
   "source": [
    "p = figure(sizing_mode='stretch_width', title='Bokeh streaming example')\n",
    "\n",
    "xs = np.arange(1000)\n",
    "ys = np.random.randn(1000).cumsum()\n",
    "x, y = xs[-1], ys[-1]\n",
    "\n",
    "cds = ColumnDataSource(data={'x': xs, 'y': ys})\n",
    "\n",
    "p.line('x', 'y', source=cds)\n",
    "\n",
    "def stream():\n",
    "    global x, y\n",
    "    x += 1\n",
    "    y += np.random.randn()\n",
    "    cds.stream({'x': [x], 'y': [y]})\n",
    "    pn.io.push_notebook(bk_pane) # Only needed when running in notebook context\n",
    "\n",
    "cb = pn.state.add_periodic_callback(stream, 100)\n",
    "\n",
    "bk_pane = pn.pane.Bokeh(p)\n",
    "\n",
    "pn.Column(\n",
    "\tpn.Row(\n",
    "        cb.param.period,\n",
    "\t    pn.widgets.Toggle.from_param(cb.param.running, align='end')\n",
    "    ),\n",
    "\tbk_pane\n",
    ").servable()"
   ]
  }
 ],
 "metadata": {},
 "nbformat": 4,
 "nbformat_minor": 5
}
