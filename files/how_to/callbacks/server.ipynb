{
 "cells": [
  {
   "cell_type": "markdown",
   "id": "e1fcaf0b",
   "metadata": {},
   "source": [
    "# Modify Bokeh Models\n",
    "\n",
    "This guide addresses how to safely modify Bokeh models to avoid running into issues with the Bokeh `Document` lock.\n",
    "\n",
    "---\n",
    "\n",
    "The Bokeh server that Panel builds on is designed to be thread safe which requires a set of locks to avoid multiple threads modifying the Bokeh models simultaneously.  Panel being a high-level wrapper around Bokeh handles this locking for you. However, when you update Bokeh components directly you may need to schedule a callback to get around Bokeh's document lock to avoid errors like this:\n",
    "\n",
    "```\n",
    "RuntimeError: _pending_writes should be non-None when we have a document lock, and we should have the lock when the document changes\n",
    "```\n",
    "\n",
    "In the example below we will launch an application on a thread using `pn.serve` and make the Bokeh plot (in practice you may provide handles to this object on a class). To schedule a callback which updates the `y_range` by using the `pn.state.execute` method. This pattern will ensure that the update to the Bokeh model is executed on the correct thread:\n",
    "\n",
    "```python\n",
    "import time\n",
    "import panel as pn\n",
    "\n",
    "from bokeh.plotting import figure\n",
    "\n",
    "def app():\n",
    "    p = figure()\n",
    "    p.line([1, 2, 3], [1, 2, 3])\n",
    "    return p\n",
    "\n",
    "pn.serve(app, threaded=True)\n",
    "\n",
    "pn.state.execute(lambda: p.y_range.update(start=0, end=4))\n",
    "```\n",
    "\n",
    "## Related Resources\n"
   ]
  }
 ],
 "metadata": {},
 "nbformat": 4,
 "nbformat_minor": 5
}
