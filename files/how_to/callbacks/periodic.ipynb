{
 "cells": [
  {
   "cell_type": "markdown",
   "id": "b6b4c6af",
   "metadata": {},
   "source": [
    "# Periodically Run Callbacks\n",
    "\n",
    "This guide addresses how to set up per-session callbacks that run periodically.\n",
    "\n",
    "---\n",
    "\n",
    "Periodic callbacks allow periodically updating your application with new data. Below we will create a simple Bokeh plot and display it with Panel:\n",
    "\n"
   ]
  },
  {
   "cell_type": "code",
   "execution_count": null,
   "id": "070e7041",
   "metadata": {},
   "outputs": [],
   "source": [
    "import numpy as np\n",
    "import panel as pn\n",
    "\n",
    "from bokeh.models import ColumnDataSource\n",
    "from bokeh.plotting import figure\n",
    "\n",
    "pn.extension()\n",
    "\n",
    "source = ColumnDataSource({\"x\": np.arange(10), \"y\": np.arange(10)})\n",
    "p = figure()\n",
    "p.line(x=\"x\", y=\"y\", source=source)\n",
    "\n",
    "bokeh_pane = pn.pane.Bokeh(p)\n",
    "bokeh_pane.servable()"
   ]
  },
  {
   "cell_type": "markdown",
   "id": "8fac4982",
   "metadata": {},
   "source": [
    "\n",
    "Now we will define a callback that updates the data on the `ColumnDataSource` and use the `pn.state.add_periodic_callback` method to schedule updates every 200 ms. We will also set a timeout of 5 seconds after which the callback will automatically stop.\n",
    "\n",
    "```{warning}\n",
    "The dynamic callbacks may not function properly in the online documentation. Please use them in a notebook or script.\n",
    "```\n",
    "\n"
   ]
  },
  {
   "cell_type": "code",
   "execution_count": null,
   "id": "07ae83ae",
   "metadata": {},
   "outputs": [],
   "source": [
    "def update():\n",
    "    data = np.random.randint(0, 2 ** 31, 10)\n",
    "    source.data.update({\"y\": data})\n",
    "    bokeh_pane.param.trigger('object') # Only needed in notebook\n",
    "\n",
    "cb = pn.state.add_periodic_callback(update, 200, timeout=5000)"
   ]
  },
  {
   "cell_type": "markdown",
   "id": "51a0a894",
   "metadata": {},
   "source": [
    "\n",
    "In a notebook or bokeh server context we should now see the plot update periodically. The other nice thing about this is that `pn.state.add_periodic_callback` returns `PeriodicCallback` we can call `.stop()` and `.start()` on if we want to stop or pause the periodic execution. Additionally we can also dynamically adjust the period by setting the `timeout` parameter to speed up or slow down the callback.\n",
    "\n",
    "Other nice features on a periodic callback are the ability to check the number of executions using the `cb.counter` property and the ability to toggle the callback on and off simply by setting the `running` parameter. This makes it possible to link a widget to the running state:\n",
    "\n"
   ]
  },
  {
   "cell_type": "code",
   "execution_count": null,
   "id": "e471943b",
   "metadata": {},
   "outputs": [],
   "source": [
    "toggle = pn.widgets.Toggle(name='Toggle callback', value=True)\n",
    "\n",
    "toggle.link(cb, bidirectional=True, value='running')\n",
    "toggle"
   ]
  },
  {
   "cell_type": "markdown",
   "id": "07c529a3",
   "metadata": {},
   "source": [
    "\n",
    "Note that when starting a server dynamically with `pn.serve` you cannot start a periodic callback before the application is actually being served. Therefore you should create the application and start the callback in a wrapping function:\n",
    "\n",
    "```python\n",
    "from functools import partial\n",
    "\n",
    "import numpy as np\n",
    "import panel as pn\n",
    "\n",
    "from bokeh.models import ColumnDataSource\n",
    "from bokeh.plotting import figure\n",
    "\n",
    "def update(source):\n",
    "    data = np.random.randint(0, 2 ** 31, 10)\n",
    "    source.data.update({\"y\": data})\n",
    "\n",
    "def panel_app():\n",
    "    source = ColumnDataSource({\"x\": np.arange(10), \"y\": np.arange(10)})\n",
    "    p = figure()\n",
    "    p.line(x=\"x\", y=\"y\", source=source)\n",
    "    cb = pn.state.add_periodic_callback(partial(update, source), 200, timeout=5000)\n",
    "    toggle = pn.widgets.Toggle(name='Toggle callback', value=True)\n",
    "    toggle.link(cb, bidirectional=True, value='running')\n",
    "    return pn.Column(pn.pane.Bokeh(p), toggle)\n",
    "\n",
    "pn.serve(panel_app)\n",
    "```\n",
    "\n",
    "## Related Resources\n",
    "- See the related [How-to > Link Parameters with Callbacks API](../links/index) guides, including [How to > Create High-Level Python Links with `.link`](../links/links).\n"
   ]
  }
 ],
 "metadata": {},
 "nbformat": 4,
 "nbformat_minor": 5
}
