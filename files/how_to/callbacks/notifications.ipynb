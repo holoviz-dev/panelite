{
 "cells": [
  {
   "cell_type": "markdown",
   "id": "83921045",
   "metadata": {},
   "source": [
    "# Add notifications on connect and disconnect\n",
    "\n",
    "This guide addresses how to add notifications when the server connection is established and when it disconnects.\n",
    "\n",
    "---\n",
    "\n",
    "Panel includes a notification system that is enabled by default. The notification system also allows registering notification messages when the server connection is ready and when the server connection is lost. These can be configured by setting the `disconnect_notification` and `ready_notification`.\n",
    "\n",
    "```python\n",
    "import panel as pn\n",
    "\n",
    "pn.extension(\n",
    "    disconnect_notification='Connection lost, try reloading the page!',\n",
    "    ready_notification='Application fully loaded.',\n",
    "    template='bootstrap'\n",
    ")\n",
    "\n",
    "slider = pn.widgets.IntSlider(name='Number', start=1, end=10, value=7)\n",
    "\n",
    "pn.Column(\n",
    "    slider,\n",
    "    pn.bind(lambda n: '⭐' * n, slider)\n",
    ").servable(title='Connection Notifications')\n",
    "```\n",
    "\n",
    "![Connection notifications](https://assets.holoviz.org/panel/gifs/connection_notifications.gif)\n"
   ]
  }
 ],
 "metadata": {},
 "nbformat": 4,
 "nbformat_minor": 5
}
