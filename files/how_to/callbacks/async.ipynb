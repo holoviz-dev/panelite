{
 "cells": [
  {
   "cell_type": "markdown",
   "id": "e3bccb36",
   "metadata": {},
   "source": [
    "# Use Asynchronous Callbacks\n",
    "\n",
    "This guide addresses how to leverage asynchronous callbacks to run I/O bound tasks in parallel. This technique is also beneficial for CPU bound tasks that release the GIL.\n",
    "\n",
    "You can use `async` function with event handlers like `on_click` as well as the reactive apis `.bind`, `.depends` and `.watch`.\n",
    "\n",
    "You can also schedule asynchronous periodic callbacks with `pn.state.add_periodic_callback` as well as run `async` functions directly with `pn.state.execute`.\n",
    "\n",
    "```{admonition} Asyncio\n",
    "For a quick overview of the most important `asyncio` concepts see [the Python documentation](https://docs.python.org/3/library/asyncio-task.html).\n",
    "```\n",
    "\n",
    "```{admonition} Bokeh Models\n",
    "It is important to note that asynchronous callbacks operate without locking the underlying Bokeh Document, which means Bokeh models cannot be safely modified by default. Usually this is not an issue because modifying Panel components appropriately schedules updates to underlying Bokeh models, however in cases where we want to modify a Bokeh model directly, e.g. when embedding and updating a Bokeh plot in a Panel application we explicitly have to decorate the asynchronous callback with `pn.io.with_lock` (see example below).\n",
    "```\n",
    "\n",
    "---\n",
    "\n",
    "## `on_click`\n",
    "\n",
    "One of the major benefits of leveraging async functions is that it is simple to write callbacks which will perform some longer running IO tasks in the background. Below we simulate this by creating a `Button` which will update some text when it starts and finishes running a long-running background task (here simulated using `asyncio.sleep`. If you are running this in the notebook you will note that you can start multiple tasks and it will update the text immediately but continue in the background:\n",
    "\n"
   ]
  },
  {
   "cell_type": "code",
   "execution_count": null,
   "id": "8e8926b0",
   "metadata": {},
   "outputs": [],
   "source": [
    "import panel as pn\n",
    "import asyncio\n",
    "\n",
    "pn.extension()\n",
    "\n",
    "button = pn.widgets.Button(name='Click me!')\n",
    "text = pn.widgets.StaticText()\n",
    "\n",
    "async def run_async(event):\n",
    "    text.value = f'Running {event.new}'\n",
    "    await asyncio.sleep(2)\n",
    "    text.value = f'Finished {event.new}'\n",
    "\n",
    "button.on_click(run_async)\n",
    "\n",
    "pn.Row(button, text)"
   ]
  },
  {
   "cell_type": "markdown",
   "id": "4635224c",
   "metadata": {},
   "source": [
    "\n",
    "## `.bind`\n",
    "\n"
   ]
  },
  {
   "cell_type": "code",
   "execution_count": null,
   "id": "9ad8b3e6",
   "metadata": {},
   "outputs": [],
   "source": [
    "widget = pn.widgets.IntSlider(start=0, end=10)\n",
    "\n",
    "async def get_img(index):\n",
    "    url = f\"https://picsum.photos/800/300?image={index}\"\n",
    "    if pn.state._is_pyodide:\n",
    "        from pyodide.http import pyfetch\n",
    "        return pn.pane.JPG(await (await pyfetch(url)).bytes())\n",
    "\n",
    "    import aiohttp\n",
    "    async with aiohttp.ClientSession() as session:\n",
    "        async with session.get(url) as resp:\n",
    "            return pn.pane.JPG(await resp.read())\n",
    "\n",
    "pn.Column(widget, pn.bind(get_img, widget))"
   ]
  },
  {
   "cell_type": "markdown",
   "id": "40f97616",
   "metadata": {},
   "source": [
    "\n",
    "In this example Panel will invoke the function and update the output when the function returns while leaving the process unblocked for the duration of the `aiohttp` request.\n",
    "\n",
    "## `.watch`\n",
    "\n",
    "The app from the section above can be written using `.param.watch` as:\n",
    "\n"
   ]
  },
  {
   "cell_type": "code",
   "execution_count": null,
   "id": "46306c92",
   "metadata": {},
   "outputs": [],
   "source": [
    "widget = pn.widgets.IntSlider(start=0, end=10)\n",
    "\n",
    "image = pn.pane.JPG()\n",
    "\n",
    "async def update_img(event):\n",
    "    url = f\"https://picsum.photos/800/300?image={event.new}\"\n",
    "    if pn.state._is_pyodide:\n",
    "        from pyodide.http import pyfetch\n",
    "        image.object = await (await pyfetch(url)).bytes()\n",
    "        return\n",
    "\n",
    "    import aiohttp\n",
    "    async with aiohttp.ClientSession() as session:\n",
    "        async with session.get(url) as resp:\n",
    "            image.object = await resp.read()\n",
    "\n",
    "widget.param.watch(update_img, 'value')\n",
    "widget.param.trigger('value')\n",
    "\n",
    "pn.Column(widget, image)"
   ]
  },
  {
   "cell_type": "markdown",
   "id": "221b7fd1",
   "metadata": {},
   "source": [
    "\n",
    "In this example Param will await the asynchronous function and the image will be updated when the request completes.\n",
    "\n",
    "## Bokeh models with `pn.io.with_lock`\n",
    "\n"
   ]
  },
  {
   "cell_type": "code",
   "execution_count": null,
   "id": "92400cd7",
   "metadata": {},
   "outputs": [],
   "source": [
    "import numpy as np\n",
    "from bokeh.plotting import figure\n",
    "from bokeh.models import ColumnDataSource\n",
    "\n",
    "button = pn.widgets.Button(name='Click me!')\n",
    "\n",
    "p = figure(width=500, height=300)\n",
    "cds = ColumnDataSource(data={'x': [0], 'y': [0]})\n",
    "p.line(x='x', y='y', source=cds)\n",
    "pane = pn.pane.Bokeh(p)\n",
    "\n",
    "@pn.io.with_lock\n",
    "async def stream(event):\n",
    "    await asyncio.sleep(1)\n",
    "    x, y = cds.data['x'][-1], cds.data['y'][-1]\n",
    "    cds.stream({'x': list(range(x+1, x+6)), 'y': y+np.random.randn(5).cumsum()})\n",
    "    pane.param.trigger('object')\n",
    "\n",
    "# Equivalent to `.on_click` but shown\n",
    "button.param.watch(stream, 'clicks')\n",
    "\n",
    "pn.Row(button, pane)"
   ]
  },
  {
   "cell_type": "markdown",
   "id": "c5a45244",
   "metadata": {},
   "source": [
    "\n",
    "## Related Resources\n",
    "\n",
    "- See the related [How-to > Link Parameters with Callbacks API](../links/index) guides, including [How to > Create Low-Level Python Links Using `.watch`](../links/watchers).\n"
   ]
  }
 ],
 "metadata": {},
 "nbformat": 4,
 "nbformat_minor": 5
}
