{
 "cells": [
  {
   "cell_type": "markdown",
   "id": "74e43ab5",
   "metadata": {},
   "source": [
    ".. raw:: html\n",
    "    <head>\n",
    "        <meta http-equiv='refresh' content='0; URL=./index.html#share-your-work'>\n",
    "    </head>\n",
    "\n",
    "# Share your work\n",
    "\n",
    "```{toctree}\n",
    ":titlesonly:\n",
    ":hidden:\n",
    ":maxdepth: 1\n",
    "\n",
    "Configure the server<server/index>\n",
    "Integrate with other servers<integrations/index>\n",
    "Deploy applications<deployment/index>\n",
    "Export apps<export/index>\n",
    "Run panel in WebAssembly<wasm/index>\n",
    "```\n"
   ]
  }
 ],
 "metadata": {},
 "nbformat": 4,
 "nbformat_minor": 5
}
