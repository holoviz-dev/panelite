{
 "cells": [
  {
   "cell_type": "markdown",
   "id": "f37e0a3a",
   "metadata": {},
   "source": [
    "# Access HTTP Request State\n",
    "\n",
    "This guide addresses how to access information about the HTTP request associated with a session.\n",
    "\n",
    "```{admonition} Prerequisites\n",
    "1. See the [How to > Access and Manipulate the URL](url) guide to learn how to work with the URL.\n",
    "```\n",
    "---\n",
    "\n",
    "The `panel.state` object holds a wide range of information about the HTTP request that is associated with a running session. Note that if you are running Panel inside a notebook session these attributes will simply return `None`.\n",
    "\n",
    "## Request arguments\n",
    "\n",
    "The request arguments are made available to be accessed on ``pn.state.session_args``. For example if your application is hosted at ``localhost:8001/app``, appending ``?phase=0.5`` to the URL will allow you to access the phase variable using the following code:\n",
    "\n",
    "```python\n",
    "try:\n",
    "    phase = int(pn.state.session_args.get('phase')[0])\n",
    "except Exception:\n",
    "    phase = 1\n",
    "```\n",
    "\n",
    "This mechanism may be used to modify the behavior of an app depending on parameters provided in the URL.\n",
    "\n",
    "## Cookies\n",
    "\n",
    "The `panel.state.cookies` will allow accessing the cookies stored in the browser and on the bokeh server.\n",
    "\n",
    "## Headers\n",
    "\n",
    "The `panel.state.headers` will allow accessing the HTTP headers stored in the browser and on the bokeh server.\n",
    "\n",
    "## Related Resources\n"
   ]
  }
 ],
 "metadata": {},
 "nbformat": 4,
 "nbformat_minor": 5
}
