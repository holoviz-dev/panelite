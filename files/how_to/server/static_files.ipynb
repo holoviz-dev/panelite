{
 "cells": [
  {
   "cell_type": "markdown",
   "id": "423d9541",
   "metadata": {},
   "source": [
    "# Serving static files\n",
    "\n",
    "Whether you're launching your application using `panel serve` from the commandline or using `pn.serve` in a script you can also serve static files. When using `panel serve` you can use the `--static-dirs` argument to specify a list of static directories to serve along with their routes, e.g.:\n",
    "\n",
    "    panel serve some_script.py --static-dirs assets=./assets\n",
    "\n",
    "This will serve the `./assets` directory on the servers `/assets` route. Note however that the `/static` route is reserved internally by Panel.\n",
    "\n",
    "Similarly when using `pn.serve` or `panel_obj.show` the static routes may be defined as a dictionary, e.g. the equivalent to the example would be:\n",
    "\n",
    "    pn.serve(panel_obj, static_dirs={'assets': './assets'})\n"
   ]
  }
 ],
 "metadata": {},
 "nbformat": 4,
 "nbformat_minor": 5
}
