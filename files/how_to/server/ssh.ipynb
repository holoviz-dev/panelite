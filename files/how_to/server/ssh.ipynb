{
 "cells": [
  {
   "cell_type": "markdown",
   "id": "9fd8b2d8",
   "metadata": {},
   "source": [
    "# Connect to a remote server via SSH\n",
    "\n",
    "In some scenarios a standalone bokeh server may be running on remote host. In such cases, SSH can be used to “tunnel” to the server. In the simplest scenario, the Bokeh server will run on one host and will be accessed from another location, e.g., a laptop, with no intermediary machines.\n",
    "\n",
    "Run the server as usual on the remote host:\n",
    "\n",
    "Next, issue the following command on the local machine to establish an SSH tunnel to the remote host:\n",
    "\n",
    "```\n",
    "ssh -NfL localhost:5006:localhost:5006 user@remote.host\n",
    "```\n",
    "\n",
    "Replace user with your username on the remote host and remote.host with the hostname/IP address of the system hosting the Bokeh server. You may be prompted for login credentials for the remote system. After the connection is set up you will be able to navigate to localhost:5006 as though the Bokeh server were running on the local machine.\n",
    "\n",
    "The second, slightly more complicated case occurs when there is a gateway between the server and the local machine. In that situation a reverse tunnel must be established from the server to the gateway. Additionally the tunnel from the local machine will also point to the gateway.\n",
    "\n",
    "Issue the following commands on the remote host where the Bokeh server will run:\n",
    "\n",
    "```\n",
    "nohup bokeh server &\n",
    "ssh -NfR 5006:localhost:5006 user@gateway.host\n",
    "```\n",
    "\n",
    "Replace user with your username on the gateway and gateway.host with the hostname/IP address of the gateway. You may be prompted for login credentials for the gateway.\n",
    "\n",
    "Now set up the other half of the tunnel, from the local machine to the gateway. On the local machine:\n",
    "\n",
    "```\n",
    "ssh -NfL localhost:5006:localhost:5006 user@gateway.host\n",
    "```\n",
    "\n",
    "Again, replace user with your username on the gateway and gateway.host with the hostname/IP address of the gateway. You should now be able to access the Bokeh server from the local machine by navigating to localhost:5006 on the local machine, as if the Bokeh server were running on the local machine. You can even set up client connections from a Jupyter notebook running on the local machine.\n"
   ]
  }
 ],
 "metadata": {},
 "nbformat": 4,
 "nbformat_minor": 5
}
