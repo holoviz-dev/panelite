{
 "cells": [
  {
   "cell_type": "markdown",
   "id": "49315383",
   "metadata": {},
   "source": [
    "# Heroku\n",
    "\n",
    "Heroku makes deployment of arbitrary apps including Panel apps and dashboards very easy and provides a free tier to get you started. This makes it a great starting point for users not too familiar with web development and deployment.\n",
    "\n",
    "To get started working with Heroku [signup](https://signup.heroku.com) for a free account and [download and install the CLI](https://devcenter.heroku.com/articles/getting-started-with-python#set-up). Once you are set up follow the instructions to log into the CLI.\n",
    "\n",
    "1. Create a new Git repo (or to follow along clone the [minimal-heroku-demo](https://github.com/pyviz-demos/minimal-heroku-demo) GitHub repo)\n",
    "\n",
    "2. Add a Jupyter notebook or Python script which declares a Panel app or dashboard to the repository.\n",
    "\n",
    "3. Define a requirements.txt containing all the requirements for your app (including Panel itself). For the sample app the requirements are as minimal as:\n",
    "\n",
    "```\n",
    "panel\n",
    "hvplot\n",
    "scikit-learn\n",
    "```\n",
    "\n",
    "3. Define a `Procfile` which declares the command Heroku should run to serve the app. In the sample app the following command serves the `iris_kmeans.ipynb` example. The websocket origin should match the name of the app on Heroku ``app-name.herokuapp.com`` which you will declare in the next step:\n",
    "\n",
    "```\n",
    "web: panel serve --address=\"0.0.0.0\" --port=$PORT iris_kmeans.ipynb --allow-websocket-origin=app-name.herokuapp.com\n",
    "```\n",
    "\n",
    "4. Create a Heroku app using the CLI ensuring that the name matches the URL we declared in the previous step:\n",
    "\n",
    "```\n",
    "heroku create app-name\n",
    "```\n",
    "\n",
    "5. Push the app to heroku and wait until it is deployed.\n",
    "\n",
    "6. Visit the app at app-name.herokuapp.com\n",
    "\n",
    "Once you have deployed the app you might find that if your app is visited by more than one user at a time it will become unresponsive. In this case you can use the Heroku CLI [to scale your deployment](https://devcenter.heroku.com/articles/getting-started-with-python#scale-the-app).\n"
   ]
  }
 ],
 "metadata": {},
 "nbformat": 4,
 "nbformat_minor": 5
}
