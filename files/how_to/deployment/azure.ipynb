{
 "cells": [
  {
   "cell_type": "markdown",
   "id": "673cd599",
   "metadata": {},
   "source": [
    "# Microsoft Azure\n",
    "\n",
    "Azure is popular choice for enterprises often in combination with an automated CI/CD pipeline via Azure DevOps. To get started you can use the [Azure Portal](https://portal.azure.com) to deploy your app as a Linux Web App via the web based user interface.\n",
    "\n",
    "There are a few things you need to be aware of in order to be able to start your app.\n",
    "\n",
    "Python Web Apps assumes your web app\n",
    "\n",
    "- is using `gunicorn` (like Flask or Django) or alternative is started by a `python` command. Thus\n",
    "    - You **cannot use** `panel serve app.py ...` as a *Startup Command*.\n",
    "    - You **can use** `python -m panel serve app.py ...` or `python app.py ...` as a *Startup command*.\n",
    "- is served on address 0.0.0.0 and port 8000\n",
    "\n",
    "Thus you can use\n",
    "\n",
    "```bash\n",
    "python -m panel serve app.py --address 0.0.0.0 --port 8000 --allow-websocket-origin=app-name.azurewebsites.net\n",
    "```\n",
    "\n",
    "as a *Startup command*.\n",
    "\n",
    "You might be able to use `python app.py` as a *Startup command* with `.show()` or `panel.serve` inside your `app.py` file, if you can configure the `address`, `port` and `allow-websocket-origin` in the app.py file or via environment variables.\n",
    "\n",
    "You also need to configure your app service **general settings** to\n",
    "\n",
    "- allow `Web sockets` and\n",
    "- be `Always on`\n",
    "\n",
    "<img src=\"../../_static/images/azure_deployment.png\" style=\"width:67%\"></img>\n",
    "\n",
    "If you would like to setup **automated CI/ CD** via Azure DevOps, Azure Pipelines and Docker to a Web App for Containers, you can find a good starting point in the [devops Folder](https://github.com/MarcSkovMadsen/awesome-panel/tree/master/devops) of [awesome-panel.org](https://awesome-panel.org).\n"
   ]
  }
 ],
 "metadata": {},
 "nbformat": 4,
 "nbformat_minor": 5
}
