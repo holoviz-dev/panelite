{
 "cells": [
  {
   "cell_type": "markdown",
   "id": "404fa018",
   "metadata": {},
   "source": [
    "# Multi Page Apps\n",
    "\n",
    "Migrating your Streamlit multi page app to Panel is simple. In Panel each page is simply a file\n",
    "that you *serve*\n",
    "\n",
    "```bash\n",
    "panel serve home.py page1.py page2.ipynb\n",
    "```\n",
    "\n",
    "You can specify the *home* page with the `--index` flag.\n",
    "\n",
    "```bash\n",
    "panel serve home.py page1.py page2.ipynb --index=home\n",
    "```\n"
   ]
  }
 ],
 "metadata": {},
 "nbformat": 4,
 "nbformat_minor": 5
}
