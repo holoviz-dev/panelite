{
 "cells": [
  {
   "cell_type": "markdown",
   "id": "ab1b9b4b",
   "metadata": {},
   "source": [
    "# Generate widgets for function arguments\n",
    "\n",
    "This guide addresses how to generate widgets for function arguments with Panel `interact`.\n",
    "\n",
    "---\n",
    "\n",
    "First, let's declare a simple function that just returns the arguments:\n",
    "\n"
   ]
  },
  {
   "cell_type": "code",
   "execution_count": null,
   "id": "0c4e21bc",
   "metadata": {},
   "outputs": [],
   "source": [
    "import panel as pn\n",
    "pn.extension() # for notebook\n",
    "\n",
    "def foo(a, b, c, d, e, f):\n",
    "    return f'Arguments: {a, b, c, d, e, f}'"
   ]
  },
  {
   "cell_type": "markdown",
   "id": "e6d74b2b",
   "metadata": {},
   "source": [
    "\n",
    "Next, let's call `interact` with the function and it's arguments. The values of the arguments will be inspected to infer an appropriate set of widgets to autogenerate. After running the code block, changing any of the resulting widgets will cause the function to be re-run, updating the displayed output.\n",
    "\n"
   ]
  },
  {
   "cell_type": "code",
   "execution_count": null,
   "id": "d8ac02aa",
   "metadata": {},
   "outputs": [],
   "source": [
    "pn.interact(\n",
    "    foo,\n",
    "    a=True,\n",
    "    b=10,\n",
    "    c=(-10, 10, 0.1, 5.4),\n",
    "    d='text',\n",
    "    e=['apples', 'oranges'],\n",
    "    f=dict([('first', 10), ('second', 20)])\n",
    ")"
   ]
  },
  {
   "cell_type": "markdown",
   "id": "c7389c6b",
   "metadata": {},
   "source": [
    "\n",
    "We can also explicitly pass a widget as one of the values:\n",
    "\n"
   ]
  },
  {
   "cell_type": "code",
   "execution_count": null,
   "id": "776e4a36",
   "metadata": {},
   "outputs": [],
   "source": [
    "def create_block(c):\n",
    "    return pn.pane.HTML(width=100, height=100, styles={'background': c})\n",
    "\n",
    "color_widget = pn.widgets.ColorPicker(name='Color', value='#4f4fdf')\n",
    "\n",
    "pn.interact(create_block, c=color_widget)"
   ]
  },
  {
   "cell_type": "markdown",
   "id": "70db1456",
   "metadata": {},
   "source": [
    "\n",
    "Alternatively, this `interact` approach can be used as a decorator:\n",
    "\n"
   ]
  },
  {
   "cell_type": "code",
   "execution_count": null,
   "id": "e063c773",
   "metadata": {},
   "outputs": [],
   "source": [
    "@pn.interact(x=True, y=10)\n",
    "def bar(x, y):\n",
    "    return x, y\n",
    "bar"
   ]
  },
  {
   "cell_type": "markdown",
   "id": "08efc373",
   "metadata": {},
   "source": [
    "\n",
    "Let's put this all together:\n",
    "\n"
   ]
  },
  {
   "cell_type": "code",
   "execution_count": null,
   "id": "2b9cf931",
   "metadata": {},
   "outputs": [],
   "source": [
    "import panel as pn\n",
    "pn.extension() # for notebook\n",
    "\n",
    "def foo(a, b, c, d, e, f):\n",
    "    return f'Arguments: {a, b, c, d, e, f}'\n",
    "\n",
    "pn.interact(\n",
    "    foo,\n",
    "    a=True,\n",
    "    b=10,\n",
    "    c=(-10, 10, 0.1, 5.4),\n",
    "    d='text',\n",
    "    e=['apples', 'oranges'],\n",
    "    f=dict([('first', 10), ('second', 20)])\n",
    ")\n",
    "\n",
    "def create_block(c):\n",
    "    return pn.pane.HTML(width=100, height=100, styles={'background': c})\n",
    "\n",
    "color_widget = pn.widgets.ColorPicker(name='Color', value='#4f4fdf')\n",
    "\n",
    "pn.interact(create_block, c=color_widget)"
   ]
  },
  {
   "cell_type": "markdown",
   "id": "954316cf",
   "metadata": {},
   "source": [
    "\n",
    "## Related Resources\n"
   ]
  }
 ],
 "metadata": {},
 "nbformat": 4,
 "nbformat_minor": 5
}
