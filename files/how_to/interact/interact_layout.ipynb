{
 "cells": [
  {
   "cell_type": "markdown",
   "id": "7785bc05",
   "metadata": {},
   "source": [
    "# Customize Layout with Interact\n",
    "\n",
    "This guide addresses how to customize the layout of the widgets and displays from the output of Panel `interact`.\n",
    "\n",
    "```{admonition} Prerequisites\n",
    "1. The [How to > Generate Widgets for Function Arguments](interact_basics) guide covers how to generate widgets for function arguments with Panel interact.\n",
    "```\n",
    "\n",
    "---\n",
    "\n",
    "First, let's create a function and call `interact` to return a Panel containing the widgets and the display output.\n",
    "\n"
   ]
  },
  {
   "cell_type": "code",
   "execution_count": null,
   "id": "8550e8f7",
   "metadata": {},
   "outputs": [],
   "source": [
    "import panel as pn\n",
    "pn.extension() # for notebook\n",
    "\n",
    "def f(x, y, z):\n",
    "    return x, y, z\n",
    "\n",
    "layout = pn.interact(f, x=True, y=10, z='text')\n",
    "\n",
    "layout"
   ]
  },
  {
   "cell_type": "markdown",
   "id": "c319f838",
   "metadata": {},
   "source": [
    "\n",
    "We can always print the Panel contents to check the indexing:\n",
    "\n"
   ]
  },
  {
   "cell_type": "code",
   "execution_count": null,
   "id": "21365510",
   "metadata": {},
   "outputs": [],
   "source": [
    "print(layout)"
   ]
  },
  {
   "cell_type": "markdown",
   "id": "8c95474b",
   "metadata": {},
   "source": [
    "\n",
    "Now, by indexing into this Panel we can lay out the objects precisely how we want:\n",
    "\n"
   ]
  },
  {
   "cell_type": "code",
   "execution_count": null,
   "id": "75642e34",
   "metadata": {},
   "outputs": [],
   "source": [
    "pn.Row(pn.Column('First Column', layout[0][0], layout[0][1], width=200),\n",
    "       pn.Column('Second Column', layout[0][2], width=200),\n",
    "       pn.Column('Returns', layout[1]),\n",
    "      )"
   ]
  },
  {
   "cell_type": "markdown",
   "id": "43207d15",
   "metadata": {},
   "source": [
    "\n",
    "## Related Resources\n"
   ]
  }
 ],
 "metadata": {},
 "nbformat": 4,
 "nbformat_minor": 5
}
