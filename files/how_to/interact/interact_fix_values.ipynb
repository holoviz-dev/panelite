{
 "cells": [
  {
   "cell_type": "markdown",
   "id": "92efd58b",
   "metadata": {},
   "source": [
    "# Fix Values with `Interact`\n",
    "\n",
    "This guide addresses how to fix the value for certain arguments with Panel `interact`.\n",
    "\n",
    "```{admonition} Prerequisites\n",
    "1. The [How to > Generate Widgets for Function Arguments](interact_basics) guide covers how to generate widgets for function arguments with Panel interact.\n",
    "```\n",
    "\n",
    "---\n",
    "\n",
    "First, let's declare a simple function.\n",
    "\n"
   ]
  },
  {
   "cell_type": "code",
   "execution_count": null,
   "id": "537a98f2",
   "metadata": {},
   "outputs": [],
   "source": [
    "import panel as pn\n",
    "from panel.interact import fixed\n",
    "pn.extension() # for notebook\n",
    "\n",
    "def f(x, y):\n",
    "    return x, y"
   ]
  },
  {
   "cell_type": "markdown",
   "id": "269296ff",
   "metadata": {},
   "source": [
    "\n",
    "Now, call `interact` using the `panel.interact.fixed` function to fix one of the values:\n",
    "\n"
   ]
  },
  {
   "cell_type": "code",
   "execution_count": null,
   "id": "76fbaec0",
   "metadata": {},
   "outputs": [],
   "source": [
    "pn.interact(f, x=1, y=fixed(10))"
   ]
  },
  {
   "cell_type": "markdown",
   "id": "37ffd103",
   "metadata": {},
   "source": [
    "\n",
    "## Related Resources\n"
   ]
  }
 ],
 "metadata": {},
 "nbformat": 4,
 "nbformat_minor": 5
}
