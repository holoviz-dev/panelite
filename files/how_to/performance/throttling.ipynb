{
 "cells": [
  {
   "cell_type": "markdown",
   "id": "ff61a31d",
   "metadata": {},
   "source": [
    "# Enable Throttling\n",
    "\n",
    "One of the simplest ways to avoid slowing down your application is simply to control how often events from the frontend trigger code execution in Python. Particularly when using sliders this can be a problem. To solve this issue sliders offer `value_throttled` parameters which are updated only when the user releases the slider unlike the `value` parameter which is updated continuously as the slider is dragged. If you are building apps using the reactive `pn.bind` function you can depend on the `value_throttled` parameter directly:\n",
    "\n"
   ]
  },
  {
   "cell_type": "code",
   "execution_count": null,
   "id": "198fd072",
   "metadata": {},
   "outputs": [],
   "source": [
    "import panel as pn\n",
    "pn.extension()\n",
    "\n",
    "def output(value):\n",
    "    return value\n",
    "\n",
    "slider = pn.widgets.IntSlider(end=10)\n",
    "bound_output = pn.bind(output, slider.param.value_throttled)\n",
    "pn.Row(slider, bound_output)"
   ]
  },
  {
   "cell_type": "markdown",
   "id": "c8b8d9a6",
   "metadata": {},
   "source": [
    "\n",
    "Alternatively, you can also ensure that all sliders only update on mouse release if you set `pn.config.throttled = True`.\n"
   ]
  }
 ],
 "metadata": {},
 "nbformat": 4,
 "nbformat_minor": 5
}
