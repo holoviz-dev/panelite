{
 "cells": [
  {
   "cell_type": "markdown",
   "id": "ce3367b9",
   "metadata": {},
   "source": [
    "# Access and Set Widget Values\n",
    "\n",
    "This guide addresses how to access and set widget values.\n",
    "\n",
    "---\n",
    "\n",
    "In addition to other parameters that govern widget behavior and appearance, Widget objects have a ``value`` parameter that can be used to access the current value state.\n",
    "\n",
    "\n",
    "Let's first create a `TextInput` widget:\n",
    "\n"
   ]
  },
  {
   "cell_type": "code",
   "execution_count": null,
   "id": "179eaf3a",
   "metadata": {},
   "outputs": [],
   "source": [
    "import panel as pn\n",
    "pn.extension() # for notebook\n",
    "\n",
    "widget = pn.widgets.TextInput(name='A widget', value='A string')\n",
    "widget"
   ]
  },
  {
   "cell_type": "markdown",
   "id": "a774857c",
   "metadata": {},
   "source": [
    "\n",
    "Now we can programmatically access its value:\n",
    "\n"
   ]
  },
  {
   "cell_type": "code",
   "execution_count": null,
   "id": "337c0122",
   "metadata": {},
   "outputs": [],
   "source": [
    "widget.value"
   ]
  },
  {
   "cell_type": "markdown",
   "id": "e2c5d1ae",
   "metadata": {},
   "source": [
    "\n",
    "We can also use this value parameter to set the widget value:\n",
    "\n"
   ]
  },
  {
   "cell_type": "code",
   "execution_count": null,
   "id": "126779b4",
   "metadata": {},
   "outputs": [],
   "source": [
    "widget.value = '3'"
   ]
  },
  {
   "cell_type": "markdown",
   "id": "5feb5ab3",
   "metadata": {},
   "source": [
    "\n",
    "---\n",
    "\n",
    "## Related Resources\n",
    "\n",
    "- Learn more about Panes in [Explanation > Components](../../explanation/components/components_overview.md#panes).\n"
   ]
  }
 ],
 "metadata": {},
 "nbformat": 4,
 "nbformat_minor": 5
}
