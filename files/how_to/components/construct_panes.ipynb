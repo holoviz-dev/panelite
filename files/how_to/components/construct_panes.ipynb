{
 "cells": [
  {
   "cell_type": "markdown",
   "id": "3766e799",
   "metadata": {},
   "source": [
    "# Construct Panes\n",
    "\n",
    "This guide addresses how to construct Pane objects for displaying visible components.\n",
    "\n",
    "---\n",
    "\n",
    "There are two main ways to construct a pane - explicitly or automatically.\n",
    "\n",
    "To explicitly construct a pane, use one of the pane types listed in the [component gallery](../../reference/index#panes). For example, you can create a Markdown pane as follows:\n",
    "\n"
   ]
  },
  {
   "cell_type": "code",
   "execution_count": null,
   "id": "cdb579b0",
   "metadata": {},
   "outputs": [],
   "source": [
    "import panel as pn\n",
    "pn.extension() # for notebook\n",
    "\n",
    "pn.pane.Markdown('''\n",
    "# H1\n",
    "## H2\n",
    "### H3\n",
    "''')"
   ]
  },
  {
   "cell_type": "markdown",
   "id": "0ffb0946",
   "metadata": {},
   "source": [
    "\n",
    "Alternatively, you can create a pane using the `pn.panel()` utility to automatically infer the pane type from the object being passed as the argument:\n",
    "\n"
   ]
  },
  {
   "cell_type": "code",
   "execution_count": null,
   "id": "6b287ef2",
   "metadata": {},
   "outputs": [],
   "source": [
    "png = pn.panel('https://upload.wikimedia.org/wikipedia/commons/4/47/PNG_transparency_demonstration_1.png', width=500)\n",
    "\n",
    "png"
   ]
  },
  {
   "cell_type": "markdown",
   "id": "86805e6b",
   "metadata": {},
   "source": [
    "\n",
    "---\n",
    "\n",
    "## Related Resources\n",
    "\n",
    "- Learn more about Panes in [Explanation > Components](../../explanation/components/components_overview.md#panes).\n"
   ]
  }
 ],
 "metadata": {},
 "nbformat": 4,
 "nbformat_minor": 5
}
