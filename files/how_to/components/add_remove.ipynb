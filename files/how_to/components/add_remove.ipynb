{
 "cells": [
  {
   "cell_type": "markdown",
   "id": "b019be17",
   "metadata": {},
   "source": [
    "# Add or Remove Components from Panels\n",
    "\n",
    "This guide addresses how to add or remove components from ``Panels``, starting with the most common: ``Row`` and ``Column``.\n",
    "\n",
    "## Row & Column Panels\n",
    "\n",
    "To start, we will declare a ``Column`` and populate it with some text and a widget:\n",
    "\n"
   ]
  },
  {
   "cell_type": "code",
   "execution_count": null,
   "id": "5ff5aa34",
   "metadata": {},
   "outputs": [],
   "source": [
    "import panel as pn\n",
    "pn.extension() # for notebook\n",
    "\n",
    "column = pn.Column('some text', pn.widgets.FloatSlider())\n",
    "\n",
    "column"
   ]
  },
  {
   "cell_type": "markdown",
   "id": "b1939636",
   "metadata": {},
   "source": [
    "\n",
    "As we can manipulate a ``Row`` or ``Column`` object just like a Python list, we'll use `.append` to add some markdown:\n",
    "\n"
   ]
  },
  {
   "cell_type": "code",
   "execution_count": null,
   "id": "ed0a68fd",
   "metadata": {},
   "outputs": [],
   "source": [
    "column.append('* Item 1\\n* Item 2')\n",
    "\n",
    "column"
   ]
  },
  {
   "cell_type": "markdown",
   "id": "1d5fec23",
   "metadata": {},
   "source": [
    "\n",
    "Next, we add a few more widgets:\n",
    "\n"
   ]
  },
  {
   "cell_type": "code",
   "execution_count": null,
   "id": "98c088bb",
   "metadata": {},
   "outputs": [],
   "source": [
    "column.extend([pn.widgets.TextInput(), pn.widgets.Checkbox(name='Tick this!')])\n",
    "\n",
    "column"
   ]
  },
  {
   "cell_type": "markdown",
   "id": "e914df5f",
   "metadata": {},
   "source": [
    "\n",
    "Now, we change our mind and replace the ``Checkbox`` with a button:\n",
    "\n"
   ]
  },
  {
   "cell_type": "code",
   "execution_count": null,
   "id": "9619c9c6",
   "metadata": {},
   "outputs": [],
   "source": [
    "column[4] = pn.widgets.Button(name='Click here')\n",
    "\n",
    "column"
   ]
  },
  {
   "cell_type": "markdown",
   "id": "632ea125",
   "metadata": {},
   "source": [
    "\n",
    "Finally, we decide to remove the FloatSlider widget, but we forget its index. We can use `print` to see the index of the components:\n",
    "\n"
   ]
  },
  {
   "cell_type": "code",
   "execution_count": null,
   "id": "7e6b5cd4",
   "metadata": {},
   "outputs": [],
   "source": [
    "print(column)"
   ]
  },
  {
   "cell_type": "markdown",
   "id": "1ede8be9",
   "metadata": {},
   "source": [
    "\n",
    "and then `.pop` to remove the FloatSlider:\n",
    "\n"
   ]
  },
  {
   "cell_type": "code",
   "execution_count": null,
   "id": "66aad131",
   "metadata": {},
   "outputs": [],
   "source": [
    "column.pop(1)\n",
    "\n",
    "column"
   ]
  },
  {
   "cell_type": "markdown",
   "id": "00e9235f",
   "metadata": {},
   "source": [
    "\n",
    "Here is the complete code for this subsection in case you want to easily copy it:\n",
    "\n"
   ]
  },
  {
   "cell_type": "code",
   "execution_count": null,
   "id": "3ad07cf8",
   "metadata": {},
   "outputs": [],
   "source": [
    "import panel as pn\n",
    "pn.extension() # for notebook\n",
    "\n",
    "column = pn.Column('some text', pn.widgets.FloatSlider())\n",
    "column.append('* Item 1\\n* Item 2')\n",
    "column.extend([pn.widgets.TextInput(), pn.widgets.Checkbox(name='Tick this!')])\n",
    "column[4] = pn.widgets.Button(name='Click here')\n",
    "column.pop(1)\n",
    "\n",
    "column"
   ]
  },
  {
   "cell_type": "markdown",
   "id": "cf96a07d",
   "metadata": {},
   "source": [
    "\n",
    "## Tabs Panel\n",
    "\n",
    "``Tabs`` can also be changed like a Python list. However, when adding or replacing tab items, it is also possible to pass a tuple providing a custom title for the tab. First, create a ``Tabs`` panel that contains a plot:\n",
    "\n"
   ]
  },
  {
   "cell_type": "code",
   "execution_count": null,
   "id": "c2289823",
   "metadata": {},
   "outputs": [],
   "source": [
    "from bokeh.plotting import figure\n",
    "\n",
    "p1 = figure(width=300, height=300)\n",
    "p1.line([1, 2, 3], [1, 2, 3])\n",
    "\n",
    "tabs = pn.Tabs(p1)\n",
    "\n",
    "tabs"
   ]
  },
  {
   "cell_type": "markdown",
   "id": "09e27197",
   "metadata": {},
   "source": [
    "\n",
    "Then, add a new tab for a slider widget and include a title for this new tab:\n",
    "\n"
   ]
  },
  {
   "cell_type": "code",
   "execution_count": null,
   "id": "d624bf47",
   "metadata": {},
   "outputs": [],
   "source": [
    "tabs.append(('Slider', pn.widgets.FloatSlider()))\n",
    "\n",
    "tabs"
   ]
  },
  {
   "cell_type": "markdown",
   "id": "8890380b",
   "metadata": {},
   "source": [
    "\n",
    "Finally, add multiple additional tabs at once using `.extend`, passing titles for each:\n",
    "\n"
   ]
  },
  {
   "cell_type": "code",
   "execution_count": null,
   "id": "18123117",
   "metadata": {},
   "outputs": [],
   "source": [
    "tabs.extend([\n",
    "    ('Text', pn.widgets.TextInput()),\n",
    "    ('Color', pn.widgets.ColorPicker())\n",
    "])\n",
    "\n",
    "tabs"
   ]
  },
  {
   "cell_type": "markdown",
   "id": "f548352a",
   "metadata": {},
   "source": [
    "\n",
    "Here is the complete code for this subsection in case you want to easily copy it:\n"
   ]
  },
  {
   "cell_type": "code",
   "execution_count": null,
   "id": "fce2e008",
   "metadata": {},
   "outputs": [],
   "source": [
    "import panel as pn\n",
    "pn.extension() # for notebook\n",
    "from bokeh.plotting import figure\n",
    "\n",
    "p1 = figure(width=300, height=300)\n",
    "p1.line([1, 2, 3], [1, 2, 3])\n",
    "\n",
    "tabs = pn.Tabs(p1)\n",
    "tabs.append(('Slider', pn.widgets.FloatSlider()))\n",
    "tabs.extend([\n",
    "    ('Text', pn.widgets.TextInput()),\n",
    "    ('Color', pn.widgets.ColorPicker())\n",
    "])\n",
    "\n",
    "tabs"
   ]
  },
  {
   "cell_type": "markdown",
   "id": "0d3624f7",
   "metadata": {},
   "source": [
    "\n",
    "## GridSpec Panel\n",
    "\n",
    "A ``GridSpec`` behaves like a 2D array. The indexing is zero-based and specifies the rows first and the columns second.\n",
    "\n",
    "First, declare a ``GridSpec`` and add red and blue blocks. The red block goes in the first row and spans 3 columns. The blue block spans from the second to fourth row, but only occupies the first column:\n",
    "\n"
   ]
  },
  {
   "cell_type": "code",
   "execution_count": null,
   "id": "0f68f763",
   "metadata": {},
   "outputs": [],
   "source": [
    "gridspec = pn.GridSpec(sizing_mode='stretch_both', min_height=600)\n",
    "\n",
    "gridspec[0, :3] = pn.Spacer(styles={'background': '#FF0000'})\n",
    "gridspec[1:3, 0] = pn.Spacer(styles={'background': '#0000FF'})\n",
    "\n",
    "gridspec"
   ]
  },
  {
   "cell_type": "markdown",
   "id": "7d41cefa",
   "metadata": {},
   "source": [
    "\n",
    "Next, add our previously created bokeh figure to the remaining slots of the second row:\n",
    "\n"
   ]
  },
  {
   "cell_type": "code",
   "execution_count": null,
   "id": "c5dc606f",
   "metadata": {},
   "outputs": [],
   "source": [
    "gridspec[1:3, 1:3] = p1\n",
    "\n",
    "gridspec"
   ]
  },
  {
   "cell_type": "markdown",
   "id": "6f7cb4f5",
   "metadata": {},
   "source": [
    "\n",
    "Then, place an image and a ``Column`` of widgets under the plot:\n",
    "\n"
   ]
  },
  {
   "cell_type": "code",
   "execution_count": null,
   "id": "b694a98a",
   "metadata": {},
   "outputs": [],
   "source": [
    "gridspec[3, 2] = pn.Column(\n",
    "    pn.widgets.FloatSlider(),\n",
    "    pn.widgets.ColorPicker(),\n",
    "    pn.widgets.Toggle(name='Toggle Me!'))\n",
    "gridspec[3, 1] = 'https://upload.wikimedia.org/wikipedia/commons/4/47/PNG_transparency_demonstration_1.png'\n",
    "\n",
    "gridspec"
   ]
  },
  {
   "cell_type": "markdown",
   "id": "a37687b6",
   "metadata": {},
   "source": [
    "\n",
    "Finally, remove the Spacers:\n",
    "\n"
   ]
  },
  {
   "cell_type": "code",
   "execution_count": null,
   "id": "3246367a",
   "metadata": {},
   "outputs": [],
   "source": [
    "del gridspec[0, :3]\n",
    "del gridspec[1:3, 0]\n",
    "\n",
    "gridspec"
   ]
  },
  {
   "cell_type": "markdown",
   "id": "b449fafb",
   "metadata": {},
   "source": [
    "\n",
    "Here is the complete code for this subsection in case you want to easily copy it:\n",
    "\n"
   ]
  },
  {
   "cell_type": "code",
   "execution_count": null,
   "id": "e3d2061c",
   "metadata": {},
   "outputs": [],
   "source": [
    "import panel as pn\n",
    "pn.extension() # for notebook\n",
    "\n",
    "gridspec = pn.GridSpec(sizing_mode='stretch_both', max_height=400)\n",
    "\n",
    "gridspec[0, :3] = pn.Spacer(styles={'background': '#FF0000'})\n",
    "gridspec[1:3, 0] = pn.Spacer(styles={'background': '#0000FF'})\n",
    "\n",
    "gridspec[1:3, 1:3] = p1\n",
    "\n",
    "gridspec[3, 2] = pn.Column(\n",
    "    pn.widgets.FloatSlider(),\n",
    "    pn.widgets.ColorPicker(),\n",
    "    pn.widgets.Toggle(name='Toggle Me!'))\n",
    "gridspec[3, 1] = 'https://upload.wikimedia.org/wikipedia/commons/4/47/PNG_transparency_demonstration_1.png'\n",
    "\n",
    "del gridspec[0, :3]\n",
    "del gridspec[1:3, 0]\n",
    "\n",
    "gridspec"
   ]
  },
  {
   "cell_type": "markdown",
   "id": "bc7d403c",
   "metadata": {},
   "source": [
    "\n",
    "---\n",
    "\n",
    "## Related Resources\n",
    "\n",
    "- Learn more about Panes in [Explanation > Components](../../explanation/components/components_overview.md#panes).\n",
    "- For more detail about `GridSpec` Panels, see the [Component Gallery > GridSpec](../reference/layouts/GridSpec).\n"
   ]
  }
 ],
 "metadata": {},
 "nbformat": 4,
 "nbformat_minor": 5
}
