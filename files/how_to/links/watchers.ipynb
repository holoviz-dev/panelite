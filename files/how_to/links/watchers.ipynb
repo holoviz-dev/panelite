{
 "cells": [
  {
   "cell_type": "markdown",
   "id": "2f56d06d",
   "metadata": {},
   "source": [
    "# Create Low-Level Python Links Using ``.watch``\n",
    "\n",
    "This guide addresses how to use the low-level `.watch` API to trigger callbacks on parameters.\n",
    "\n",
    "```{admonition} Prerequisites\n",
    "1. The [How to > Create High-Level Python Links with '.link'](./links) guide demonstrates a high-level API to link to parameters, which is adequate in most cases.\n",
    "```\n",
    "\n",
    "---\n",
    "\n",
    "If we need more control than what `.link` provides, we can fall back to the underlying `.watch` method. The main differences are that `.watch`:\n",
    "1) does not assume you are linking two objects (providing more control over what you are watching)\n",
    "2) allows batched callbacks when multiple parameters change at once\n",
    "3) allows you to specify that an event should be triggered every time the parameter is set (instead of the default of only when the parameter value actually changes)\n",
    "\n",
    "To demonstrate `.watch`, let us set up three different models:\n",
    "1) `Markdown` pane to display the possible options\n",
    "2) `Markdown` pane to display the _selected_ options\n",
    "3) `ToggleGroup` widget that allows us to toggle between a number of options\n",
    "\n"
   ]
  },
  {
   "cell_type": "code",
   "execution_count": null,
   "id": "17720dad",
   "metadata": {},
   "outputs": [],
   "source": [
    "import panel as pn\n",
    "\n",
    "pn.extension()\n",
    "\n",
    "selections = pn.pane.Markdown(object='')\n",
    "selected = pn.pane.Markdown(object='')\n",
    "toggle = pn.widgets.ToggleGroup(options=['A', 'B'])"
   ]
  },
  {
   "cell_type": "markdown",
   "id": "34b639a5",
   "metadata": {},
   "source": [
    "\n",
    "## Defining a callback\n",
    "\n",
    "Next we define a callback that can handle multiple parameter changes at once and uses the ``Event``'s ``name`` to figure out how to process the event. In this case it updates either the ``selections`` or the ``selected`` pane depending on whether ToggleGroup ``options`` or ``value`` changed:\n",
    "\n"
   ]
  },
  {
   "cell_type": "code",
   "execution_count": null,
   "id": "49b7f591",
   "metadata": {},
   "outputs": [],
   "source": [
    "def callback(*events):\n",
    "    print(events)\n",
    "    for event in events:\n",
    "        if event.name == 'options':\n",
    "            selections.object = 'Possible options: %s' % ', '.join(event.new)\n",
    "        elif event.name == 'value':\n",
    "            selected.object = 'Selected: %s' % ','.join(event.new)"
   ]
  },
  {
   "cell_type": "markdown",
   "id": "e59e5e6c",
   "metadata": {},
   "source": [
    "\n",
    "## Event objects\n",
    "\n",
    "Before going any further let us discover what these ``Event`` objects are. An ``Event`` is used to signal the change in a parameter value. Event objects provide a number of useful attributes that provides additional information about the event:\n",
    "\n",
    "* **``name``**: The name of the parameter that has changed\n",
    "* **``new``**: The new value of the parameter\n",
    "* **``old``**: The old value of the parameter before the event was triggered\n",
    "* **``type``**: The type of event ('triggered', 'changed', or 'set')\n",
    "* **``what``**: Describes what about the parameter changed (usually the value but other parameter attributes can also change)\n",
    "* **``obj``**: The Parameterized instance that holds the parameter\n",
    "* **``cls``**: The Parameterized class that holds the parameter\n",
    "\n",
    "## Registering a watcher\n",
    "\n",
    "Now that we know how to define a callback and make use of ``Event`` attributes, it is time to register the callback. The ``obj.param.watch`` method lets us supply the callback along with the parameters we want to watch. Additionally we can declare whether the events should only be triggered when the parameter value changes, or every time the parameter is set:\n",
    "\n"
   ]
  },
  {
   "cell_type": "code",
   "execution_count": null,
   "id": "87225ca6",
   "metadata": {},
   "outputs": [],
   "source": [
    "watcher = toggle.param.watch(callback, ['options', 'value'], onlychanged=False)"
   ]
  },
  {
   "cell_type": "markdown",
   "id": "3631cfdf",
   "metadata": {},
   "source": [
    "\n",
    "Now let us display the widget alongside the ``Markdown`` panes that reflect the current state of the widget:\n",
    "\n"
   ]
  },
  {
   "cell_type": "code",
   "execution_count": null,
   "id": "52008ddd",
   "metadata": {},
   "outputs": [],
   "source": [
    "pn.Row(pn.Column(toggle, width=200, height=50), selections, pn.Spacer(width=50, height=50), selected)"
   ]
  },
  {
   "cell_type": "markdown",
   "id": "0bf86ad4",
   "metadata": {},
   "source": [
    "\n",
    "To initialize the `selections` and `selected` we can explicitly ``trigger`` options and value events:\n",
    "\n"
   ]
  },
  {
   "cell_type": "code",
   "execution_count": null,
   "id": "1d592c8c",
   "metadata": {},
   "outputs": [],
   "source": [
    "toggle.param.trigger('options', 'value')"
   ]
  },
  {
   "cell_type": "markdown",
   "id": "9bc4cba7",
   "metadata": {},
   "source": [
    "\n",
    "We can also override the initial parameters using the ``update`` method:\n",
    "\n"
   ]
  },
  {
   "cell_type": "code",
   "execution_count": null,
   "id": "1959062d",
   "metadata": {},
   "outputs": [],
   "source": [
    "options = ['A','B','C','D']\n",
    "toggle.param.update(options=dict(zip(options,options)), value=['D'])"
   ]
  },
  {
   "cell_type": "markdown",
   "id": "03980399",
   "metadata": {},
   "source": [
    "\n",
    "Using `update` allows us to batch two separate changes (the options and the value) together, which you can see from the ``print`` output resulted into a single invocation of the callback.  You could instead have set them separately using the usual parameter-setting syntax `toggle.value=['D']; toggle.options=dict(zip(options,options))`, but batching them can be much more efficient for a non-trivial callback like a database query or a complex plot that needs updating.\n",
    "\n",
    "Now that the widgets are visible, you can toggle the option values and see the selected pane update in response via the callback (if Python is running).\n",
    "\n",
    "## Unlinking\n",
    "\n",
    "If for whatever reason we want to stop watching parameter changes we can unsubscribe by passing our ``watcher`` (returned in the ``watch`` call above) to the ``unwatch`` method:\n",
    "\n",
    "```python\n",
    "toggle.param.unwatch(watcher)\n",
    "```\n",
    "\n",
    "---\n",
    "\n",
    "## Related Resources\n",
    "\n",
    "- See the [Explanation > APIs](../../explanation/api/index.md) for context on this and other Panel APIs\n"
   ]
  }
 ],
 "metadata": {},
 "nbformat": 4,
 "nbformat_minor": 5
}
