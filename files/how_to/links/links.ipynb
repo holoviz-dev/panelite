{
 "cells": [
  {
   "cell_type": "markdown",
   "id": "73494fb1",
   "metadata": {},
   "source": [
    "# Create High-Level Python Links with `.link`\n",
    "\n",
    "This guide addresses how to use the convenient, high-level `.link` API to link parameters in Python.\n",
    "\n",
    "---\n",
    "\n",
    "To start, let's see how a ``TextInput`` widget and a ``Markdown`` pane normally behave:\n",
    "\n"
   ]
  },
  {
   "cell_type": "code",
   "execution_count": null,
   "id": "dff2d3b8",
   "metadata": {},
   "outputs": [],
   "source": [
    "import panel as pn\n",
    "\n",
    "pn.extension()\n",
    "\n",
    "pn.Row(\n",
    "    pn.widgets.TextInput(value=\"Editable text\"),\n",
    "    pn.pane.Markdown('Some markdown')\n",
    ")"
   ]
  },
  {
   "cell_type": "markdown",
   "id": "56ab9fcf",
   "metadata": {},
   "source": [
    "\n",
    "These two Panel objects are entirely independent; text can be entered into the input area and separately the Markdown pane will display its argument.\n",
    "\n",
    "What if we wanted connected input and output displays?  One option when you expect to have a live Python process available is to use the ``link`` method on Widgets to link its parameters to some other Panel object. In the simplest case we simply provide the ``target`` object and define the mapping between the source and target parameters as the keywords. In this case, we map the ``value`` parameter on the ``TextInput`` widget to the ``object`` parameter on the ``Markdown`` pane:\n",
    "\n"
   ]
  },
  {
   "cell_type": "code",
   "execution_count": null,
   "id": "4b93bd04",
   "metadata": {},
   "outputs": [],
   "source": [
    "markdown = pn.pane.Markdown(\"Some text\")\n",
    "text_input = pn.widgets.TextInput(value=markdown.object)\n",
    "\n",
    "text_input.link(markdown, value='object')\n",
    "\n",
    "pn.Row(text_input, markdown)"
   ]
  },
  {
   "cell_type": "markdown",
   "id": "5b73d476",
   "metadata": {},
   "source": [
    "\n",
    "Now, if Python is running and you type something in the box above and press Return, the corresponding Markdown pane should update to match.  And if you use Python to directly manipulate the value of the text input (e.g. by editing the following cell to have new text in it and then executing it), then the Markdown should also update to match:\n",
    "\n"
   ]
  },
  {
   "cell_type": "code",
   "execution_count": null,
   "id": "d3bfe75e",
   "metadata": {},
   "outputs": [],
   "source": [
    "text_input.value = 'Some text'"
   ]
  },
  {
   "cell_type": "markdown",
   "id": "1f064ef8",
   "metadata": {},
   "source": [
    "\n",
    "For more complex mappings between the widget value and the target parameter, we can define an arbitrary transformation as a Python callback:\n",
    "\n"
   ]
  },
  {
   "cell_type": "code",
   "execution_count": null,
   "id": "beb2b31a",
   "metadata": {},
   "outputs": [],
   "source": [
    "m = pn.pane.Markdown(\"\")\n",
    "t = pn.widgets.TextInput()\n",
    "\n",
    "def callback(target, event):\n",
    "    target.object = event.new.upper() + '!!!'\n",
    "\n",
    "t.link(m, callbacks={'value': callback})\n",
    "t.value=\"Some text\"\n",
    "\n",
    "pn.Row(t, m)"
   ]
  },
  {
   "cell_type": "markdown",
   "id": "44ff71d8",
   "metadata": {},
   "source": [
    "\n",
    "Note that here we explicitly set `t.value` before displaying the panel to trigger the linked Markdown pane to update to match the text widget; callbacks are not otherwise triggered when the links are first set up.\n",
    "\n",
    "---\n",
    "\n",
    "## Related Resources\n",
    "- See the [Explanation > APIs](../../explanation/api/index) for context on this and other Panel APIs\n"
   ]
  }
 ],
 "metadata": {},
 "nbformat": 4,
 "nbformat_minor": 5
}
