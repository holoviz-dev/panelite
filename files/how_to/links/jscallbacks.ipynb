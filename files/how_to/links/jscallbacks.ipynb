{
 "cells": [
  {
   "cell_type": "markdown",
   "id": "78eecf94",
   "metadata": {},
   "source": [
    "# Link Many Objects in Javascript\n",
    "\n",
    "This guide addresses how to write arbitrary JS callbacks linking one or more components.\n",
    "\n",
    "```{admonition} Prerequisites\n",
    "1. The [How to > Link Two Objects in Javascript](./links) guide demonstrates how to use the `.jslink` API to link parameters from two objects in Javascript, which is adequate in most cases.\n",
    "```\n",
    "\n",
    "---\n",
    "\n",
    "Sometimes defining a simple link between two objects is not sufficient, e.g. when there are a number of objects involved. In these cases it is helpful to be able to define arbitrary Javascript callbacks. A very simple example is a very basic calculator which allows multiplying or adding two values, in this case we have two widgets to input numbers, a selector to pick the operation, a display for the result and a button.\n",
    "\n",
    "To implement this we define a `jscallback`, which is triggered when the `Button.clicks` property changes and provide a number of `args` allowing us to access the values of the various widgets:\n",
    "\n"
   ]
  },
  {
   "cell_type": "code",
   "execution_count": null,
   "id": "1b205144",
   "metadata": {},
   "outputs": [],
   "source": [
    "import panel as pn\n",
    "\n",
    "pn.extension()\n",
    "\n",
    "value1 =   pn.widgets.Spinner(value=0, width=75)\n",
    "operator = pn.widgets.Select(value='*', options=['*', '+'], width=50, align='center')\n",
    "value2 =   pn.widgets.Spinner(value=0, width=75)\n",
    "button =   pn.widgets.Button(name='=', width=50)\n",
    "result =   pn.widgets.StaticText(value='0', width=50, align='center')\n",
    "\n",
    "button.jscallback(clicks=\"\"\"\n",
    "if (op.value == '*')\n",
    "  result.text = (v1.value * v2.value).toString()\n",
    "else\n",
    "  result.text = (v1.value + v2.value).toString()\n",
    "\"\"\", args={'op': operator, 'result': result, 'v1': value1, 'v2': value2})\n",
    "\n",
    "pn.Row(value1, operator, value2, button, result)"
   ]
  },
  {
   "cell_type": "markdown",
   "id": "68e36acf",
   "metadata": {},
   "source": [
    "\n",
    "## Related Resources\n",
    "\n",
    "- See the [Explanation > APIs](../../explanation/api/index.md) for context on this and other Panel APIs\n"
   ]
  }
 ],
 "metadata": {},
 "nbformat": 4,
 "nbformat_minor": 5
}
