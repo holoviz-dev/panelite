{
 "cells": [
  {
   "cell_type": "markdown",
   "id": "55451d5f",
   "metadata": {},
   "source": [
    "# Link Plot Parameters in Javascript\n",
    "\n",
    "This guide addresses how to link Bokeh and HoloViews plot parameters in Javascript.\n",
    "\n",
    "```{admonition} Prerequisites\n",
    "1. The [How to > Link Two Objects in Javascript](./links) guide demonstrates how to use the `.jslink` API to link parameters in Javascript.\n",
    "```\n",
    "\n",
    "---\n",
    "\n",
    "The [How to > Link Two Objects in Javascript](./jslinks) guide demonstrated how to link simple static panes, but links are probably most useful when combined with dynamic objects like plots.\n",
    "\n",
    "## Link Bokeh plots\n",
    "\n",
    "The ``jslink`` API trivially allows us to link a parameter on a Panel widget to a Bokeh plot property. Here we create a Bokeh Figure with a simple sine curve. The ``jslink`` method allows us to pass any Bokeh model held by the Figure as the ``target``, then link the widget value to some property on it. E.g. here we link a ``FloatSlider`` value to the ``line_width`` of the ``Line`` glyph:\n",
    "\n"
   ]
  },
  {
   "cell_type": "code",
   "execution_count": null,
   "id": "7b11db0b",
   "metadata": {},
   "outputs": [],
   "source": [
    "import numpy as np\n",
    "import panel as pn\n",
    "\n",
    "from bokeh.plotting import figure\n",
    "\n",
    "pn.extension()\n",
    "\n",
    "p = figure(width=300, height=300)\n",
    "xs = np.linspace(0, 10)\n",
    "r = p.line(xs, np.sin(xs))\n",
    "\n",
    "width_slider = pn.widgets.FloatSlider(name='Line Width', start=0.1, end=10)\n",
    "width_slider.jslink(r.glyph, value='line_width')\n",
    "\n",
    "pn.Column(width_slider, p)"
   ]
  },
  {
   "cell_type": "markdown",
   "id": "7b2c6d58",
   "metadata": {},
   "source": [
    "\n",
    "### Link HoloViews plots\n",
    "\n",
    "Bokeh models allow us to directly access the underlying models and properties, but this access is more indirect when working with HoloViews objects. HoloViews makes various models available directly in the namespace so that they can be accessed for linking:\n",
    "\n",
    "* **``cds``**: The bokeh ``ColumnDataSource`` model which holds the data used to render the plot\n",
    "* **``glyph``**: The bokeh ``Glyph`` defining the style of the element\n",
    "* **``glyph_renderer``**: The Bokeh ``GlyphRenderer`` responsible for rendering the element\n",
    "* **``plot``**: The bokeh ``Figure``\n",
    "* **``xaxis``/``yaxis``**: The Axis models of the plot\n",
    "* **``x_range``/``y_range``**: The x/y-axis ``Range1d`` models defining the axis ranges\n",
    "\n",
    "All these are made available in the JS code's namespace if we decide to provide a JS code snippet, but can also be referenced in the property mapping. We can map the widget value to a property on the ``glyph`` by providing a specification separated by periods. E.g. in this case we can map the value to the ``glyph.size``:\n",
    "\n",
    "\n"
   ]
  },
  {
   "cell_type": "code",
   "execution_count": null,
   "id": "c102d3aa",
   "metadata": {},
   "outputs": [],
   "source": [
    "import holoviews as hv\n",
    "import holoviews.plotting.bokeh\n",
    "\n",
    "colors = [\"black\", \"red\", \"blue\", \"green\", \"gray\"]\n",
    "\n",
    "size_widget = pn.widgets.FloatSlider(value=8, start=3, end=20, name='Size')\n",
    "color_widget = pn.widgets.Select(name='Color', options=colors, value='black')\n",
    "\n",
    "points = hv.Points(np.random.rand(10, 2)).options(padding=0.1, line_color='black')\n",
    "\n",
    "size_widget.jslink(points, value='glyph.size')\n",
    "color_widget.jslink(points, value='glyph.fill_color')\n",
    "\n",
    "pn.Row(points, pn.Column(size_widget, color_widget))"
   ]
  },
  {
   "cell_type": "markdown",
   "id": "d6416ed9",
   "metadata": {},
   "source": [
    "\n",
    "Of course, if you need to transform between the displayed widget value and the value to be used on the underlying Bokeh property, you can add custom JS code as shown in [the guide on JS-callbacks](./jscallbacks.md). Together these linking options should allow you to express whatever interactions you wish between your Panel objects.\n",
    "\n",
    "## Related Resources\n",
    "\n",
    "- See the [Explanation > APIs](../../explanation/api/index.md) for context on this and other Panel APIs\n"
   ]
  }
 ],
 "metadata": {},
 "nbformat": 4,
 "nbformat_minor": 5
}
