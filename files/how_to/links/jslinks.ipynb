{
 "cells": [
  {
   "cell_type": "markdown",
   "id": "bbb285e5",
   "metadata": {},
   "source": [
    "# Link Two Objects in Javascript\n",
    "\n",
    "This guide addresses how to link parameters of two objects in Javascript.\n",
    "\n",
    "---\n",
    "\n",
    "Linking objects in Python is often very convenient because it allows writing code entirely in Python. However, it also requires a live Python kernel. If instead we want a static example (e.g. on a simple website or in an email) to have custom interactivity, or we simply want to avoid the overhead of having to call back into Python, we can define links in JavaScript.\n",
    "\n",
    "## Link model properties\n",
    "\n",
    "Let us start by linking the ``value`` of the ``TextInput`` widget to the ``object`` property of a ``Markdown`` pane:\n",
    "\n"
   ]
  },
  {
   "cell_type": "code",
   "execution_count": null,
   "id": "966456a4",
   "metadata": {},
   "outputs": [],
   "source": [
    "import panel as pn\n",
    "\n",
    "pn.extension()\n",
    "\n",
    "markdown = pn.pane.Markdown('Markdown display')\n",
    "text_input = pn.widgets.TextInput(value=markdown.object)\n",
    "\n",
    "link = text_input.jslink(markdown, value='object')\n",
    "\n",
    "pn.Row(text_input, markdown)"
   ]
  },
  {
   "cell_type": "markdown",
   "id": "fabfdc0a",
   "metadata": {},
   "source": [
    "\n",
    "As you can see, Panel translates the specification into a JS code snippet which syncs the properties on the underlying Bokeh properties. But now if you edit the widget and press Return, the Markdown display will automatically update even in a static HTML web page.\n",
    "\n",
    "## Link bi-directionally\n",
    "\n",
    "When you want the source and target to be linked bi-directionally, i.e. a change in one will automatically trigger a change in the other you can simply set the `bidirectional` argument:\n",
    "\n",
    "\n"
   ]
  },
  {
   "cell_type": "code",
   "execution_count": null,
   "id": "d4ef0563",
   "metadata": {},
   "outputs": [],
   "source": [
    "t1 = pn.widgets.TextInput()\n",
    "t2 = pn.widgets.TextInput()\n",
    "\n",
    "t1.jslink(t2, value='value', bidirectional=True)\n",
    "\n",
    "pn.Row(t1, t2)"
   ]
  },
  {
   "cell_type": "markdown",
   "id": "0fbd9b09",
   "metadata": {},
   "source": [
    "\n",
    "## Link using custom JS code\n",
    "\n",
    "Since everything happens in JS for a `jslink`, we can't provide a Python callback. Instead, we can define a JS code snippet, which is executed when a property changes. E.g. we can define a little code snippet which adds HTML bold tags (``<b>``) around the text before setting it on the target. The code argument should map from the parameter/property on the source object to the JS code snippet to execute:\n",
    "\n",
    "\n"
   ]
  },
  {
   "cell_type": "code",
   "execution_count": null,
   "id": "ca920d0a",
   "metadata": {},
   "outputs": [],
   "source": [
    "markdown = pn.pane.Markdown(\"<b>Markdown display</b>\", width=400)\n",
    "text_input = pn.widgets.TextInput(value=\"Markdown display\")\n",
    "\n",
    "code = '''\n",
    "    target.text = '<b>' + source.value + '</b>'\n",
    "'''\n",
    "link = text_input.jslink(markdown, code={'value': code})\n",
    "\n",
    "pn.Row(text_input, markdown)"
   ]
  },
  {
   "cell_type": "markdown",
   "id": "243b7f85",
   "metadata": {},
   "source": [
    "\n",
    "Here ``source`` and ``target`` are made available in the JavaScript namespace, allowing us to arbitrarily modify the models in response to property change events. Note however that the underlying Bokeh model property names may differ slightly from the naming of the parameters on Panel objects, e.g. the 'object' parameter on the Markdown pane translates to the 'text' property on the Bokeh model used to render the ``Markdown``.\n",
    "\n",
    "Of course, you can still update the value from Python, and it will automatically update the linked markdown:\n",
    "\n",
    "\n"
   ]
  },
  {
   "cell_type": "code",
   "execution_count": null,
   "id": "84802f29",
   "metadata": {},
   "outputs": [],
   "source": [
    "text_input.value = \"Markdown display\""
   ]
  },
  {
   "cell_type": "markdown",
   "id": "1469b5e2",
   "metadata": {},
   "source": [
    "\n",
    "## Responding to click events\n",
    "\n",
    "To respond to click events, we'll demonstrate an example of using `js_on_click`. This example will open a URL from the ``TextInput`` widget value in a new browser tab:\n",
    "\n"
   ]
  },
  {
   "cell_type": "code",
   "execution_count": null,
   "id": "b1be67fe",
   "metadata": {},
   "outputs": [],
   "source": [
    "button = pn.widgets.Button(name='Open URL', button_type = 'primary')\n",
    "url = pn.widgets.TextInput(name='URL', value = 'https://holoviz.org/')\n",
    "button.js_on_click(args={'target': url}, code='window.open(target.value)')\n",
    "pn.Row(url, button)"
   ]
  },
  {
   "cell_type": "markdown",
   "id": "2fd7eb4c",
   "metadata": {},
   "source": [
    "\n",
    "---\n",
    "\n",
    "## Related Resources\n",
    "\n",
    "- See the [Explanation > APIs](../../explanation/api/index) for context on this and other Panel APIs\n",
    "- The [How to > Link Plot Parameters in Javascript](./link_plots) guide addresses how to link Bokeh and HoloViews plot parameters in Javascript.\n"
   ]
  }
 ],
 "metadata": {},
 "nbformat": 4,
 "nbformat_minor": 5
}
