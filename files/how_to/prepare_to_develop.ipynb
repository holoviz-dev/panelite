{
 "cells": [
  {
   "cell_type": "markdown",
   "id": "234f7a91",
   "metadata": {},
   "source": [
    ".. raw:: html\n",
    "    <head>\n",
    "        <meta http-equiv='refresh' content='0; URL=./index.html#prepare-to-develop'>\n",
    "    </head>\n",
    "\n",
    "# Prepare to develop\n",
    "\n",
    "```{toctree}\n",
    ":titlesonly:\n",
    ":hidden:\n",
    ":maxdepth: 1\n",
    "\n",
    "Develop in a notebook<notebook/index>\n",
    "Develop in an editor<editor/index>\n",
    "```\n"
   ]
  }
 ],
 "metadata": {},
 "nbformat": 4,
 "nbformat_minor": 5
}
