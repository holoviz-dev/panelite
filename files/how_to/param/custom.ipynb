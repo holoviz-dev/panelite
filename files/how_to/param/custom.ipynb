{
 "cells": [
  {
   "cell_type": "markdown",
   "id": "97e9dd1e",
   "metadata": {},
   "source": [
    "# Declare Custom Widgets\n",
    "\n",
    "This guide addresses how to extend Param based UIs with custom widgets.\n",
    "\n",
    "```{admonition} Prerequisites\n",
    "1. The [How to > Generate Widgets from Parameters](./uis) guide demonstrates the default case of automatically generating widgets.\n",
    "```\n",
    "\n",
    "---\n",
    "\n",
    "## Custom type\n",
    "\n",
    "`Param Parameters` can automatically be turned into widgets because Panel maintains a mapping between `Parameter` types and widget types. However, sometimes the default widget does not provide the most convenient UI and we want to provide an explicit hint to Panel to tell it how to render a `Parameter`. Using the `widgets` keyword we can declare a mapping between the parameter name and the type of widget that is desired (as long as the widget type supports the types of values held by the parameter type).\n",
    "\n",
    "As an example, we can map a string and a number Selector to a `RadioButtonGroup` and `DiscretePlayer` respectively.\n",
    "\n"
   ]
  },
  {
   "cell_type": "code",
   "execution_count": null,
   "id": "010b8209",
   "metadata": {},
   "outputs": [],
   "source": [
    "import panel as pn\n",
    "import param\n",
    "\n",
    "pn.extension()\n",
    "\n",
    "class CustomExample(param.Parameterized):\n",
    "    \"\"\"An example Parameterized class\"\"\"\n",
    "\n",
    "    select_string = param.Selector(objects=[\"red\", \"yellow\", \"green\"])\n",
    "    autocomplete_string = param.Selector(default='', objects=[\"red\", \"yellow\", \"green\"], check_on_set=False)\n",
    "    select_number = param.Selector(objects=[0, 1, 10, 100])\n",
    "\n",
    "\n",
    "pn.Param(CustomExample.param, widgets={\n",
    "    'select_string': pn.widgets.RadioButtonGroup,\n",
    "    'autocomplete_string': pn.widgets.AutocompleteInput,\n",
    "    'select_number': pn.widgets.DiscretePlayer}\n",
    ")"
   ]
  },
  {
   "cell_type": "markdown",
   "id": "38620352",
   "metadata": {},
   "source": [
    "\n",
    "Also, it's possible to pass arguments to the widget in order to customize it. Instead of passing the widget, pass a dictionary with the desired options. Use the ``widget_type`` keyword to map the widget.\n",
    "\n",
    "Taking up the previous example.\n",
    "\n"
   ]
  },
  {
   "cell_type": "code",
   "execution_count": null,
   "id": "9e5a5339",
   "metadata": {},
   "outputs": [],
   "source": [
    "pn.Param(CustomExample.param, widgets={\n",
    "    'select_string': {'widget_type': pn.widgets.RadioButtonGroup, 'button_type': 'success'},\n",
    "    'autocomplete_string': {'widget_type': pn.widgets.AutocompleteInput, 'placeholder': 'Find a color...'},\n",
    "    'select_number': pn.widgets.DiscretePlayer}\n",
    ")"
   ]
  },
  {
   "cell_type": "markdown",
   "id": "ae1fa2a0",
   "metadata": {},
   "source": [
    "\n",
    "However it is also possible to explicitly construct a widget from a parameter using the `.from_param` method, which makes it easy to override widget settings using keyword arguments:\n",
    "\n"
   ]
  },
  {
   "cell_type": "code",
   "execution_count": null,
   "id": "00d37e13",
   "metadata": {},
   "outputs": [],
   "source": [
    "pn.widgets.RadioBoxGroup.from_param(CustomExample.param.select_string, inline=True)"
   ]
  },
  {
   "cell_type": "markdown",
   "id": "8764fbb2",
   "metadata": {},
   "source": [
    "\n",
    "## Custom name\n",
    "\n",
    "By default, a param Pane has a title that is derived from the class name of its `Parameterized` object. Using the ``name`` keyword we can set any title to the pane, e.g. to improve the user interface.\n",
    "\n"
   ]
  },
  {
   "cell_type": "code",
   "execution_count": null,
   "id": "6737a73d",
   "metadata": {},
   "outputs": [],
   "source": [
    "pn.Param(CustomExample.param, name=\"Custom Name\")"
   ]
  },
  {
   "cell_type": "markdown",
   "id": "27cad2b6",
   "metadata": {},
   "source": [
    "\n",
    "## Custom Sort\n",
    "\n",
    "You can sort the widgets alphabetically by setting `sort=True`\n",
    "\n"
   ]
  },
  {
   "cell_type": "code",
   "execution_count": null,
   "id": "b3e8ca75",
   "metadata": {},
   "outputs": [],
   "source": [
    "pn.Param(CustomExample.param, sort=True, name=\"Sort by Label Example\")"
   ]
  },
  {
   "cell_type": "markdown",
   "id": "3042e6a4",
   "metadata": {},
   "source": [
    "\n",
    "You can also specify a custom sort function that takes the (parameter name, Parameter instance) as input.\n",
    "\n"
   ]
  },
  {
   "cell_type": "code",
   "execution_count": null,
   "id": "bb2ec0fb",
   "metadata": {},
   "outputs": [],
   "source": [
    "def sort_func(x):\n",
    "    return len(x[1].label)\n",
    "\n",
    "pn.Param(CustomExample.param, sort=sort_func, name=\"Sort by Label Length Example\")"
   ]
  },
  {
   "cell_type": "markdown",
   "id": "04e5514f",
   "metadata": {},
   "source": [
    "\n",
    "---\n",
    "\n",
    "## Related Resources\n",
    "\n",
    "- See the [Explanation > APIs](../../explanation/api/index) for context on this and other Panel APIs\n"
   ]
  }
 ],
 "metadata": {},
 "nbformat": 4,
 "nbformat_minor": 5
}
