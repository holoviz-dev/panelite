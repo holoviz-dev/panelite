{
 "cells": [
  {
   "cell_type": "markdown",
   "id": "9d53fc0d",
   "metadata": {},
   "source": [
    "# Generate Widgets from `Parameters`\n",
    "\n",
    "This guide addresses how to generate UIs from Parameterized classes without writing any GUI related code.\n",
    "\n",
    "```{admonition} Prerequisites\n",
    "1. The [Param User Guide](https://param.holoviz.org/index.html) provides the conceptual foundation for use of `Parameterized` objects.\n",
    "```\n",
    "\n",
    "---\n",
    "\n",
    "Parameters are Python attributes extended using the [Param library](https://param.holoviz.org) to support types, ranges, and documentation, which turns out to be just the information you need to automatically create widgets for each parameter.\n",
    "\n",
    "## Declaring and displaying parameters\n",
    "\n",
    "Internally parameters have a mapping that generates widgets appropriate for each type. This means that by declaring a `Parameterized` class we can automatically generate a full UI. Let us declare a `BaseClass`:\n",
    "\n"
   ]
  },
  {
   "cell_type": "code",
   "execution_count": null,
   "id": "4ed8b70d",
   "metadata": {},
   "outputs": [],
   "source": [
    "import param\n",
    "import panel as pn\n",
    "import pandas as pd\n",
    "import datetime as dt\n",
    "\n",
    "pn.extension()\n",
    "\n",
    "class BaseClass(param.Parameterized):\n",
    "    x                       = param.Parameter(default=3.14, doc=\"X position\")\n",
    "    y                       = param.Parameter(default=\"Not editable\", constant=True)\n",
    "    string_value            = param.String(default=\"str\", doc=\"A string\")\n",
    "    num_int                 = param.Integer(default=50000, bounds=(-200, 100000))\n",
    "    unbounded_int           = param.Integer(default=23)\n",
    "    float_with_hard_bounds  = param.Number(default=8.2, bounds=(7.5, 10))\n",
    "    float_with_soft_bounds  = param.Number(default=0.5, bounds=(0, None), softbounds=(0,2))\n",
    "    unbounded_float         = param.Number(default=30.01, precedence=0)\n",
    "    hidden_parameter        = param.Number(default=2.718, precedence=-1)\n",
    "    integer_range           = param.Range(default=(3, 7), bounds=(0, 10))\n",
    "    float_range             = param.Range(default=(0, 1.57), bounds=(0, 3.145))\n",
    "    dictionary              = param.Dict(default={\"a\": 2, \"b\": 9})"
   ]
  },
  {
   "cell_type": "markdown",
   "id": "a240510f",
   "metadata": {},
   "source": [
    "\n",
    "and then render the resulting UI using Panel:\n",
    "\n"
   ]
  },
  {
   "cell_type": "code",
   "execution_count": null,
   "id": "78756a92",
   "metadata": {},
   "outputs": [],
   "source": [
    "pn.Param(BaseClass.param)"
   ]
  },
  {
   "cell_type": "markdown",
   "id": "ac1634c3",
   "metadata": {},
   "source": [
    "\n",
    "By changing a widget and re-running the following outputs, we can see that changes in the widgets are automatically reflected in Python:\n",
    "\n"
   ]
  },
  {
   "cell_type": "code",
   "execution_count": null,
   "id": "fef05a55",
   "metadata": {},
   "outputs": [],
   "source": [
    "BaseClass.unbounded_int"
   ]
  },
  {
   "cell_type": "markdown",
   "id": "18bc16ea",
   "metadata": {},
   "source": [
    "\n"
   ]
  },
  {
   "cell_type": "code",
   "execution_count": null,
   "id": "bf731026",
   "metadata": {},
   "outputs": [],
   "source": [
    "BaseClass.num_int"
   ]
  },
  {
   "cell_type": "markdown",
   "id": "0ae56a9c",
   "metadata": {},
   "source": [
    "\n",
    "The reverse is also true; editing a parameter from Python will automatically update any widgets that were generated from the parameter:\n",
    "\n"
   ]
  },
  {
   "cell_type": "code",
   "execution_count": null,
   "id": "6f1a3709",
   "metadata": {},
   "outputs": [],
   "source": [
    "BaseClass.num_int = 1\n",
    "pn.Param(BaseClass.param.num_int)"
   ]
  },
  {
   "cell_type": "markdown",
   "id": "dba1d929",
   "metadata": {},
   "source": [
    "\n",
    "Passing the ``.param`` object renders the full set of widgets, while passing a single parameter will display just one widget. In this way we can easily declare exactly which parameters to display:\n",
    "\n"
   ]
  },
  {
   "cell_type": "code",
   "execution_count": null,
   "id": "a536a9c8",
   "metadata": {},
   "outputs": [],
   "source": [
    "pn.Row(BaseClass.param.float_range, BaseClass.param.num_int)"
   ]
  },
  {
   "cell_type": "markdown",
   "id": "f890eb47",
   "metadata": {},
   "source": [
    "\n",
    "## Advanced parameters\n",
    "\n",
    "The `BaseClass` primarily declared simple parameters, however there are a wide range of parameter types covering many use cases. Below we define a subclass with some of these additional parameter types.\n",
    "\n"
   ]
  },
  {
   "cell_type": "code",
   "execution_count": null,
   "id": "9990042d",
   "metadata": {},
   "outputs": [],
   "source": [
    "class Example(BaseClass):\n",
    "    \"\"\"An example Parameterized class\"\"\"\n",
    "\n",
    "    timestamps = []\n",
    "\n",
    "    boolean                 = param.Boolean(default=True, doc=\"A sample Boolean parameter\")\n",
    "    color                   = param.Color(default='#FFFFFF')\n",
    "    date                    = param.Date(default=dt.datetime(2017, 1, 1),\n",
    "                                         bounds=(dt.datetime(2017, 1, 1), dt.datetime(2017, 2, 1)))\n",
    "    dataframe               = param.DataFrame(default=pd.DataFrame({'A': [1, 2, 3]}))\n",
    "    select_string           = param.ObjectSelector(default=\"yellow\", objects=[\"red\", \"yellow\", \"green\"])\n",
    "    select_fn               = param.ObjectSelector(default=list,objects=[list, set, dict])\n",
    "    int_list                = param.ListSelector(default=[3, 5], objects=[1, 3, 5, 7, 9], precedence=0.5)\n",
    "    single_file             = param.FileSelector(path='../../*/*.py*', precedence=0.5)\n",
    "    multiple_files          = param.MultiFileSelector(path='../../*/*.py?', precedence=0.5)\n",
    "    record_timestamp        = param.Action(default=lambda x: x.timestamps.append(dt.datetime.utcnow()),\n",
    "                                           doc=\"\"\"Record timestamp.\"\"\", precedence=0.7)\n",
    "\n",
    "example = Example()\n",
    "\n",
    "pn.Param(example.param)"
   ]
  },
  {
   "cell_type": "markdown",
   "id": "d6d0eb84",
   "metadata": {},
   "source": [
    "\n",
    "For example, the `Example.timestamps` Parameter records the timestamps from every \"record timestamp\" button press above. Rerun the code block below after clicking the button in order to see the output in the docs.\n",
    "\n"
   ]
  },
  {
   "cell_type": "code",
   "execution_count": null,
   "id": "9f749d88",
   "metadata": {},
   "outputs": [],
   "source": [
    "Example.timestamps"
   ]
  },
  {
   "cell_type": "markdown",
   "id": "3302d0f3",
   "metadata": {},
   "source": [
    "\n",
    "---\n",
    "\n",
    "## Related Resources\n",
    "\n",
    "- See the [Explanation > APIs](../../explanation/api/index) for context on this and other Panel APIs\n"
   ]
  }
 ],
 "metadata": {},
 "nbformat": 4,
 "nbformat_minor": 5
}
