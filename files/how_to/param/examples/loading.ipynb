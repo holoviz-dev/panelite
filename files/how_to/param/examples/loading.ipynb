{
 "cells": [
  {
   "cell_type": "markdown",
   "id": "f5aebb1b",
   "metadata": {},
   "source": [
    "<div class=\"alert alert-block alert-success\">\n",
    "<em>Panelite</em> is powered by young technologies like <a href=\"https://pyodide.org/en/stable/\">Pyodide</a> and <a href=\"https://jupyterlite.readthedocs.io/en/latest/\">Jupyterlite</a>. Some browsers may be poorly supported (e.g. mobile or 32-bit versions). If you experience issues, please <a href=\"https://github.com/holoviz/panel/issues\">report them</a>.\n",
    "</div>"
   ]
  },
  {
   "cell_type": "code",
   "execution_count": null,
   "id": "4ba63f56",
   "metadata": {},
   "outputs": [],
   "source": [
    "import piplite\n",
    "await piplite.install(['holoviews'])"
   ]
  },
  {
   "cell_type": "markdown",
   "id": "59c703e4",
   "metadata": {},
   "source": [
    "# Loading Indicator\n",
    "\n"
   ]
  },
  {
   "cell_type": "code",
   "execution_count": null,
   "id": "baa67a58",
   "metadata": {},
   "outputs": [],
   "source": [
    "import time\n",
    "import panel as pn\n",
    "import holoviews as hv\n",
    "import numpy as np\n",
    "import holoviews.plotting.bokeh\n",
    "\n",
    "pn.extension(loading_spinner='dots', loading_color='#00aa41', template='bootstrap')\n",
    "hv.extension('bokeh')"
   ]
  },
  {
   "cell_type": "markdown",
   "id": "0dffed69",
   "metadata": {},
   "source": [
    "\n",
    "Every pane, widget and layout provides the **`loading` parameter**. When set to `True` a spinner will overlay the panel and indicate that the panel is currently loading. When you set `loading` to false the spinner is removed.\n",
    "\n",
    "Using the `pn.extension` or by setting the equivalent parameters on `pn.config` we can select between different visual styles and colors for the loading indicator.\n",
    "\n",
    "```python\n",
    "pn.extension(loading_spinner='dots', loading_color='#00aa41')\n",
    "```\n",
    "\n",
    "We can enable the loading indicator for reactive functions annotated with `depends` or `bind` globally using:\n",
    "\n",
    "```python\n",
    "pn.param.ParamMethod.loading_indicator = True\n",
    "```\n",
    "\n",
    "Alternatively we can enable it for a specific function by passing the `loading_indicator=True` argument to `pn.panel` or directly to the underlying  `ParamMethod`/`ParamFunction` object:\n",
    "\n"
   ]
  },
  {
   "cell_type": "code",
   "execution_count": null,
   "id": "861ad19b",
   "metadata": {},
   "outputs": [],
   "source": [
    "button = pn.widgets.Button(name=\"UPDATE\", button_type=\"primary\", sizing_mode='stretch_width')\n",
    "\n",
    "def random_plot(event):\n",
    "    if event: time.sleep(5)\n",
    "    return hv.Points(np.random.rand(100, 2)).opts(\n",
    "        responsive=True, height=400, size=8, color=\"green\")\n",
    "\n",
    "pn.Column(\n",
    "    button,\n",
    "    pn.param.ParamFunction(pn.bind(random_plot, button), loading_indicator=True)\n",
    ").servable()"
   ]
  }
 ],
 "metadata": {},
 "nbformat": 4,
 "nbformat_minor": 5
}
