{
 "cells": [
  {
   "cell_type": "markdown",
   "id": "fddb4e8a",
   "metadata": {},
   "source": [
    "# param.Action Example\n",
    "\n"
   ]
  },
  {
   "cell_type": "code",
   "execution_count": null,
   "id": "97068044",
   "metadata": {},
   "outputs": [],
   "source": [
    "import param\n",
    "import panel as pn\n",
    "\n",
    "pn.extension(template='bootstrap')"
   ]
  },
  {
   "cell_type": "markdown",
   "id": "e563119e",
   "metadata": {},
   "source": [
    "\n",
    "This example demonstrates how to use ``param.Action`` to trigger an update in a method that depends on that parameter. Actions can trigger any function, but if we simply want to trigger a method that depends on that action, then we can define a small ``lambda`` function that triggers the parameter explicitly:\n",
    "\n"
   ]
  },
  {
   "cell_type": "code",
   "execution_count": null,
   "id": "701eef99",
   "metadata": {},
   "outputs": [],
   "source": [
    "class ActionExample(param.Parameterized):\n",
    "    \"\"\"\n",
    "    Demonstrates how to use param.Action to trigger an update.\n",
    "    \"\"\"\n",
    "\n",
    "    action = param.Action(default=lambda x: x.param.trigger('action'), label='Click here!')\n",
    "\n",
    "    number = param.Integer(default=0)\n",
    "\n",
    "    @param.depends('action')\n",
    "    def get_number(self):\n",
    "        self.number += 1\n",
    "        return f'Number: {self.number}'\n",
    "\n",
    "action_example = ActionExample()\n",
    "\n",
    "pn.Row(\n",
    "    pn.Column(\n",
    "        pn.panel(action_example, show_name=False, margin=0, widgets={\"action\": {\"button_type\": \"primary\"}, \"number\": {\"disabled\": True}}),\n",
    "        '**Click the button** to trigger an update in the output.'\n",
    "    ),\n",
    "    action_example.get_number,\n",
    ").servable()"
   ]
  }
 ],
 "metadata": {},
 "nbformat": 4,
 "nbformat_minor": 5
}
