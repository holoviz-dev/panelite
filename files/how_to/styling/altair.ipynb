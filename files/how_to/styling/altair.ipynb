{
 "cells": [
  {
   "cell_type": "markdown",
   "id": "f9d5d6fd",
   "metadata": {},
   "source": [
    "# Style Altair Plots\n",
    "\n",
    "This guide addresses how to style Altair plots displayed using the [Vega pane](../../reference/panes/Vega.md).\n",
    "\n",
    "You can select the theme of Altair plots using [`altair.themes.enable`](https://altair-viz.github.io/user_guide/customization.html#changing-the-theme) and an accent color using the `configure_mark` method. The list of themes is available via `altair.themes.names()`.\n",
    "\n",
    "The gif below displays an example of what can be achieved with a little styling of the Altair plot and the `FastListTemplate`.\n",
    "\n",
    "![VegaAltairStyle.gif](https://assets.holoviews.org/panel/thumbnails/gallery/styles/vega-styles.gif)\n",
    "\n",
    "## An Altair plot with custom theme and accent color\n",
    "\n",
    "In this example we will give the Altair plot a custom theme and accent color.\n",
    "\n"
   ]
  },
  {
   "cell_type": "code",
   "execution_count": null,
   "id": "0b0f4a76",
   "metadata": {},
   "outputs": [],
   "source": [
    "import altair as alt\n",
    "import panel as pn\n",
    "\n",
    "from vega_datasets import data\n",
    "\n",
    "pn.extension(\"vega\")\n",
    "\n",
    "def plot(theme, color):\n",
    "    alt.themes.enable(theme)\n",
    "\n",
    "    return (\n",
    "        alt.Chart(data.cars())\n",
    "        .mark_circle(size=200)\n",
    "        .encode(\n",
    "            x='Horsepower:Q',\n",
    "            y='Miles_per_Gallon:Q',\n",
    "            tooltip=[\"Name\", \"Origin\", \"Horsepower\", \"Miles_per_Gallon\"],\n",
    "        )\n",
    "        .configure_mark(\n",
    "            color=color\n",
    "        )\n",
    "        .properties(\n",
    "            height=300,\n",
    "            width=\"container\",\n",
    "        )\n",
    "        .interactive()\n",
    "    )\n",
    "\n",
    "themes = sorted(alt.themes.names())\n",
    "theme = pn.widgets.Select(value=\"dark\", options=themes, name=\"Theme\")\n",
    "color = pn.widgets.ColorPicker(value=\"#F08080\", name=\"Color\")\n",
    "\n",
    "pn.Column(\n",
    "    pn.Row(theme, color),\n",
    "    pn.pane.Vega(pn.bind(plot, theme=theme, color=color), height=350, sizing_mode=\"stretch_width\"),\n",
    "    \"**Altair Themes**: \" + \", \".join(themes),\n",
    "    styles={\"border\": \"1px solid lightgray\"}\n",
    ").servable()"
   ]
  },
  {
   "cell_type": "markdown",
   "id": "46abdea8",
   "metadata": {},
   "source": [
    "\n",
    "Please note that the line `alt.themes.enable(theme)` will set the theme of all future generated plots\n",
    "unless you specifically change it before usage in a `Vega` pane.\n"
   ]
  }
 ],
 "metadata": {},
 "nbformat": 4,
 "nbformat_minor": 5
}
