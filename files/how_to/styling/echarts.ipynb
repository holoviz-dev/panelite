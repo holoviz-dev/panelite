{
 "cells": [
  {
   "cell_type": "markdown",
   "id": "b4b491b7",
   "metadata": {},
   "source": [
    "# Style Echarts Plots\n",
    "\n",
    "This guide addresses how to style ECharts plots displayed using the [ECharts pane](../../reference/panes/ECharts.md).\n",
    "\n",
    "You can select the theme of ECharts plots using the `ECharts.theme` parameter.\n",
    "\n",
    "![ECharts Themes](https://assets.holoviz.org/panel/gifs/echarts-styles.gif)\n",
    "\n",
    "## An ECharts plot with a custom theme\n",
    "\n",
    "In this example we will extend the `themes` available to the `ECharts` pane to the themes listed in the [ECharts Themes Guide](https://echarts.apache.org/en/download-theme.html) and then use one of them.\n",
    "\n"
   ]
  },
  {
   "cell_type": "code",
   "execution_count": null,
   "id": "b625d5f9",
   "metadata": {},
   "outputs": [],
   "source": [
    "import panel as pn\n",
    "\n",
    "THEME = \"shine\"\n",
    "\n",
    "ECHARTS_THEMES = {\n",
    "    \"infographic\": \"https://fastly.jsdelivr.net/npm/echarts/theme/infographic.js?_v_=20200710_1\",\n",
    "    \"macarons\": \"https://fastly.jsdelivr.net/npm/echarts/theme/macarons.js?_v_=20200710_1\",\n",
    "    \"roma\": \"https://fastly.jsdelivr.net/npm/echarts/theme/roma.js?_v_=20200710_1\",\n",
    "    \"shine\": \"https://fastly.jsdelivr.net/npm/echarts/theme/shine.js?_v_=20200710_1\",\n",
    "    \"vintage\": \"https://fastly.jsdelivr.net/npm/echarts/theme/vintage.js?_v_=20200710_1\",\n",
    "}\n",
    "\n",
    "pn.pane.ECharts.param.theme.objects = pn.pane.ECharts.param.theme.objects + list(\n",
    "    ECHARTS_THEMES\n",
    ")\n",
    "\n",
    "pn.extension(\"echarts\", js_files=ECHARTS_THEMES)\n",
    "\n",
    "echart_bar = {\n",
    "    \"title\": {\"text\": \"ECharts Example\"},\n",
    "    \"tooltip\": {},\n",
    "    \"legend\": {\"data\": [\"Sales\"]},\n",
    "    \"xAxis\": {\"data\": [\"shirt\", \"cardign\", \"chiffon shirt\", \"pants\", \"heels\", \"socks\"]},\n",
    "    \"yAxis\": {},\n",
    "    \"series\": [{\"name\": \"Sales\", \"type\": \"bar\", \"data\": [5, 20, 36, 10, 10, 20]}],\n",
    "}\n",
    "\n",
    "plot = pn.pane.ECharts(\n",
    "    echart_bar,\n",
    "    height=500,\n",
    "    sizing_mode=\"stretch_width\",\n",
    "    theme=THEME,\n",
    ")\n",
    "pn.Column(plot.param.theme, plot, sizing_mode=\"stretch_width\").servable()"
   ]
  }
 ],
 "metadata": {},
 "nbformat": 4,
 "nbformat_minor": 5
}
