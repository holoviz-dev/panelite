{
 "cells": [
  {
   "cell_type": "markdown",
   "id": "d1171916",
   "metadata": {},
   "source": [
    "# Control Visibility\n",
    "\n",
    "This guide addresses how to control the visibility of a component.\n",
    "\n",
    "---\n",
    "\n",
    "All components provide a `visible` parameter which toggles a component's visibility.\n",
    "\n",
    "Let's create three simple components with different colors. We'll set the visibility parameter of the blue one to `False`:\n",
    "\n"
   ]
  },
  {
   "cell_type": "code",
   "execution_count": null,
   "id": "5f166fc9",
   "metadata": {},
   "outputs": [],
   "source": [
    "import panel as pn\n",
    "\n",
    "pn.extension() # for notebook\n",
    "\n",
    "a = pn.pane.HTML(width=60, height=60, styles={'background': 'green'})\n",
    "b = pn.pane.HTML(width=60, height=60, styles={'background': 'blue'}, visible=False)\n",
    "c = pn.pane.HTML(width=60, height=60, styles={'background': 'red'})\n",
    "\n",
    "layout = pn.Row(a, b, c)\n",
    "layout"
   ]
  },
  {
   "cell_type": "markdown",
   "id": "33fbd23f",
   "metadata": {},
   "source": [
    "\n",
    "In some cases, exposing control of component visibility within the user interface may come in handy. To achieve this, we can use the `controls` method on a component to create a widget that allows for the manipulation of the `visibility` parameter. For instance, after running the code cell, toggling the checkbox below will update the visibility of the blue `b` component above:\n",
    "\n"
   ]
  },
  {
   "cell_type": "code",
   "execution_count": null,
   "id": "6da428f5",
   "metadata": {},
   "outputs": [],
   "source": [
    "b.controls(['visible'])[1]"
   ]
  },
  {
   "cell_type": "markdown",
   "id": "a920af71",
   "metadata": {},
   "source": [
    "\n",
    "---\n",
    "\n",
    "## Related Resources\n"
   ]
  }
 ],
 "metadata": {},
 "nbformat": 4,
 "nbformat_minor": 5
}
