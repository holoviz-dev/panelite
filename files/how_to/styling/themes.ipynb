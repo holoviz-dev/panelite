{
 "cells": [
  {
   "cell_type": "markdown",
   "id": "ffc0c209",
   "metadata": {},
   "source": [
    "# Toggling themes\n",
    "\n",
    "This guide addresses how to toggle between different themes in Panel.\n",
    "\n",
    "---\n",
    "\n",
    "The `theme` of a Panel app primarily determines the color scheme of our application. By default there are 'default' (i.e. light) and 'dark' themes defined in Panel and we can toggle between them by setting the `config` option:\n",
    "\n"
   ]
  },
  {
   "cell_type": "code",
   "execution_count": null,
   "id": "794e0641",
   "metadata": {},
   "outputs": [],
   "source": [
    "import panel as pn\n",
    "\n",
    "pn.config.theme = 'dark'"
   ]
  },
  {
   "cell_type": "markdown",
   "id": "b4238808",
   "metadata": {},
   "source": [
    "\n",
    ":::{tip}\n",
    "All `config` options can also be set via the extension, e.g. to set the theme use `pn.extension(theme='dark')`.\n",
    ":::\n",
    "\n",
    "Note that if you do not explicitly override the theme it will default to a light theme. The theme can also be overridden with by setting `theme` as a URL query parameter for your application, i.e. if your app is hosted at `https://mydomain.com/myapp` adding `?theme=dark` will switch the theme automatically.\n",
    "\n",
    "The theme will apply to all components and combines with the [design](design) to provide a consistent visual language.\n",
    "\n",
    ":::{note}\n",
    "In JupyterLab and when using the pydata-sphinx-theme Panel components will automatically adapt to the global CSS variables, regardless of what theme you set.\n",
    ":::\n"
   ]
  }
 ],
 "metadata": {},
 "nbformat": 4,
 "nbformat_minor": 5
}
