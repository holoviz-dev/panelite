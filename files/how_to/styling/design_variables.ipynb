{
 "cells": [
  {
   "cell_type": "markdown",
   "id": "106cc774",
   "metadata": {},
   "source": [
    "# Customize a Design\n",
    "\n",
    "This guide addresses how to customize a design system with CSS variables.\n",
    "\n",
    ":::{versionadded} 1.0.0\n",
    "The design feature was added in 1.0.0 and is actively being developed and improved. Currently there are a limited number of design variables but in future the goal is to expose a large variety of styling options via CSS variables.\n",
    ":::\n",
    "\n",
    "```{admonition} Prerequisites\n",
    "1. The [How-to > Apply a Design](./design) guides describe how to select a design system to apply to the components to achieve a consistent design language.\n",
    "2. The [How-to > Apply CSS](./apply_css) guide describes how to apply CSS definitions in Panel.\n",
    "```\n",
    "\n",
    "---\n",
    "\n",
    "The Design systems in Panel are set up to be overridden by CSS variables. The usual order of fallbacks for CSS variables is the following:\n",
    "\n",
    "1. User defined design variables (e.g. `--design-primary-color`)\n",
    "2. Editor/notebook dependent variables (e.g. `--jp-brand-color0`, for JupyterLab)\n",
    "3. The theme CSS variable definitions (e.g. `--panel-primary-color`)\n",
    "\n",
    "To override a particular style we therefore simply have to override one of the user defined design variables:\n",
    "\n",
    "| Variable                         | Description                                            |\n",
    "|----------------------------------|--------------------------------------------------------|\n",
    "| `--design-primary-color`         | Primary color of the design.                           |\n",
    "| `--design-primary-text-color`    | Color of text rendered on top of primary color.        |\n",
    "| `--design-secondary-color`       | Secondary color of the design.                         |\n",
    "| `--design-secondary-text-color`  | Color of text rendered on top of secondary color.      |\n",
    "| `--design-background-color`      | Color of the background layer.                         |\n",
    "| `--design-background-text-color` | Color of text rendered on top of the background layer. |\n",
    "| `--design-surface-color`         | Color of the surface layer.                            |\n",
    "| `--design-surface-text-color`    | Color of text rendered on top of the surface layer.    |\n",
    "\n",
    "```{note}\n",
    "Background and surface colors generally are only set at the template level.\n",
    "```\n",
    "\n",
    "When and how to set these variables depends on the precise use case, e.g. if you consistently want to override the colors in a template, use the `Template.config.raw_css` or `Template.config.css_files` parameters to define an inline or imported stylesheet that will apply across the entire template.\n",
    "\n",
    "For global overrides that apply in all scenarios you can use the `pn.config.global_css` parameter, e.g. here we initialize it via the `pn.extension`:\n",
    "\n"
   ]
  },
  {
   "cell_type": "code",
   "execution_count": null,
   "id": "0a02935d",
   "metadata": {},
   "outputs": [],
   "source": [
    "import panel as pn\n",
    "\n",
    "pn.extension(design='material', global_css=[':root { --design-primary-color: purple; }'])"
   ]
  },
  {
   "cell_type": "markdown",
   "id": "530db7b0",
   "metadata": {},
   "source": [
    "\n",
    "When defining design variable overrides globally use the `:root` CSS selector, which applies the variable from the root on down.\n",
    "\n"
   ]
  },
  {
   "cell_type": "code",
   "execution_count": null,
   "id": "af938be4",
   "metadata": {},
   "outputs": [],
   "source": [
    "pn.Tabs(\n",
    "    ('Slider', pn.widgets.FloatSlider(start=0, end=7, value=3)),\n",
    "    ('Button', pn.widgets.Button(name='Click me!', button_type='primary'))\n",
    ")"
   ]
  },
  {
   "cell_type": "markdown",
   "id": "ed892bba",
   "metadata": {},
   "source": [
    "\n",
    "Alternatively you can also define it directly on a component by adding it to the `stylesheets` and prefixing it with the `:host` selector:\n",
    "\n"
   ]
  },
  {
   "cell_type": "code",
   "execution_count": null,
   "id": "22ab96a0",
   "metadata": {},
   "outputs": [],
   "source": [
    "pn.Tabs(\n",
    "    ('Slider', pn.widgets.FloatSlider(\n",
    "\t    start=0, end=7, value=3, stylesheets=[':host { --design-primary-color: red; }']\n",
    "\t)),\n",
    "    ('Button', pn.widgets.Button(name='Click me!', button_type='primary'))\n",
    ")"
   ]
  },
  {
   "cell_type": "markdown",
   "id": "3ad8f6fc",
   "metadata": {},
   "source": [
    "\n",
    "## Related Resources\n"
   ]
  }
 ],
 "metadata": {},
 "nbformat": 4,
 "nbformat_minor": 5
}
