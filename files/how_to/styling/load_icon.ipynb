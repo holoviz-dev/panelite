{
 "cells": [
  {
   "cell_type": "markdown",
   "id": "04a8a127",
   "metadata": {},
   "source": [
    "# Customize Loading Icon\n",
    "\n",
    "This guide addresses how to customize the loading icon.\n",
    "\n",
    "---\n",
    "\n",
    "All components also have a `loading` parameter which indicates that they are currently processing some event. Setting the parameter will display the global `loading_spinner` on top of the component.\n",
    "\n",
    "First, let's configure the style and color of loading spinner:\n",
    "\n",
    "* `pn.config.loading_spinner`: The style of the global loading indicator, e.g. 'arc', 'arcs', 'bar', 'dots', 'petal'.\n",
    "* `pn.config.loading_color`: The color of the global loading indicator as a hex color or color name, e.g. '#6a6a6a', 'black'.\n",
    "\n"
   ]
  },
  {
   "cell_type": "code",
   "execution_count": null,
   "id": "1e745ea5",
   "metadata": {},
   "outputs": [],
   "source": [
    "import panel as pn\n",
    "\n",
    "pn.config.loading_spinner = 'petal'\n",
    "pn.config.loading_color = 'black'"
   ]
  },
  {
   "cell_type": "markdown",
   "id": "b8ee3a8c",
   "metadata": {},
   "source": [
    "\n",
    "If we are working in a notebook, we can now activate the panel extension after having set the config parameters. Alternatively, we could have set the config with `pn.extension(loading_spinner='petal', loading_color='black')`\n",
    "\n"
   ]
  },
  {
   "cell_type": "code",
   "execution_count": null,
   "id": "69881cc2",
   "metadata": {},
   "outputs": [],
   "source": [
    "pn.extension() # for notebook"
   ]
  },
  {
   "cell_type": "markdown",
   "id": "47fd53a2",
   "metadata": {},
   "source": [
    "\n",
    "Next, let's display a simple component and set `loading=True`:\n",
    "\n"
   ]
  },
  {
   "cell_type": "code",
   "execution_count": null,
   "id": "96e48be1",
   "metadata": {},
   "outputs": [],
   "source": [
    "pn.pane.HTML(styles={'background': '#00aa41'}, width=100, height=100, loading=True)"
   ]
  },
  {
   "cell_type": "markdown",
   "id": "b174a50b",
   "metadata": {},
   "source": [
    "\n",
    ":::{admonition} Attention\n",
    ":class: attention\n",
    "\n",
    "Setting the loading icon may not appear to function properly on this page due to incompatibility with the tooling specific to the documentation.\n",
    "\n",
    ":::\n",
    "\n",
    "---\n",
    "\n",
    "## Related Resources\n"
   ]
  }
 ],
 "metadata": {},
 "nbformat": 4,
 "nbformat_minor": 5
}
