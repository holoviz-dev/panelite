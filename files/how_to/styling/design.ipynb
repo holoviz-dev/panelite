{
 "cells": [
  {
   "cell_type": "markdown",
   "id": "0105e73f",
   "metadata": {},
   "source": [
    "# Apply a Design\n",
    "\n",
    "This guide addresses how to select a design system to apply to the components to achieve a consistent design language.\n",
    "\n",
    ":::{versionadded} 1.0.0\n",
    "The design feature was added in 1.0.0 and is actively being developed and improved.\n",
    ":::\n",
    "\n",
    "---\n",
    "\n",
    "Applying different design systems in Panel can be achieved globally or per component. To select a `design` globally set it via the extension:\n",
    "\n"
   ]
  },
  {
   "cell_type": "code",
   "execution_count": null,
   "id": "19be86e3",
   "metadata": {},
   "outputs": [],
   "source": [
    "import panel as pn\n",
    "\n",
    "pn.extension(design='material')"
   ]
  },
  {
   "cell_type": "markdown",
   "id": "aa0720b4",
   "metadata": {},
   "source": [
    "\n",
    "Alternatively you can also explicitly import and set a `design` on the config:\n",
    "\n",
    "```python\n",
    "from panel.theme import Material\n",
    "\n",
    "pn.config.design = Material\n",
    "```\n",
    "\n",
    "Any component that is rendered will now inherit this design. However, alternatively we can also set a `design` explicitly on a particular component, e.g.:\n",
    "\n"
   ]
  },
  {
   "cell_type": "code",
   "execution_count": null,
   "id": "becaff6e",
   "metadata": {},
   "outputs": [],
   "source": [
    "from panel.theme import Bootstrap, Material, Native\n",
    "\n",
    "def create_components(design):\n",
    "    return pn.Column(\n",
    "        pn.widgets.FloatSlider(name='Slider', design=design),\n",
    "        pn.widgets.TextInput(name='TextInput', design=design),\n",
    "        pn.widgets.Select(\n",
    "            name='Select', options=['Biology', 'Chemistry', 'Physics'], design=design\n",
    "        ),\n",
    "        pn.widgets.Button(\n",
    "            name='Click me!', icon='hand-click', button_type='primary', design=design\n",
    "        )\n",
    "    )\n",
    "\n",
    "pn.Tabs(\n",
    "    ('Bootstrap', create_components(Bootstrap)),\n",
    "    ('Material', create_components(Material)),\n",
    "    ('Native', create_components(Native)),\n",
    ")"
   ]
  },
  {
   "cell_type": "markdown",
   "id": "e6da9334",
   "metadata": {},
   "source": [
    "\n",
    "## Related Resources\n",
    "\n",
    "- Discover [how to customize a design](design_variables) next.\n",
    "- Discover [how to toggle between themes](themes) next.\n"
   ]
  }
 ],
 "metadata": {},
 "nbformat": 4,
 "nbformat_minor": 5
}
