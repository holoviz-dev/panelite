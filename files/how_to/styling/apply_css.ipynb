{
 "cells": [
  {
   "cell_type": "markdown",
   "id": "890e8329",
   "metadata": {},
   "source": [
    "# Apply CSS\n",
    "\n",
    "This guide addresses how to apply custom CSS styling to components.\n",
    "\n",
    "---\n",
    "\n"
   ]
  },
  {
   "cell_type": "code",
   "execution_count": null,
   "id": "de78d8f7",
   "metadata": {},
   "outputs": [],
   "source": [
    "import panel as pn\n",
    "\n",
    "pn.extension()"
   ]
  },
  {
   "cell_type": "markdown",
   "id": "2473dcb7",
   "metadata": {},
   "source": [
    "\n",
    "Panel components are rendered into the [shadow DOM](https://developer.mozilla.org/en-US/docs/Web/Web_Components/Using_shadow_DOM), if you are not familiar with the concept just know that it means that each component is isolated from all others meaning that we can easily apply CSS rules for specific components.\n",
    "\n",
    "To set CSS styles we can use one of two parameters, the `styles` and the `stylesheets` parameter. The former is a dictionary of CSS styles that are applied to the container wrapping the component while stylesheets can contain entire CSS files or inline CSS rules.\n",
    "\n",
    "## `styles`\n",
    "\n",
    "Applying `styles` allows us to style the **container** in a straightforward manner, e.g. here we apply a background and a border around a widget:\n",
    "\n"
   ]
  },
  {
   "cell_type": "code",
   "execution_count": null,
   "id": "e4da47e1",
   "metadata": {},
   "outputs": [],
   "source": [
    "custom_style = {\n",
    "    'background': '#f9f9f9',\n",
    "    'border': '1px solid black',\n",
    "    'padding': '10px',\n",
    "    'box-shadow': '5px 5px 5px #bcbcbc'\n",
    "}\n",
    "\n",
    "pn.widgets.FloatSlider(name='Number', styles=custom_style)"
   ]
  },
  {
   "cell_type": "markdown",
   "id": "1b43835f",
   "metadata": {},
   "source": [
    "\n",
    "## `stylesheets`\n",
    "\n",
    "Since `styles` only applies to the `<div>` that holds the component we cannot use it to directly modify the styling of the **contents** of the component. This is where `stylesheets` come in, allowing us to provide CSS rules that affect each part of the component. This can be done in one of two ways, either we modify CSS variables or we target the specific DOM node that we want to modify using CSS rules.\n",
    "\n",
    ":::{versionadded} 1.0.0\n",
    "Note that `styles` and `stylesheets` are new in Panel 1.0.0. As we continue to build on this functionality we will provide ways of modifying the styling of components using CSS variables.\n",
    ":::\n",
    "\n",
    "### CSS Variables\n",
    "\n",
    "In the case of the `FloatSlider` we can modify the dimensions of the handle and the slider using CSS variables like `--handle-width`, `--handle-height` and `--slider-size`. In future we aim to provide a comprehensive list of CSS variables for each component.\n",
    "\n"
   ]
  },
  {
   "cell_type": "code",
   "execution_count": null,
   "id": "f8aafdcf",
   "metadata": {},
   "outputs": [],
   "source": [
    "stylesheet = \"\"\"\n",
    ":host {\n",
    "  --handle-width: 15px;\n",
    "  --handle-height: 25px;\n",
    "  --slider-size: 25px;\n",
    "}\n",
    "\"\"\"\n",
    "\n",
    "pn.widgets.FloatSlider(\n",
    "    name='Number', styles=custom_style, stylesheets=[stylesheet]\n",
    ")"
   ]
  },
  {
   "cell_type": "markdown",
   "id": "a63fc32d",
   "metadata": {},
   "source": [
    "\n",
    "### CSS rules\n",
    "\n",
    "If we need full control over the precise styling of a component we can target specific parts of a component using standard CSS rules, e.g. by identifying the CSS classes applied to each component.\n",
    "\n",
    ":::{tip}\n",
    "To discover how exactly a component is structured and how to target specific parts of a component use the inspect functionality of your browser. For example in Chrome right click on the component, then select inspect and look at the DOM structure, e.g. here is the DOM structure of the `FloatSlider`:\n",
    "\n",
    "```html\n",
    "<div class=\"bk-input-group\">\n",
    "  <div class=\"bk-slider-title\">Number: <span class=\"bk-slider-value\">0</span></div>\n",
    "  <div class=\"noUi-target noUi-ltr noUi-horizontal noUi-txt-dir-ltr\">\n",
    "    <div class=\"noUi-base\">\n",
    "      <div class=\"noUi-connects\">\n",
    "        <div class=\"noUi-connect\" style=\"transform: translate(0%, 0px) scale(0, 1); background-color: rgb(230, 230, 230);\"></div>\n",
    "      </div>\n",
    "      <div class=\"noUi-origin\" style=\"transform: translate(-100%, 0px); z-index: 4;\">\n",
    "        <div class=\"noUi-handle noUi-handle-lower\" data-handle=\"0\" tabindex=\"0\" role=\"slider\" aria-orientation=\"horizontal\" aria-valuemin=\"0.0\" aria-valuemax=\"1.0\" aria-valuenow=\"0.0\" aria-valuetext=\"0.00\">\n",
    "\t<div class=\"noUi-touch-area\">\n",
    "      </div>\n",
    "      <div class=\"noUi-tooltip\">0</div>\n",
    "    </div>\n",
    "  </div>\n",
    "</div>\n",
    "```\n",
    "\n",
    "Using the styles pane in the developer console you can then try out various styles before you translate them into specific CSS rules.\n",
    ":::\n",
    "\n",
    "Let's say we want to make the slider handle circular and change its color. Inspecting the HTML we can see that the handle is defined with the CSS class `noUi-handle`. Now we can define a CSS rule with that class that sets a `border-radius` and `background-color`, additionally we unset the `box-shadow`:\n",
    "\n"
   ]
  },
  {
   "cell_type": "code",
   "execution_count": null,
   "id": "375c85db",
   "metadata": {},
   "outputs": [],
   "source": [
    "stylesheet = \"\"\"\n",
    ":host {\n",
    "  --slider-size: 5px;\n",
    "  --handle-width: 16px;\n",
    "  --handle-height: 16px;\n",
    "}\n",
    "\n",
    ".noUi-handle {\n",
    "  border-radius: 100%;\n",
    "  box-shadow: unset;\n",
    "  background-color: #0081f3;\n",
    "}\n",
    "\"\"\"\n",
    "\n",
    "pn.widgets.FloatSlider(\n",
    "    name='Number', styles=custom_style, stylesheets=[stylesheet]\n",
    ")"
   ]
  },
  {
   "cell_type": "markdown",
   "id": "d5fa5c9c",
   "metadata": {},
   "source": [
    "\n",
    "### External stylesheets\n",
    "\n",
    "Inlining stylesheets provides a quick way to override the style of a component but it also means we are sending the stylesheet to the frontend as a string. This can add up when we want to apply this stylesheet to multiple components. Therefore it is recommended that once you move to production the styles are served as an external stylesheet you reference.\n",
    "\n",
    "You can either provide a full URL to the stylesheet and host it yourself or you can [serve static assets alongside your application](../server/static_files). Here we load the stylesheet from an external URL:\n",
    "\n"
   ]
  },
  {
   "cell_type": "code",
   "execution_count": null,
   "id": "13d09937",
   "metadata": {},
   "outputs": [],
   "source": [
    "pn.widgets.FloatSlider(\n",
    "    name='Number', stylesheets=['https://assets.holoviz.org/panel/how_to/styling/noUi.css']\n",
    ")"
   ]
  },
  {
   "cell_type": "markdown",
   "id": "905e4e3b",
   "metadata": {},
   "source": [
    "\n",
    "### CSS Classes\n",
    "\n",
    "When building complex stylesheets you will sometimes want to have multiple styles for one component. While it is possible to include a separate stylesheet for each you can also use CSS classes to distinguish between different components. The `css_classes` parameter will apply the CSS class to the shadow root (or container). Let us create two sliders with different CSS classes:\n",
    "\n"
   ]
  },
  {
   "cell_type": "code",
   "execution_count": null,
   "id": "23b4515a",
   "metadata": {},
   "outputs": [],
   "source": [
    "color_stylesheet = \"\"\"\n",
    ":host(.red) .noUi-handle {\n",
    "  background-color: red\n",
    "}\n",
    "\n",
    ":host(.green) .noUi-handle {\n",
    "  background-color: green\n",
    "}\n",
    "\n",
    ":host(.blue) .noUi-handle {\n",
    "  background-color: blue\n",
    "}\n",
    "\"\"\"\n",
    "\n",
    "pn.Column(\n",
    "    *(pn.widgets.FloatSlider(name='Number', stylesheets=[stylesheet, color_stylesheet], css_classes=[cls])\n",
    "      for cls in ('red', 'green', 'blue'))\n",
    ")"
   ]
  },
  {
   "cell_type": "markdown",
   "id": "eecf579b",
   "metadata": {},
   "source": [
    "\n",
    "## Global styles\n",
    "\n",
    ":::{deprecated} 1.0.0\n",
    "Before 1.0.0 CSS styling was generally applied globally by adding `raw_css` and `css_files` to the global `config` or `extension`. This approach is no longer recommended.\n",
    ":::\n",
    "\n",
    "---\n",
    "\n",
    "## Related Resources\n"
   ]
  }
 ],
 "metadata": {},
 "nbformat": 4,
 "nbformat_minor": 5
}
