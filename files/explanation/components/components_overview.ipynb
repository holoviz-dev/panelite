{
 "cells": [
  {
   "cell_type": "markdown",
   "id": "8f5c4bb3",
   "metadata": {},
   "source": [
    "# Components Overview\n",
    "\n",
    "Panel is a library that provides a lot of object types and while building an app, even a simple one, you will create and interact with many of them. Compare this for instance to the Pandas library, with which you'll normally interact with just a few object types (e.g. `Series`, `DataFrame`). It is important for you to understand the differences between the objects Panel offers and how you can use them.\n",
    "\n"
   ]
  },
  {
   "cell_type": "code",
   "execution_count": null,
   "id": "241563aa",
   "metadata": {},
   "outputs": [],
   "source": [
    "import panel as pn\n",
    "\n",
    "pn.extension(notifications=True)"
   ]
  },
  {
   "cell_type": "markdown",
   "id": "357fb629",
   "metadata": {},
   "source": [
    "\n",
    "The main objects that Panel provides, and that we are going to call *components* hereafter, short for *visual components*, include:\n",
    "\n",
    "- *Widgets*: widgets are components, usually quite small even if there are exceptions, that allow your users to interact with your app. Most importantly, they allow you to get user input! Examples include a text input, a checkbox, a slider, etc.\n",
    "- *Panes*: panes are wrappers around some data that allow you to render that data, possibly customizing the rendering. Panel is known to support many data types, especially from the PyData ecosystem. You can indeed display a Pandas DataFrame, a Plotly plot, a Matplotlib plot, an Altair plot, all together on the same app! You can of course display HTML text or just raw text. Panes aren't limited to rendering data statically, they can allow for some user interactions and state syncing, like for instance the `Audio` or `Vega` panes.\n",
    "- *Indicators*: indicators are useful to display some static state. They are implemented as widgets that you can only control programmatically. Examples include a progress indicator or a tooltip.\n",
    "- *Layouts*: after having built various widgets, panes and indicators, it's time to display them together. Panel provides a dozen of layout components, including of course the most common `Row` and `Column` layouts.\n",
    "- *Templates*: templates are components that render multiple Panel objects in an HTML document. The basic template, which you get when you serve an app without setting any template, is basically a blank canvas. When you use one of the built-in templates instead, you can easily improve the design and branding of your app, as the templates include elements like a header, a sidebar, etc.\n",
    "- *Notifications*: notifications are components that display so called \"toasts\", designed to mimic the push notifications that have been popularized by mobile and desktop operating systems.\n",
    "\n",
    "All the Panel components can be found in the [Component Gallery](../../reference/index).\n",
    "\n",
    ":::{tip}\n",
    "Components usually have a link to their documentation page in their docstring, use `<component>?` in a notebook or your IDE inspection capabilities to access the link.\n",
    ":::\n",
    "\n",
    "## Parameterized components\n",
    "\n",
    "All components in Panel are built on the [Param](https://param.holoviz.org/) library. Each component declares a set of *Parameters* that control the behavior and output of the component. The basic idea however is that the *Parameter* values can be controlled both at the class-level:\n",
    "\n"
   ]
  },
  {
   "cell_type": "code",
   "execution_count": null,
   "id": "32cafb44",
   "metadata": {},
   "outputs": [],
   "source": [
    "pn.widgets.IntRangeSlider.width = 350"
   ]
  },
  {
   "cell_type": "markdown",
   "id": "8af4bee7",
   "metadata": {},
   "source": [
    "\n",
    "and on each instance:\n",
    "\n"
   ]
  },
  {
   "cell_type": "code",
   "execution_count": null,
   "id": "a0f3ac27",
   "metadata": {},
   "outputs": [],
   "source": [
    "pn.widgets.IntRangeSlider(width=100)"
   ]
  },
  {
   "cell_type": "markdown",
   "id": "840fe878",
   "metadata": {},
   "source": [
    "\n",
    "## State syncing\n",
    "\n",
    "Be it in a notebook, in a served app, or in a Pyodide/PyScript app, Panel components sync their state between all views of the object. To better understand what that means, we create a `TextInput` widget and display it two times. Run the two following cells to render two views of the same widget.\n",
    "\n"
   ]
  },
  {
   "cell_type": "code",
   "execution_count": null,
   "id": "7077cb76",
   "metadata": {},
   "outputs": [],
   "source": [
    "w_text = pn.widgets.TextInput()\n",
    "w_text"
   ]
  },
  {
   "cell_type": "markdown",
   "id": "3bb95cef",
   "metadata": {},
   "source": [
    "\n"
   ]
  },
  {
   "cell_type": "code",
   "execution_count": null,
   "id": "eb64c8fa",
   "metadata": {},
   "outputs": [],
   "source": [
    "w_text"
   ]
  },
  {
   "cell_type": "markdown",
   "id": "90a75970",
   "metadata": {},
   "source": [
    "\n",
    "This widget has many *Parameters* than can be set and will be synced, i.e. a programmatic update of their value will be reflected in the user interface, affecting its views. Run the two cells below and observe the two views above being updated.\n",
    "\n"
   ]
  },
  {
   "cell_type": "code",
   "execution_count": null,
   "id": "b3842332",
   "metadata": {},
   "outputs": [],
   "source": [
    "w_text.width = 100"
   ]
  },
  {
   "cell_type": "markdown",
   "id": "f6622d27",
   "metadata": {},
   "source": [
    "\n"
   ]
  },
  {
   "cell_type": "code",
   "execution_count": null,
   "id": "d983d871",
   "metadata": {},
   "outputs": [],
   "source": [
    "w_text.value = 'new text'"
   ]
  },
  {
   "cell_type": "markdown",
   "id": "8293f3bb",
   "metadata": {},
   "source": [
    "\n",
    "What you just experienced is one-way syncing from your code to the user interface, i.e. from your running Python interpreter to your browser tab.\n",
    "\n",
    "This can also work the other way around, i.e. when you modify a component from the user interface directly, its Python state gets updated accordingly. Try this out by typing some text in one of the widgets above and then execute the cell below. You will see that what you typed is now reflected in the widget `value`. In this case we say that the `value` *Parameter* is bi-directionally synced (or linked).\n",
    "\n"
   ]
  },
  {
   "cell_type": "code",
   "execution_count": null,
   "id": "3e20959a",
   "metadata": {},
   "outputs": [],
   "source": [
    "w_text.value"
   ]
  },
  {
   "cell_type": "markdown",
   "id": "a069f9a4",
   "metadata": {},
   "source": [
    "\n",
    "## Core components\n",
    "\n",
    "### Widgets\n",
    "\n",
    "More than 50 different widgets are available in the `pn.widgets` subpackage, varying from a simple text input to a more complex chat bot. The widget classes use a consistent API that allows treating broad categories of widgets as interchangeable. For instance, to select a value from a list of options, you can interchangeably use a `Select` widget, a `RadioButtonGroup`, or a range of other equivalent widgets.\n",
    "\n",
    "#### `value`\n",
    "\n",
    "Widgets **all** have a `value` *Parameter* that holds the widget state and that is bi-directionally synced. What is accepted for `value` is often a constrained *Parameter*.\n",
    "\n",
    ":::{note}\n",
    "\n",
    "One gotcha that doesn't only apply to the `value` *Parameter* but that you are more likely to encounter with this *Parameter* than others is when it is referencing a mutable data structure that you mutate in-place. Take for example a `MultiSelect` widget whose `value` is a `list`. If you programmatically update that list directly, with for example `append` or `extend`, Panel will not be able to detect that change. In which case you need to explicitly trigger updates with `w_multiselect.param.trigger('value')` that will run all the same underlying machinery as if you were setting the *Parameter* to a new value. A notable widget that holds a multable datastructure is the `Tabulator` widget whose `value` is a Pandas DataFrame that can be updated in-place with e.g. `df.loc[0, 'A'] = new_value`, its `patch` method allows to both update the data and the user interface.\n",
    ":::\n",
    "\n"
   ]
  },
  {
   "cell_type": "code",
   "execution_count": null,
   "id": "ac320a2d",
   "metadata": {},
   "outputs": [],
   "source": [
    "w_multi = pn.widgets.MultiSelect(options=list('abc'))\n",
    "w_multi"
   ]
  },
  {
   "cell_type": "markdown",
   "id": "0b497453",
   "metadata": {},
   "source": [
    "\n"
   ]
  },
  {
   "cell_type": "code",
   "execution_count": null,
   "id": "db31d50e",
   "metadata": {},
   "outputs": [],
   "source": [
    "# Setting `value` updates the user interface as expected.\n",
    "w_multi.value = ['a', 'b']"
   ]
  },
  {
   "cell_type": "markdown",
   "id": "5f384865",
   "metadata": {},
   "source": [
    "\n"
   ]
  },
  {
   "cell_type": "code",
   "execution_count": null,
   "id": "ac9499c9",
   "metadata": {},
   "outputs": [],
   "source": [
    "# However, updating `value` in place doesn't.\n",
    "w_multi.value.append('c')"
   ]
  },
  {
   "cell_type": "markdown",
   "id": "2162a7cc",
   "metadata": {},
   "source": [
    "\n"
   ]
  },
  {
   "cell_type": "code",
   "execution_count": null,
   "id": "154a679b",
   "metadata": {},
   "outputs": [],
   "source": [
    "# Trigger updates to also select 'c' in the user interface\n",
    "w_multi.param.trigger('value')"
   ]
  },
  {
   "cell_type": "markdown",
   "id": "676620be",
   "metadata": {},
   "source": [
    "\n",
    "#### Throttling\n",
    "\n",
    "There are two types of widgets that can be updated very frequently in the user interface: sliders (e.g. `IntSlider`, `FloatSlider`, `RangerSlider`) and text inputs (e.g. `TextInput`, `AutocompleteInput`). In some cases you may want to react on every state update of these widgets, in some others you only want to react when the user has finished interacting with the widget. For instance, you certainly do not want to run a long simulation on every step of a slider being dragged by your user, but you may want a plot to be updated live when your user moves another slider. Panel provides additional *Parameters* to cover those cases:\n",
    "\n",
    "- sliders: the `value` *Parameter* is updated continuously when the slider is being dragged and the `value_throttled` *Parameter* is updated only when the handle on the slider is released (less updates)\n",
    "- text inputs: the `value` *Parameter* is only updated when the *Enter* key is pressed or the widget loses focus and the `value_input` *Parameter* is updated on every key press (more updates).\n",
    "\n"
   ]
  },
  {
   "cell_type": "code",
   "execution_count": null,
   "id": "6ab168c7",
   "metadata": {},
   "outputs": [],
   "source": [
    "pn.config.throttled = True"
   ]
  },
  {
   "cell_type": "markdown",
   "id": "1d86938c",
   "metadata": {},
   "source": [
    "\n"
   ]
  },
  {
   "cell_type": "code",
   "execution_count": null,
   "id": "60fb0c73",
   "metadata": {},
   "outputs": [],
   "source": [
    "slider = pn.widgets.IntSlider(start=0, end=10)"
   ]
  },
  {
   "cell_type": "markdown",
   "id": "d536b7b9",
   "metadata": {},
   "source": [
    "\n"
   ]
  },
  {
   "cell_type": "code",
   "execution_count": null,
   "id": "15677ad8",
   "metadata": {},
   "outputs": [],
   "source": [
    "text = pn.widgets.TextInput()"
   ]
  },
  {
   "cell_type": "markdown",
   "id": "6c064353",
   "metadata": {},
   "source": [
    "\n"
   ]
  },
  {
   "cell_type": "code",
   "execution_count": null,
   "id": "5c0ddb59",
   "metadata": {},
   "outputs": [],
   "source": [
    "text.value_input"
   ]
  },
  {
   "cell_type": "markdown",
   "id": "c1a25abe",
   "metadata": {},
   "source": [
    "\n"
   ]
  },
  {
   "cell_type": "code",
   "execution_count": null,
   "id": "bfbe7d47",
   "metadata": {},
   "outputs": [],
   "source": [
    "slider.param.value_throttled"
   ]
  },
  {
   "cell_type": "markdown",
   "id": "24e5b1ce",
   "metadata": {},
   "source": [
    "\n",
    "#### `name`\n",
    "\n",
    "Most widgets can have a caption that is set with the `name` *Parameter*.\n",
    "\n"
   ]
  },
  {
   "cell_type": "code",
   "execution_count": null,
   "id": "76e8f477",
   "metadata": {},
   "outputs": [],
   "source": [
    "pn.widgets.Button(name='Click me!')"
   ]
  },
  {
   "cell_type": "markdown",
   "id": "6856d1fc",
   "metadata": {},
   "source": [
    "\n"
   ]
  },
  {
   "cell_type": "code",
   "execution_count": null,
   "id": "1b308d99",
   "metadata": {},
   "outputs": [],
   "source": [
    "pn.widgets.TextInput(name='Age:')"
   ]
  },
  {
   "cell_type": "markdown",
   "id": "7aef994c",
   "metadata": {},
   "source": [
    "\n",
    "#### `description`\n",
    "\n",
    "The `description` *Parameter* was added in Panel 1.0 to some widgets. It adds a tooltip icon next to the widget label, it supports rendering HTML content.\n",
    "\n"
   ]
  },
  {
   "cell_type": "code",
   "execution_count": null,
   "id": "9032e02c",
   "metadata": {},
   "outputs": [],
   "source": [
    "pn.widgets.Select(\n",
    "    name='Mode', description='<ul><li>Mode 1: ...</li><li>Mode 2: ...</li></ul>',\n",
    "    options=[1, 2]\n",
    ")"
   ]
  },
  {
   "cell_type": "markdown",
   "id": "ac0860e2",
   "metadata": {},
   "source": [
    "\n",
    "### Panes\n",
    "\n",
    "Pane objects makes it possible to display a wide range of plots and other media on a page, including plots (e.g. Matplotlib, Bokeh, Vega/Altair, HoloViews, Plotly, Vizzu), images (e.g. PNGs, SVGs, GIFs, JPEGs), various markup languages (e.g. Markdown, HTML, LaTeX) and DataFrames. Panes are available under the `pn.pane` subpackage.\n",
    "\n",
    "#### `pn.panel()`\n",
    "\n",
    "Panel provides `pn.panel` as a convenient helper function that will convert objects into a Pane. The utility resolves the appropriate representation for an object by checking all Pane object types available and then ranking them by priority. When passing a string (for instance) there are many representations, but the PNG pane takes precedence if the string is a valid URL or local file path ending in \".png\".\n",
    "\n"
   ]
  },
  {
   "cell_type": "code",
   "execution_count": null,
   "id": "58b77dab",
   "metadata": {},
   "outputs": [],
   "source": [
    "png = pn.panel('https://upload.wikimedia.org/wikipedia/commons/4/47/PNG_transparency_demonstration_1.png', width=200)\n",
    "png"
   ]
  },
  {
   "cell_type": "markdown",
   "id": "c289f598",
   "metadata": {},
   "source": [
    "\n"
   ]
  },
  {
   "cell_type": "code",
   "execution_count": null,
   "id": "11e00baf",
   "metadata": {},
   "outputs": [],
   "source": [
    "row = pn.Row('# Title')"
   ]
  },
  {
   "cell_type": "markdown",
   "id": "54f37cee",
   "metadata": {},
   "source": [
    "\n",
    "We can check that `PNG` is indeed the Pane type inferred by the utility.\n",
    "\n"
   ]
  },
  {
   "cell_type": "code",
   "execution_count": null,
   "id": "50d2a47e",
   "metadata": {},
   "outputs": [],
   "source": [
    "print(png)"
   ]
  },
  {
   "cell_type": "markdown",
   "id": "df69f2b6",
   "metadata": {},
   "source": [
    "\n",
    "#### `object`\n",
    "\n",
    "Panes **all** store the object they are wrapping on the `object` *Parameter*. Existing views of a pane will update when `object` is set to a new value. Let's verify that with the `Markdown` pane, run the next cells to display two views of the same pane and update both of them by setting `object` with a new string.\n",
    "\n"
   ]
  },
  {
   "cell_type": "code",
   "execution_count": null,
   "id": "cc056b75",
   "metadata": {},
   "outputs": [],
   "source": [
    "p_md = pn.pane.Markdown('# Title')\n",
    "p_md"
   ]
  },
  {
   "cell_type": "markdown",
   "id": "9c3e16a9",
   "metadata": {},
   "source": [
    "\n"
   ]
  },
  {
   "cell_type": "code",
   "execution_count": null,
   "id": "fb2a31a2",
   "metadata": {},
   "outputs": [],
   "source": [
    "p_md.object"
   ]
  },
  {
   "cell_type": "markdown",
   "id": "e4f6397b",
   "metadata": {},
   "source": [
    "\n"
   ]
  },
  {
   "cell_type": "code",
   "execution_count": null,
   "id": "315723e8",
   "metadata": {},
   "outputs": [],
   "source": [
    "p_md.object = '# New title'"
   ]
  },
  {
   "cell_type": "markdown",
   "id": "61625f2d",
   "metadata": {},
   "source": [
    "\n",
    "### Indicators\n",
    "\n",
    "Indicators are useful to show transient state (e.g. progress bar), a numerical indicator or a text indicator (e.g. tooltip). They sit in between widgets and panes, they have a `value` *Parameter* that holds their state but cannot be modified from the user interface.\n",
    "\n"
   ]
  },
  {
   "cell_type": "code",
   "execution_count": null,
   "id": "df1294e0",
   "metadata": {},
   "outputs": [],
   "source": [
    "i_number = pn.indicators.Number(\n",
    "    name='Total Amount', value=3.5, format='{value}K',\n",
    "    colors=[(5, 'green'), (10, 'red')]\n",
    ")\n",
    "i_number"
   ]
  },
  {
   "cell_type": "markdown",
   "id": "ff97b84c",
   "metadata": {},
   "source": [
    "\n"
   ]
  },
  {
   "cell_type": "code",
   "execution_count": null,
   "id": "5167915f",
   "metadata": {},
   "outputs": [],
   "source": [
    "i_number.value = 6"
   ]
  },
  {
   "cell_type": "markdown",
   "id": "50db6e87",
   "metadata": {},
   "source": [
    "\n",
    "Indicators work well with asynchronous generators to quickly update their state without blocking.\n",
    "\n",
    "### Layouts\n",
    "\n",
    "Layouts, aka *Panels*, allow arranging other components objects into fixed-size or responsively resizing layouts, building simple apps or complex dashboards. The whole Panel library is designed to make it easy to create such objects, which is why it takes its name from them.\n",
    "\n",
    "There are four main types of Panels:\n",
    "\n",
    "- A `Row` arranges a list of components horizontally.\n",
    "- A `Column` arranges a list of components vertically.\n",
    "- A `Tabs` object lays out a list of components as selectable tabs.\n",
    "- A `GridSpec` lays out components on a grid.\n",
    "\n",
    "We aren't going to explore all these types of layouts, instead we are going to focus on a key difference between some of them that affects how you interact with them:\n",
    "\n",
    "- The `Row`, `Column`, `Tabs`, `GridBox`, `FlexBox`, `Accordion` and `FloatPanel` layouts have list-like semantics, which means they have many of the same methods as a simple Python `list`, making it easy to add, replace, and remove components interactively using `append`, `extend`, `clear`, `insert`, `pop`, `remove` and `__setitem__`. These methods make it possible to interactively configure and modify an arrangement of plots, making them an extremely powerful tool for building apps or dashboards.\n",
    "- The `GridSpec` and `GridStack` layout is quite different from the other layout types in that it isn’t list-like. Instead it behaves more like a 2D array that automatically expands when assigned to. This property makes it a very powerful means of declaring a dashboard layout with either a fixed size or with responsive sizing, i.e. one that will rescale with the browser window.\n",
    "\n",
    "All the layout objects can be initialized as empty. When initialized with some objects, or when some new objects are set, if these objects aren't Panel components the `pn.panel` helper will be called internally to convert it into a displayable representation (typically a Pane).\n",
    "\n",
    "#### List-like API\n",
    "\n",
    "List-like layouts can be initialized with a variable number of objects. To start with, we will declare a `Column` and populate it with a title and a widget.\n",
    "\n"
   ]
  },
  {
   "cell_type": "code",
   "execution_count": null,
   "id": "094261e1",
   "metadata": {},
   "outputs": [],
   "source": [
    "column = pn.Column('# A title', pn.widgets.FloatSlider())\n",
    "column"
   ]
  },
  {
   "cell_type": "markdown",
   "id": "7919a80f",
   "metadata": {},
   "source": [
    "\n",
    "Next we add another bit of markdown.\n",
    "\n"
   ]
  },
  {
   "cell_type": "code",
   "execution_count": null,
   "id": "df9e2615",
   "metadata": {},
   "outputs": [],
   "source": [
    "column.append('* Item 1\\n* Item 2')"
   ]
  },
  {
   "cell_type": "markdown",
   "id": "8a8ac74f",
   "metadata": {},
   "source": [
    "\n",
    "Then we add a few more widgets.\n",
    "\n"
   ]
  },
  {
   "cell_type": "code",
   "execution_count": null,
   "id": "09b01522",
   "metadata": {},
   "outputs": [],
   "source": [
    "column.extend([pn.widgets.TextInput(), pn.widgets.Checkbox(name='Tick this!')])"
   ]
  },
  {
   "cell_type": "markdown",
   "id": "68e63481",
   "metadata": {},
   "source": [
    "\n",
    "And finally we change our mind and replace the `Checkbox` with a button.\n",
    "\n"
   ]
  },
  {
   "cell_type": "code",
   "execution_count": null,
   "id": "690efe49",
   "metadata": {},
   "outputs": [],
   "source": [
    "column[4] = pn.widgets.Button(name='Click here')"
   ]
  },
  {
   "cell_type": "markdown",
   "id": "359107d1",
   "metadata": {},
   "source": [
    "\n",
    "The ability to add, remove, and replace items using list operations opens up the possibility of building rich and responsive GUIs with the ease of manipulating a Python list! You can inspect the structure of a layout calling `print`.\n",
    "\n"
   ]
  },
  {
   "cell_type": "code",
   "execution_count": null,
   "id": "f1378352",
   "metadata": {},
   "outputs": [],
   "source": [
    "print(column)"
   ]
  },
  {
   "cell_type": "markdown",
   "id": "8e14c0a2",
   "metadata": {},
   "source": [
    "\n",
    "The `Tabs` and `Accordion` layouts behave similarly, however, when adding or replacing items, it is also possible to pass a tuple providing a custom title for the tab\n",
    "\n"
   ]
  },
  {
   "cell_type": "code",
   "execution_count": null,
   "id": "80e024bf",
   "metadata": {},
   "outputs": [],
   "source": [
    "tabs = pn.Tabs(('Text', 'Some text'))\n",
    "tabs"
   ]
  },
  {
   "cell_type": "markdown",
   "id": "1402b7a6",
   "metadata": {},
   "source": [
    "\n"
   ]
  },
  {
   "cell_type": "code",
   "execution_count": null,
   "id": "4baf0597",
   "metadata": {},
   "outputs": [],
   "source": [
    "# Insert a tab with a title\n",
    "tabs.insert(0, ('Slider', pn.widgets.FloatSlider()))"
   ]
  },
  {
   "cell_type": "markdown",
   "id": "55b08f12",
   "metadata": {},
   "source": [
    "\n",
    "#### Grid-like API\n",
    "\n",
    "Grid-like layouts are initialized empty and populated by setting 2D assignments to specify the index or span on indices the object in the grid should occupy. Just like a Python array, the indexing is zero-based and specifies the rows first and the columns second, i.e. `gridlike[0, 1]` would assign an object to the first row and second column.\n",
    "\n",
    "To demonstrate the abilities, let us declare a grid with a wide range of different objects, including `Spacers`, HoloViews objects, images, and widgets.\n",
    "\n"
   ]
  },
  {
   "cell_type": "code",
   "execution_count": null,
   "id": "06cbe90b",
   "metadata": {},
   "outputs": [],
   "source": [
    "import holoviews as hv\n",
    "\n",
    "hv.extension('bokeh')\n",
    "\n",
    "pn.extension('gridstack')"
   ]
  },
  {
   "cell_type": "markdown",
   "id": "88e40dbc",
   "metadata": {},
   "source": [
    "\n"
   ]
  },
  {
   "cell_type": "code",
   "execution_count": null,
   "id": "b68c63d5",
   "metadata": {},
   "outputs": [],
   "source": [
    "gspec = pn.GridStack(sizing_mode='stretch_width', height=500)\n",
    "gspec[0, :3] = pn.Spacer(styles=dict(background='#FF0000'))\n",
    "gspec[1:3, 0] = pn.Spacer(styles=dict(background='#0000FF'))\n",
    "gspec[1:3, 1:3] = hv.Scatter([0, 1, 0]).opts(shared_axes=False)\n",
    "gspec[3:5, 0] = hv.Curve([1, 2, 3])\n",
    "gspec[3:5, 1] = 'https://upload.wikimedia.org/wikipedia/commons/4/47/PNG_transparency_demonstration_1.png'\n",
    "gspec[4:5, 2] = pn.Column(\n",
    "    pn.widgets.FloatSlider(),\n",
    "    pn.widgets.ColorPicker(),\n",
    "    pn.widgets.Toggle(name='Toggle Me!'))\n",
    "\n",
    "gspec"
   ]
  },
  {
   "cell_type": "markdown",
   "id": "e2279686",
   "metadata": {},
   "source": [
    "\n",
    "### Shared *Parameters*\n",
    "\n",
    "Widgets, indicators, panes and layouts all share a set of *Parameters* which are going to be briefly introduced in the following sections.\n",
    "\n",
    "#### `loading`\n",
    "\n",
    "Loading spinners are everywhere on modern apps and for good reasons, they let your users know that your app is doing some work for them! Fortunately they are very easy to set up in Panel, just set the `loading` *Parameter* to `True` or `False` on a component to display and hide its loading spinner.\n",
    "\n"
   ]
  },
  {
   "cell_type": "code",
   "execution_count": null,
   "id": "c954e385",
   "metadata": {},
   "outputs": [],
   "source": [
    "p_md = pn.pane.Markdown('# Title', loading=True)\n",
    "p_md"
   ]
  },
  {
   "cell_type": "markdown",
   "id": "6a863ebb",
   "metadata": {},
   "source": [
    "\n"
   ]
  },
  {
   "cell_type": "code",
   "execution_count": null,
   "id": "d291a669",
   "metadata": {},
   "outputs": [],
   "source": [
    "pn.config.loading_spinner = 'petal'\n",
    "pn.config.loading_color = 'red'"
   ]
  },
  {
   "cell_type": "markdown",
   "id": "6d3308e0",
   "metadata": {},
   "source": [
    "\n"
   ]
  },
  {
   "cell_type": "code",
   "execution_count": null,
   "id": "023b8424",
   "metadata": {},
   "outputs": [],
   "source": [
    "p_md.loading = False"
   ]
  },
  {
   "cell_type": "markdown",
   "id": "484dd1e1",
   "metadata": {},
   "source": [
    "\n",
    "#### `visible`\n",
    "\n",
    "Sometimes it's useful to just completely hide a component, for instance to hide some advanced options. Again that's very easy to do, just set the `visible` *Parameter* to `False` on a component you want to hide.\n",
    "\n"
   ]
  },
  {
   "cell_type": "code",
   "execution_count": null,
   "id": "68ac833b",
   "metadata": {},
   "outputs": [],
   "source": [
    "w_text = pn.widgets.TextInput(name='Advanced')\n",
    "w_text"
   ]
  },
  {
   "cell_type": "markdown",
   "id": "181e9614",
   "metadata": {},
   "source": [
    "\n"
   ]
  },
  {
   "cell_type": "code",
   "execution_count": null,
   "id": "d6547fa8",
   "metadata": {},
   "outputs": [],
   "source": [
    "w_text.visible = True"
   ]
  },
  {
   "cell_type": "markdown",
   "id": "d46fa03c",
   "metadata": {},
   "source": [
    "\n",
    "#### Style\n",
    "\n",
    "A few *Parameters* allow to control the style of components, including `styles`, `stylesheets`, `css_classes` and `design`. These will be explored in more detail in one of the next guides. As a teaser, the next cell is a simple example leveraging the `styles` *Parameter* only, that accepts a dictionary of CSS styles.\n",
    "\n"
   ]
  },
  {
   "cell_type": "code",
   "execution_count": null,
   "id": "45c3927f",
   "metadata": {},
   "outputs": [],
   "source": [
    "custom_style = {\n",
    "    'background': '#f9f9f9',\n",
    "    'border': '1px solid black',\n",
    "    'padding': '10px',\n",
    "    'box-shadow': '5px 5px 5px #bcbcbc'\n",
    "}\n",
    "\n",
    "pn.widgets.FloatSlider(name='Number', styles=custom_style)"
   ]
  },
  {
   "cell_type": "markdown",
   "id": "4f89e0b9",
   "metadata": {},
   "source": [
    "\n",
    "#### Size and responsivity\n",
    "\n",
    "A few *Parameters* allow to control the size and responsivity of components, including `height`, `width`, `min_height`, `min_width` and `sizing_mode`. These will be explored in more detail in one of the next guides.\n",
    "\n",
    "#### `margin`\n",
    "\n",
    "The `margin` *Parameter* can be used to create space around an element defined as the number of pixels at the (top, right, bottom, and left). When you set it with a single value, the margin is going to be applied to each side of the element. `margin` allows for more fine-grained distributio of the margin.\n",
    "\n"
   ]
  },
  {
   "cell_type": "code",
   "execution_count": null,
   "id": "597f093c",
   "metadata": {},
   "outputs": [],
   "source": [
    "pn.widgets.Button(name='Click', margin=(25, 0, 0, 0))"
   ]
  },
  {
   "cell_type": "markdown",
   "id": "13ed71b4",
   "metadata": {},
   "source": [
    "\n",
    "#### `align`\n",
    "\n",
    "The `align` *Parameter* controls how components align vertically and horizontally. It supports `‘start’`, `‘center’`, and `‘end’` values and can be set for both horizontal and vertical directions at once or for each separately by passing in a tuple of the form `(horizontal, vertical)`.\n",
    "\n"
   ]
  },
  {
   "cell_type": "code",
   "execution_count": null,
   "id": "1a737aad",
   "metadata": {},
   "outputs": [],
   "source": [
    "pn.Row(\n",
    "    pn.widgets.IntSlider(),\n",
    "    pn.widgets.IntSlider(align=('center', 'start')),\n",
    "    height=100,\n",
    "    styles={'background': 'lightgrey'},\n",
    ")"
   ]
  },
  {
   "cell_type": "markdown",
   "id": "a8d6ba37",
   "metadata": {},
   "source": [
    "## Templates\n",
    "\n",
    "A template is the HTML document that ends up being served by your app. It defines what resources (Javascript, CSS) need to be loaded, the page title, where the Panel objects are supposed to be rendered on the page, etc.\n",
    "\n",
    "When you serve an app without defining a particular template Panel serves it with its default template, which is pretty much a blank canvas where the served objects, if there are a few of them, will be rendered vertically one after the other.\n",
    "\n",
    "Try saving the following snippet in a `app.py` file and serving it with `panel serve app.py --show`\n",
    "\n",
    "```python\n",
    "import panel as pn\n",
    "\n",
    "pn.panel('# Title').servable()\n",
    "pn.panel('Some text').servable()\n",
    "pn.panel('More text').servable()\n",
    "```\n",
    "\n",
    "When developing an app, someone (possibly you!) will be required at some point to make it prettier! A quick way to achieve that is to wrap your app in one of the templates that Panel provides, that are defined by declaring four main content areas on the page, which can be populated as desired:\n",
    "\n",
    "- `header`: The header area of the HTML page\n",
    "- `sidebar`: A collapsible sidebar\n",
    "- `main`: The main area of the application\n",
    "- `modal`: A modal, i.e. a dialog box/popup window\n",
    "\n",
    "These four areas behave very similarly to layouts that have list-like semantics. This means we can easily append new components into these areas. Unlike other layout components however, the contents of the areas is fixed once rendered. If you need a dynamic layout you should therefore insert a regular layout (e.g. a `Column` or `Row`) and modify it in place once added to one of the content areas.\n",
    "\n",
    "<img src=\"../../_static/images/template_areas.png\" style=\"margin-left: auto; margin-right: auto; display: block;\"></img>\n",
    "\n",
    ":::{warning}\n",
    "The templates provided by Panel should not be rendered in a notebook, as their CSS styling usually doesn't play well with the CSS styling of the notebook itself.\n",
    ":::\n",
    "\n",
    "Since an app can only have one template, Panel allows to declare the app template via `pn.extension(template='..')`. Of course you can also explicitly instantiate a template and manipulate it as you would do with other Panel objects. Try serving the content of this snippet.\n",
    "\n",
    "```python\n",
    "import panel as pn\n",
    "\n",
    "\n",
    "template = pn.template.BootstrapTemplate(title='Loving Panel!')\n",
    "\n",
    "\n",
    "def compute(i):\n",
    "    return '❤️' * i\n",
    "\n",
    "\n",
    "w_number = pn.widgets.IntSlider(value=5, start=1, end=5)\n",
    "p_hearts = pn.panel(pn.bind(compute, w_number))\n",
    "\n",
    "template.sidebar.append(w_number)\n",
    "template.main.append(p_hearts)\n",
    "template.show()\n",
    "```\n",
    "## Notifications\n",
    "\n",
    "The web apps you end up building with Panel are often quite interactive. Therefore you will be interested in finding a way to let your users know what's going on, when their operations succeed or abort, etc. This is exactly what notifications are for! Contrary to the components we have just covered, notifications are objects you don't manipulate directly, instead you just call `pn.state.notifications` with one the following methods: `success`, `info`, `warning` and `error`.\n",
    "\n"
   ]
  },
  {
   "cell_type": "code",
   "execution_count": null,
   "id": "0ecf5aba",
   "metadata": {},
   "outputs": [],
   "source": [
    "pn.state.notifications.success('Your first notification!')"
   ]
  },
  {
   "cell_type": "markdown",
   "id": "60fe2cc9",
   "metadata": {},
   "source": [
    "\n"
   ]
  },
  {
   "cell_type": "code",
   "execution_count": null,
   "id": "15fd639a",
   "metadata": {},
   "outputs": [],
   "source": [
    "pn.state.notifications.error('Oops!', duration=5000)"
   ]
  }
 ],
 "metadata": {},
 "nbformat": 4,
 "nbformat_minor": 5
}
