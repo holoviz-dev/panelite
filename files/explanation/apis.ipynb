{
 "cells": [
  {
   "cell_type": "markdown",
   "id": "087afd61",
   "metadata": {},
   "source": [
    ".. raw:: html\n",
    "    <head>\n",
    "        <meta http-equiv='refresh' content='0; URL=./index.html#apis'>\n",
    "    </head>\n",
    "\n",
    "# APIs\n",
    "\n",
    "```{toctree}\n",
    ":titlesonly:\n",
    ":hidden:\n",
    ":maxdepth: 1\n",
    "\n",
    "API context <api/index>\n",
    "```\n"
   ]
  }
 ],
 "metadata": {},
 "nbformat": 4,
 "nbformat_minor": 5
}
