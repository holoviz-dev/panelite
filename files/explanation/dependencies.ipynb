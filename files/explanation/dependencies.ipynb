{
 "cells": [
  {
   "cell_type": "markdown",
   "id": "2ad8100b",
   "metadata": {},
   "source": [
    ".. raw:: html\n",
    "    <head>\n",
    "        <meta http-equiv='refresh' content='0; URL=./index.html#dependencies'>\n",
    "    </head>\n",
    "\n",
    "# Dependencies\n",
    "\n",
    "```{toctree}\n",
    ":titlesonly:\n",
    ":hidden:\n",
    ":maxdepth: 1\n",
    "\n",
    "Panel and Param <dependencies/param>\n",
    "Panel and Bokeh <dependencies/bokeh>\n",
    "```\n"
   ]
  }
 ],
 "metadata": {},
 "nbformat": 4,
 "nbformat_minor": 5
}
