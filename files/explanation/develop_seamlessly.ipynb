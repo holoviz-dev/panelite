{
 "cells": [
  {
   "cell_type": "markdown",
   "id": "89c1c342",
   "metadata": {},
   "source": [
    "# Develop Seamlessly Across Environments\n",
    "\n",
    "Our objective is to empower teams to seamlessly utilize Panel regardless of the development environment, e.g. Jupyter Notebook, Jupyter Lab, Binder, Google Colab, Spyder, VS Code, and PyCharm.\n",
    "\n",
    "\n",
    "## Notebook\n",
    "\n",
    "We love notebooks.\n",
    "\n",
    "### Notebook friendly\n",
    "\n",
    "Jupyter notebooks have been supported in Panel since day 1. Notebooks are environments that allow one to iterate quickly, running some code and observing instantaneously its output. Notebooks also happen to be a valid deployment option:\n",
    "\n",
    "- you can actually develop apps that are meant to live only in a notebook, that you will share as a file with your colleagues and friends. Panel allows you to make your notebooks more user friendly, like [IPywidgets](https://ipywidgets.readthedocs.io/en/stable/) does.\n",
    "- you can serve a notebook with `panel serve file.ipynb`, Panel will parse your notebook to collect all of its code and run it as if it were a Python script.\n",
    "\n",
    "Jupyter notebooks aren't the only flavor of notebooks available, Panel also supports Visual Studio Code and Google Colab notebooks, and probably works fine on other platforms. For Visual Studio Code notebooks, you will need to install the `jupyter_bokeh` package in your environment.\n",
    "\n",
    "### `pn.extension`\n",
    "\n",
    "The first step when working in a notebook environment should **always** be to load the `pn.extension`:\n",
    "\n"
   ]
  },
  {
   "cell_type": "code",
   "execution_count": null,
   "id": "c5c34b0a",
   "metadata": {},
   "outputs": [],
   "source": [
    "import panel as pn\n",
    "\n",
    "pn.extension()"
   ]
  },
  {
   "cell_type": "markdown",
   "id": "6a4f860e",
   "metadata": {},
   "source": [
    "\n",
    "The extension ensures that the [`pyviz_comms`](https://github.com/holoviz/pyviz_comms) and all required Javascript and CSS resources are added to your notebook environment. If you are going to be using any custom extensions, such as [Vega](../reference/panes/Vega) or [Tabulator](../reference/widgets/Tabulator) you must ensure that you initialize these as well.\n",
    "\n"
   ]
  },
  {
   "cell_type": "code",
   "execution_count": null,
   "id": "28aa00d1",
   "metadata": {},
   "outputs": [],
   "source": [
    "pn.extension('vega', 'tabulator')"
   ]
  },
  {
   "cell_type": "markdown",
   "id": "cd3d6b3d",
   "metadata": {},
   "source": [
    "\n",
    "### Rich display\n",
    "\n",
    "One of the major benefits of notebook environments is that they support rich output. This means that if you place an object with rich output at the end of a cell the notebook will figure out how to render the rich representation. Panel uses this mechanism to ensure that all components return a rich representation.\n",
    "\n"
   ]
  },
  {
   "cell_type": "code",
   "execution_count": null,
   "id": "ae08207c",
   "metadata": {},
   "outputs": [],
   "source": [
    "pane = pn.panel('<marquee>Here is some custom HTML</marquee>')\n",
    "pane"
   ]
  },
  {
   "cell_type": "markdown",
   "id": "f9eda29e",
   "metadata": {},
   "source": [
    "\n",
    "To instead see a textual representation of the component, you can use the `print` function on any Panel object.\n",
    "\n"
   ]
  },
  {
   "cell_type": "code",
   "execution_count": null,
   "id": "27130d11",
   "metadata": {},
   "outputs": [],
   "source": [
    "print(pane)"
   ]
  },
  {
   "cell_type": "markdown",
   "id": "ed89e026",
   "metadata": {},
   "source": [
    "\n",
    "### Callback logs\n",
    "\n",
    "When you set up interactivity in your app using one of the various ways Panel offers to register a callback (e.g. `param.bind`, `@param.watch`, `on_<event>` methods), it can be useful for you as a developer to print some debug information. Panel catches all the content sent to *stdout* and *stderr* when callbacks are executed and renders it above the displayed object. The default mode of this functionality is to accumulate content, you can modify this by setting `pn.config.console_output` to `'replace'` for instance to only see the last message caught. Move the slider in the little app below to see the stream of printed messages being displayed in the notebook.\n",
    "\n"
   ]
  },
  {
   "cell_type": "code",
   "execution_count": null,
   "id": "3ec7c9ec",
   "metadata": {},
   "outputs": [],
   "source": [
    "pn.config.console_output = False"
   ]
  },
  {
   "cell_type": "markdown",
   "id": "ce78a71c",
   "metadata": {},
   "source": [
    "\n"
   ]
  },
  {
   "cell_type": "code",
   "execution_count": null,
   "id": "1e6e6b07",
   "metadata": {},
   "outputs": [],
   "source": [
    "def compute(i):\n",
    "    print(f'debug {i}')\n",
    "    return '❤️' * i\n",
    "\n",
    "w = pn.widgets.IntSlider(value=1, start=1, end=10)\n",
    "\n",
    "pn.Row(w, pn.bind(compute, w))"
   ]
  },
  {
   "cell_type": "markdown",
   "id": "77b2201e",
   "metadata": {},
   "source": [
    "\n",
    "### Render templates\n",
    "\n",
    "You have been told in the Panel tutorial to avoid rendering Panel templates in a notebook. That's however not a dead end! There are two approaches you can leverage to display an app that is wrapped in a template while working from a notebook, in addition to just being able to serve the notebook with `panel serve notebook.ipynb`.\n",
    "\n",
    "Templates, as any other Panel visual components, are equipped with the `.show()` method that when called starts a Bokeh server, serves your app and opens it in a new tab. While this approach doesn't allow you to iterate super quickly, it's a simple way to check what your app looks like when served.\n",
    "\n"
   ]
  },
  {
   "cell_type": "code",
   "execution_count": null,
   "id": "1e0bb4b3",
   "metadata": {},
   "outputs": [],
   "source": [
    "template = pn.template.BootstrapTemplate(\n",
    "    title='Loving Panel!',\n",
    "    sidebar=['**Text 1**', '**Text 2**'],\n",
    "    main=['Main area'],\n",
    ")\n",
    "# Uncomment the next line to try out `.show()`\n",
    "template;#.show();"
   ]
  },
  {
   "cell_type": "markdown",
   "id": "088b2e55",
   "metadata": {},
   "source": [
    "\n",
    "The second approach deserves a section of its own.\n",
    "\n",
    "### *Preview* functionality\n",
    "\n",
    "With the *Preview* functionality, available in JupyterLab, you can display the app you are building in a JupyterLab tab right next to your code. This is a traditional setup for web developers, who like to quickly visualize the effects of their code changes.\n",
    "\n",
    "To have your app appear in the *Preview*, you need to mark the objects you want to display with `.servable()`. This is identical to how you would mark objects that you want to serve with `panel serve ...`.\n",
    "\n",
    "You can enable the *Preview* by clicking on Panel’s logo in the menu bar of your notebook. Once clicked, you should see a new tab being opened next to your notebook tab, and after some moment your app will be rendered in this tab. Just try it out!\n",
    "\n"
   ]
  },
  {
   "cell_type": "code",
   "execution_count": null,
   "id": "9fd4a5af",
   "metadata": {},
   "outputs": [],
   "source": [
    "template = pn.template.BootstrapTemplate(title='HM Training!')\n",
    "\n",
    "def compute(i):\n",
    "    return '❤️' * i\n",
    "\n",
    "w_number = pn.widgets.IntSlider(value=5, start=1, end=5)\n",
    "p_hearts = pn.panel(pn.bind(compute, w_number))\n",
    "\n",
    "template.sidebar.append(w_number)\n",
    "template.main.append(p_hearts)\n",
    "template.servable();"
   ]
  },
  {
   "cell_type": "markdown",
   "id": "1f3a729f",
   "metadata": {},
   "source": [
    "\n",
    ":::{tip}\n",
    "\n",
    "Note the `;` at the end of `template.servable();`. This is a special IPython command that prevents the output of a cell from being displayed. This comes in handy when dealing with templates in a notebook!\n",
    ":::\n",
    "\n",
    "This is what you should be able to see after a little while. Now tick `Render on Save` in the *Preview*, change the heart for a ⭐ in the notebook and save it, shortly after the preview will display an updated app.\n",
    "\n",
    "![alt text](../_static/images/jlabpreview.png)\n",
    "\n",
    "## Editor\n",
    "\n",
    "Editors like VS Code and PyCharm have quickly become some of the most popular Python coding environment.\n",
    "\n",
    "### Serve apps with autoreload\n",
    "\n",
    "To enable a quick feedback loop while developing, we support serving your apps with autoreload.\n",
    "\n",
    "Save the content of the next cell in a file named `app.py`.\n",
    "\n",
    "```python\n",
    "# app.py\n",
    "import panel as pn\n",
    "\n",
    "template = pn.template.BootstrapTemplate(title='Loving Panel!')\n",
    "\n",
    "\n",
    "def compute(i):\n",
    "    return '❤️' * i\n",
    "\n",
    "\n",
    "w_number = pn.widgets.IntSlider(value=5, start=1, end=5)\n",
    "p_hearts = pn.panel(pn.bind(compute, w_number))\n",
    "\n",
    "template.sidebar.append(w_number)\n",
    "template.main.append(p_hearts)\n",
    "template.servable()\n",
    "```\n",
    "\n",
    "From the terminal run the following command.\n",
    "\n",
    "```bash\n",
    "panel serve app.py --show --dev\n",
    "```\n",
    "\n",
    "The `--show` flag will open a browser tab with the live app and the `--dev` flag ensures that the app reloads whenever you make a change to the Python source. `--dev` is key to your developer experience, you will see the app being updated live when you save your app file! In the image below the windows have been re-arranged the way web developers like, on one side the code and on the other side a live view of the app, just like the *Preview* functionality in Jupyterlab.\n",
    "\n",
    "![VSCode Preview](../_static/images/vscode_preview.png)\n",
    "\n",
    "## Resources\n",
    "\n",
    "### Tutorials\n",
    "\n",
    "- [Develop in an Editor (Basic)](../tutorials/basic/develop_editor)\n",
    "- [Develop in an Editor (Intermediate)](../tutorials/intermediate/develop_editor)\n",
    "- [Develop in a Notebook (Basic)](../tutorials/basic/develop_notebook)\n",
    "\n",
    "### How-to\n",
    "\n",
    "- [Configure PyCharm](../how_to/editor/pycharm_configure)\n",
    "- [Configure VS Code](../how_to/editor/vscode_configure)\n",
    "- [Write apps in Markdown](../how_to/editor/markdown)\n"
   ]
  }
 ],
 "metadata": {},
 "nbformat": 4,
 "nbformat_minor": 5
}
