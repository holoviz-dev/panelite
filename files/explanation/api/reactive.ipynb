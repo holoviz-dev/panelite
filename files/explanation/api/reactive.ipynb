{
 "cells": [
  {
   "cell_type": "markdown",
   "id": "a7847f26",
   "metadata": {},
   "source": [
    "# Reactive API\n",
    "\n",
    "Most people are familiar with the reactive programming model due to Excel, where formulas can reference cells or ranges and dynamically (or rather reactively) recompute when the inputs to a formula changes. In Panel reactive APIs build on top of Param. Sticking with the Excel analogy, `Parameter` objects represent the inputs or references in a formula and using this we can build two kinds of reactive constructs, so called expressions and functions.\n",
    "\n",
    "Reactive expressions are a powerful way to declaratively express complex reactive \"formulas\" without having to learn a large new API or operate inside a restricted evaluation context (we will unpack what exactly that means a bit later). If we need to express logic using pure Python we can easily fall back to declaring a reactive function using `pn.bind`.\n",
    "\n",
    "`pn.bind` allows a programmer to indicate that a certain widget or *Parameter* should be used as the argument to a function or method that returns something displayable, after which Panel will *automatically* invoke that function or method when the corresponding *Parameter* changes. The programmer defines and configures widgets explicitly, laying them out with the reactive functions into an app (or even a set of separate Jupyter notebook cells) where each output is updated whenever the corresponding *Parameter* changes.\n",
    "\n",
    "## Pros:\n",
    "\n",
    "+ Clear mapping from widgets to the arguments of the function.\n",
    "+ Explicit layout of each of the different components.\n",
    "+ Doesn't typically require modifying existing visualization code.\n",
    "\n",
    "## Cons:\n",
    "\n",
    "+ Compared to the Declarative API approach, the resulting GUI code encodes details about the underlying computation and thus must be updated whenever the underlying non-GUI code arguments or options change.\n",
    "\n",
    "## Explanation\n",
    "\n",
    "In this model, we can use an existing plotting function, declare each widget explicitly to match what that function accepts, and then bind a widget to each of the arguments that we want to be interactive. The `pn.bind` function works much like [`functools.partial`](https://docs.python.org/3/library/functools.html#functools.partial) in that it binds regular arguments and keyword arguments to a function. `partial` can only bind specific, static arguments like `5`, but `pn.bind` can also bind *Parameters*, widgets, and other dynamic functions with declared dependencies to the arguments, ensuring when the function is called the current values of the *Parameters* are passed to the function. Functions bound with `pn.bind` are then reactive, updating whenever the widget or *Parameter* values change.\n",
    "\n",
    "To make the concept of binding clear, let's look at a trivial example first:\n",
    "\n"
   ]
  },
  {
   "cell_type": "code",
   "execution_count": null,
   "id": "d26c9174",
   "metadata": {},
   "outputs": [],
   "source": [
    "import panel as pn\n",
    "pn.extension()\n",
    "\n",
    "def fn(a,b): return f'Arguments: {a,b}'\n",
    "slider = pn.widgets.FloatSlider(value=0.5)\n",
    "\n",
    "bound_fn = pn.bind(fn, a=slider, b=2)\n",
    "bound_fn()"
   ]
  },
  {
   "cell_type": "markdown",
   "id": "854a8c91",
   "metadata": {},
   "source": [
    "\n",
    "Here we can see that although `fn` required two arguments, `bound_fn` takes no arguments because `a` has been bound to the slider value and `b` to a static value.\n",
    "\n",
    "If we display the slider and bound function in Panel, we can see that everything will update reactively as you use the widget, reevaluating the function whenever the bound argument changes:\n",
    "\n"
   ]
  },
  {
   "cell_type": "code",
   "execution_count": null,
   "id": "af27a0aa",
   "metadata": {},
   "outputs": [],
   "source": [
    "pn.Row(slider, bound_fn)"
   ]
  },
  {
   "cell_type": "markdown",
   "id": "262f2ae3",
   "metadata": {},
   "source": [
    "\n",
    "## Example\n",
    "\n",
    "Now let us create a simple application with some more interesting output. Just like in the [other API examples](index) we will load the AutoMPG dataset and let you pick the axes to plot and how to color the scatter plot. Using the `pn.bind` function, we can easily add the interactivity by binding widgets to each argument and lay out the result with the widgets:\n",
    "\n"
   ]
  },
  {
   "cell_type": "code",
   "execution_count": null,
   "id": "e4d0d82c",
   "metadata": {},
   "outputs": [],
   "source": [
    "import hvplot.pandas\n",
    "\n",
    "from bokeh.sampledata.autompg import autompg\n",
    "\n",
    "columns = list(autompg.columns[:-2])\n",
    "\n",
    "x = pn.widgets.Select(value='mpg', options=columns, name='x')\n",
    "y = pn.widgets.Select(value='hp', options=columns, name='y')\n",
    "color = pn.widgets.ColorPicker(name='Color', value='#AA0505')\n",
    "\n",
    "pn.Row(\n",
    "    pn.Column('## MPG Explorer', x, y, color),\n",
    "    pn.bind(autompg.hvplot.scatter, x, y, c=color)\n",
    ")"
   ]
  },
  {
   "cell_type": "markdown",
   "id": "022bff84",
   "metadata": {},
   "source": [
    "\n",
    "Notice how here we were able to bind widget values to the existing method `autompg.hvplot.scatter()` without changing that code, which is typical -- reactive API GUI code typically encodes detailed knowledge of the underlying domain code (e.g. explicitly listing out the columns from the data frame), but not vice versa.\n",
    "\n",
    "If you are writing code specifically for building an app, and do not wish to keep domain and GUI code separate even in one direction, the functionality of `pn.bind` is also available as a decorator `@pn.depends`:\n",
    "\n"
   ]
  },
  {
   "cell_type": "code",
   "execution_count": null,
   "id": "077a816c",
   "metadata": {},
   "outputs": [],
   "source": [
    "x = pn.widgets.Select(value='mpg', options=columns, name='x')\n",
    "y = pn.widgets.Select(value='hp', options=columns, name='y')\n",
    "color = pn.widgets.ColorPicker(name='Color', value='#AA0505')\n",
    "\n",
    "@pn.depends(x, y, color)\n",
    "def plot(xval, yval, colorval):\n",
    "    return autompg.hvplot.scatter(xval, yval, c=colorval)\n",
    "\n",
    "pn.Row(\n",
    "    pn.Column('## MPG Explorer', x, y, color),\n",
    "    plot\n",
    ")"
   ]
  },
  {
   "cell_type": "markdown",
   "id": "3a660ad7",
   "metadata": {},
   "source": [
    "\n",
    "This alternative way of specifying the same app lets you declare the dependency between a function argument and a widget (or *Parameter*) from the start, which can be clearer if you know the function will always and only be used in a GUI. Otherwise, the `pn.bind` version is greatly preferred, because it allows you to keep the Panel-specific code separate (even in a different Python module or file) from the underlying analysis and plotting code so that you can invoke the underlying code whether or not you have installed Panel.\n"
   ]
  }
 ],
 "metadata": {},
 "nbformat": 4,
 "nbformat_minor": 5
}
