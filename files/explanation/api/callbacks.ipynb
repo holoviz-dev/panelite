{
 "cells": [
  {
   "cell_type": "markdown",
   "id": "fbd3263d",
   "metadata": {},
   "source": [
    "# Callbacks\n",
    "\n",
    "The callback API in Panel is the lowest-level approach, affording the greatest amount of flexibility but also quickly growing in complexity because each new interactive behavior requires additional callbacks that can interact in complex ways. Nonetheless, callbacks are important to know about, and can often be used to complement the other approaches. For instance, one specific callback could be used in addition to the more reactive approaches the other APIs provide.\n",
    "\n",
    "For more details on defining callbacks see the [linking how-to guides](../../how_to/links/index).\n",
    "\n",
    "## Pros:\n",
    "\n",
    "+ Complete and modular control over specific events\n",
    "\n",
    "## Cons:\n",
    "\n",
    "- Complexity grows very quickly with the number of callbacks\n",
    "- If you have interactive plots, you need to handle initializing them separately\n",
    "\n",
    "## Example\n",
    "\n",
    "In this approach we once again define the widgets. Unlike in other approaches we then have to define the actual layout up front, to ensure that the callback we define has something that it can update or replace. In this case we use a single callback to update the plot, but in many cases multiple callbacks might be required.\n",
    "\n"
   ]
  },
  {
   "cell_type": "code",
   "execution_count": null,
   "id": "e728f1e2",
   "metadata": {},
   "outputs": [],
   "source": [
    "import hvplot.pandas\n",
    "import panel as pn\n",
    "\n",
    "from bokeh.sampledata.autompg import autompg\n",
    "\n",
    "columns = list(autompg.columns[:-2])\n",
    "\n",
    "x = pn.widgets.Select(value='mpg', options=columns, name='x')\n",
    "y = pn.widgets.Select(value='hp', options=columns, name='y')\n",
    "color = pn.widgets.ColorPicker(name='Color', value='#880588')\n",
    "\n",
    "layout = pn.Row(\n",
    "    pn.Column('## MPG Explorer', x, y, color),\n",
    "    autompg.hvplot.scatter(x.value, y.value, c=color.value, padding=0.1)\n",
    ")\n",
    "\n",
    "def update(event):\n",
    "    layout[1].object = autompg.hvplot.scatter(x.value, y.value, c=color.value, padding=0.1)\n",
    "\n",
    "x.param.watch(update, 'value')\n",
    "y.param.watch(update, 'value')\n",
    "color.param.watch(update, 'value')\n",
    "\n",
    "layout"
   ]
  }
 ],
 "metadata": {},
 "nbformat": 4,
 "nbformat_minor": 5
}
