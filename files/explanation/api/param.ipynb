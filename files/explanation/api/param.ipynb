{
 "cells": [
  {
   "cell_type": "markdown",
   "id": "e74184da",
   "metadata": {},
   "source": [
    "# Param in Panel\n",
    "\n",
    "Panel and other projects in the HoloViz ecosystem all build on Param. Param provides a framework to add validation, documentation and interactivity to a project. It is similar to more modern projects such as Pydantic but focuses primarily on providing APIs that make it easy to express complex dependencies, reactivity and UI interactions.\n",
    "\n",
    "To get a better understanding of Param itself check out the [user guide in the Param documentation](https://param.holoviz.org/user_guide/index.html) but here we will focus on the use of Param in Panel and how it powers all reactive and callback based APIs.\n",
    "\n",
    "## What is a Parameter?\n",
    "\n",
    "Parameters are objects that express the semantics of a value of an attribute on an object, e.g. the `value` of `Widget`, i.e. whether it is a number or a string. Generally Parameters are broader than Python types because they deal with semantics not the specific representation of a value. A `Parameter` object also acts as a reference to the underlying value, which is incredibly useful when trying to add interactivity to a UI and forms the basis of most of the reactive APIs in Panel.\n",
    "\n",
    "To make this more concrete let's look at a parameter definition, in this case for the Panel `TextInput` widget `value` parameter:\n",
    "\n",
    "```python\n",
    "class TextInput(Widget):\n",
    "\n",
    "    ...\n",
    "\n",
    "    value = param.String(default='', allow_None=True, doc=\"\"\"\n",
    "        Initial or entered text value updated when <enter> key is pressed.\"\"\")\n",
    "```\n",
    "\n",
    "A `Parameter` must be defined inside a class and that class must be a subclass of `Parameterized`. We can also see that it is of type `param.String`, defines a default of `''` and allows `None` value. It also has a docstring which gives us some information about it. All Panel components are configurable via parameters.\n",
    "\n",
    ":::{attention}\n",
    "The difference between a parameter value and the parameter itself is a central concept to really understand how Panel works, so make sure you pay attention to the next part.\n",
    ":::\n",
    "\n",
    "Let's start by working with a `TextInput` widget:\n",
    "\n"
   ]
  },
  {
   "cell_type": "code",
   "execution_count": null,
   "id": "afeda822",
   "metadata": {},
   "outputs": [],
   "source": [
    "import panel as pn\n",
    "\n",
    "text_input = pn.widgets.TextInput(value='A string!')\n",
    "\n",
    "text_input"
   ]
  },
  {
   "cell_type": "markdown",
   "id": "552082de",
   "metadata": {},
   "source": [
    "\n",
    "We can access the current value of the widget:\n",
    "\n"
   ]
  },
  {
   "cell_type": "code",
   "execution_count": null,
   "id": "c1180e54",
   "metadata": {},
   "outputs": [],
   "source": [
    "text_input.value"
   ]
  },
  {
   "cell_type": "markdown",
   "id": "6a9c4ac1",
   "metadata": {},
   "source": [
    "\n",
    "But we can also access the `Parameter` instance for value:\n",
    "\n"
   ]
  },
  {
   "cell_type": "code",
   "execution_count": null,
   "id": "4ffd1ee4",
   "metadata": {},
   "outputs": [],
   "source": [
    "text_input.param.value"
   ]
  },
  {
   "cell_type": "markdown",
   "id": "922671ac",
   "metadata": {},
   "source": [
    "\n",
    "Not only does the parameter hold the various metadata and validation options for the parameter but in many scenarios it can be used as a stand-in, proxy or reference for the actual value which can then be resolved interactively whenever the value changes.\n",
    "\n",
    "## References\n",
    "\n",
    "The concept of a reference is crucial to using Panel effectively, as much of the [reactivity](reactivity) in Panel is built on top of the idea of reference binding. The other piece (i.e. the binding) is that parameters can be given a reference, which they will internally resolve and update whenever the reference updates. In param itself this has to be declared by declaring `allow_ref=True` on the parameter, in Panel effectively all parameters automatically enable this functionality and also allow support for `nested_refs=True` where possible.\n",
    "\n",
    "Let us explore this with a simple example:\n",
    "\n"
   ]
  },
  {
   "cell_type": "code",
   "execution_count": null,
   "id": "48b08db2",
   "metadata": {},
   "outputs": [],
   "source": [
    "import param\n",
    "\n",
    "class TextFormatter(param.Parameterized):\n",
    "\n",
    "    text = param.String(allow_refs=True)\n",
    "\n",
    "    def __str__(self):\n",
    "        return f'**{self.text}**'\n",
    "\n",
    "text_input = pn.widgets.TextInput(value='A string!')\n",
    "\n",
    "TextFormatter(text=text_input.param.value)"
   ]
  }
 ],
 "metadata": {},
 "nbformat": 4,
 "nbformat_minor": 5
}
