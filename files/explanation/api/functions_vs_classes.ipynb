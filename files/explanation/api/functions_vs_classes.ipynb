{
 "cells": [
  {
   "cell_type": "markdown",
   "id": "81841885",
   "metadata": {},
   "source": [
    "# Functions vs. Classes\n"
   ]
  }
 ],
 "metadata": {},
 "nbformat": 4,
 "nbformat_minor": 5
}
