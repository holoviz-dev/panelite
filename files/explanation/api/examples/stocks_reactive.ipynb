{
 "cells": [
  {
   "cell_type": "markdown",
   "id": "8d27ae8a",
   "metadata": {},
   "source": [
    "# Stock Explorer - Reactive API\n",
    "\n",
    "Before launching into the application code we will first declare some components of the app that will be shared, including the title of the app, a set of stock tickers, a function to return a dataframe given the stock ``ticker`` and the rolling mean ``window_size``, and another function to return a plot given those same inputs:\n",
    "\n"
   ]
  },
  {
   "cell_type": "code",
   "execution_count": null,
   "id": "7d09a602",
   "metadata": {},
   "outputs": [],
   "source": [
    "import panel as pn\n",
    "import pandas as pd\n",
    "import altair as alt\n",
    "import plotly.graph_objects as go\n",
    "\n",
    "from bokeh.sampledata import stocks\n",
    "from matplotlib.figure import Figure\n",
    "\n",
    "pn.extension('plotly', 'vega', template='bootstrap')\n",
    "import hvplot.pandas\n",
    "\n",
    "tickers = ['AAPL', 'FB', 'GOOG', 'IBM', 'MSFT']\n",
    "\n",
    "def get_df(ticker, window_size):\n",
    "    df = pd.DataFrame(getattr(stocks, ticker))\n",
    "    df['date'] = pd.to_datetime(df.date)\n",
    "    return df.set_index('date').rolling(window=window_size).mean().reset_index()\n",
    "\n",
    "def get_altair(ticker, window_size):\n",
    "    df = get_df(ticker, window_size)\n",
    "    return alt.Chart(df).mark_line().encode(x='date', y='close').properties(\n",
    "        width=\"container\", height=400\n",
    "    )\n",
    "\n",
    "def get_hvplot(ticker, window_size):\n",
    "    df = get_df(ticker, window_size)\n",
    "    return df.hvplot.line('date', 'close', grid=True, responsive=True, height=400)\n",
    "\n",
    "def get_mpl(ticker, window_size):\n",
    "    fig = Figure(figsize=(10, 6))\n",
    "    ax = fig.subplots()\n",
    "    df = get_df(ticker, window_size)\n",
    "    df.plot.line('date', 'close', ax=ax)\n",
    "    return fig\n",
    "\n",
    "def get_plotly(ticker, window_size):\n",
    "    df = get_df(ticker, window_size)\n",
    "    return go.Scatter(x=df.date, y=df.close)\n",
    "\n",
    "plot_fns = {\n",
    "    'altair': get_altair,\n",
    "\t'hvplot': get_hvplot,\n",
    "\t'matplotlib': get_mpl,\n",
    "\t'plotly': get_plotly\n",
    "}"
   ]
  },
  {
   "cell_type": "markdown",
   "id": "4e4f7222",
   "metadata": {},
   "source": [
    "\n",
    "This example demonstrates how APIs in Panel differ, to see the same app implemented using a different API visit:\n",
    "\n",
    "- [Callback API](stocks_callbacks)\n",
    "- [Declarative API](stocks_declarative)\n",
    "\n",
    "The reactive programming model relies on the user (a) explicitly instantiating widgets, (b) declaring how those widgets relate to the function arguments (using the ``bind`` function), and (c) laying out the widgets and other components explicitly. In principle we could reuse the ``get_plot`` function from above here but for clarity we will repeat it:\n",
    "\n"
   ]
  },
  {
   "cell_type": "code",
   "execution_count": null,
   "id": "97cce36f",
   "metadata": {},
   "outputs": [],
   "source": [
    "backend = pn.widgets.Select(name='Backend', options=plot_fns)\n",
    "ticker = pn.widgets.Select(name='Ticker', options=tickers)\n",
    "window = pn.widgets.IntSlider(name='Window Size', value=6, start=1, end=51, step=5)\n",
    "\n",
    "pn.Row(\n",
    "    pn.Column(backend, ticker, window),\n",
    "    pn.panel(pn.bind(backend, ticker, window), sizing_mode='stretch_width')\n",
    ").servable()"
   ]
  }
 ],
 "metadata": {},
 "nbformat": 4,
 "nbformat_minor": 5
}
