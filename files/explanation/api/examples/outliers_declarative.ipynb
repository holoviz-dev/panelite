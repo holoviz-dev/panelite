{
 "cells": [
  {
   "cell_type": "markdown",
   "id": "fbbbe047",
   "metadata": {},
   "source": [
    "# Declarative API with Class-Based Approach\n",
    "\n",
    "This section introduces a more advanced and powerful method of creating Panel apps using a declarative, class-based approach. It builds upon the simple app demonstrated in the [Getting Started > Build an app](../../../getting_started/build_app.md) tutorial, which utilized the reactive, function-based API.\n",
    "\n",
    "![Getting Started App](../../../_static/images/getting_started_app.png)\n",
    "\n",
    "While the reactive API approach is flexible, it intertwines domain-specific code with widget display code. This works well for small projects or those heavily focused on visualization. However, for larger, long-term projects used across various contexts like batch runs, command-line usage, notebooks, and deployed dashboards, it becomes crucial to separate domain logic from display technologies.\n",
    "\n",
    "For such scenarios, Panel supports the use of objects declared with the separate [Param](http://param.holoviz.org) library. Param provides a GUI-independent way to capture and declare object parameters and dependencies, irrespective of any specific application or dashboard technology. This allows for modularization, making it easier to manage and reuse code across different environments.\n",
    "\n",
    "In this approach, the app's logic is encapsulated within a class, separating concerns and promoting code organization.\n",
    "\n",
    "Let's begin by reusing most of the code from the [Getting Started > Build an app](../../../getting_started/build_app.md) tutorial:\n",
    "\n"
   ]
  },
  {
   "cell_type": "code",
   "execution_count": null,
   "id": "f82660a6",
   "metadata": {},
   "outputs": [],
   "source": [
    "import hvplot.pandas\n",
    "import numpy as np\n",
    "import pandas as pd\n",
    "import panel as pn\n",
    "import param\n",
    "\n",
    "PRIMARY_COLOR = \"#0072B5\"\n",
    "SECONDARY_COLOR = \"#B54300\"\n",
    "CSV_FILE = (\n",
    "    \"https://raw.githubusercontent.com/holoviz/panel/main/examples/assets/occupancy.csv\"\n",
    ")\n",
    "\n",
    "pn.extension(design=\"material\")"
   ]
  },
  {
   "cell_type": "markdown",
   "id": "a544c6ae",
   "metadata": {},
   "source": [
    "\n"
   ]
  },
  {
   "cell_type": "code",
   "execution_count": null,
   "id": "7b2d1fd0",
   "metadata": {},
   "outputs": [],
   "source": [
    "@pn.cache\n",
    "def get_data():\n",
    "    return pd.read_csv(CSV_FILE, parse_dates=[\"date\"], index_col=\"date\")\n",
    "\n",
    "data = get_data()\n",
    "\n",
    "data.tail()"
   ]
  },
  {
   "cell_type": "markdown",
   "id": "b039047a",
   "metadata": {},
   "source": [
    "\n"
   ]
  },
  {
   "cell_type": "code",
   "execution_count": null,
   "id": "b4cd8f73",
   "metadata": {},
   "outputs": [],
   "source": [
    "def transform_data(variable, window, sigma):\n",
    "    \"\"\"Calculates the rolling average and identifies outliers\"\"\"\n",
    "    avg = data[variable].rolling(window=window).mean()\n",
    "    residual = data[variable] - avg\n",
    "    std = residual.rolling(window=window).std()\n",
    "    outliers = np.abs(residual) > std * sigma\n",
    "    return avg, avg[outliers]\n",
    "\n",
    "\n",
    "def get_plot(variable=\"Temperature\", window=30, sigma=10):\n",
    "    \"\"\"Plots the rolling average and the outliers\"\"\"\n",
    "    avg, highlight = transform_data(variable, window, sigma)\n",
    "    return avg.hvplot(\n",
    "        height=300, width=800, legend=False, color=PRIMARY_COLOR\n",
    "    ) * highlight.hvplot.scatter(color=SECONDARY_COLOR, padding=0.1, legend=False)"
   ]
  },
  {
   "cell_type": "markdown",
   "id": "e58e2b56",
   "metadata": {},
   "source": [
    "\n"
   ]
  },
  {
   "cell_type": "code",
   "execution_count": null,
   "id": "0dd674ae",
   "metadata": {},
   "outputs": [],
   "source": [
    "get_plot(variable='Temperature', window=20, sigma=10)"
   ]
  },
  {
   "cell_type": "markdown",
   "id": "668a3cdd",
   "metadata": {},
   "source": [
    "\n",
    "Now, let's implement the declarative API approach using a `Parameterized` class:\n",
    "\n"
   ]
  },
  {
   "cell_type": "code",
   "execution_count": null,
   "id": "da1f7f50",
   "metadata": {},
   "outputs": [],
   "source": [
    "class RoomOccupancy(param.Parameterized):\n",
    "    variable = param.Selector(default=\"Temperature\", objects=list(data.columns))\n",
    "    window = param.Integer(default=30, bounds=(1, 60))\n",
    "    sigma = param.Number(default=10, bounds=(0, 20))\n",
    "\n",
    "    def view(self):\n",
    "        return get_plot(self.variable, self.window, self.sigma)\n",
    "\n",
    "obj = RoomOccupancy()\n",
    "obj"
   ]
  },
  {
   "cell_type": "markdown",
   "id": "10fda7ff",
   "metadata": {},
   "source": [
    "\n",
    "The `RoomOccupancy` class and the `obj` instance have no direct dependency on Panel, Jupyter, or any other GUI toolkit. They solely declare facts about a specific domain, such as the parameters required for smoothing. This information is sufficient for Panel to create an interactive representation without needing domain-specific details encapsulated in `obj`:\n",
    "\n"
   ]
  },
  {
   "cell_type": "code",
   "execution_count": null,
   "id": "6b7c252c",
   "metadata": {},
   "outputs": [],
   "source": [
    "pn.Column(obj.param, obj.view)"
   ]
  },
  {
   "cell_type": "markdown",
   "id": "77fa2a34",
   "metadata": {},
   "source": [
    "\n",
    "To support various domains, you can create hierarchies of classes encapsulating parameters and functionality across different object families. Parameters and code can inherit across classes as needed, without depending on any specific GUI library. This approach facilitates the maintenance of large codebases, all displayable and editable with Panel, adaptable over time. For a more complex illustration, refer to the [Attractors Panel app](https://examples.holoviz.org/gallery/attractors/attractors_panel.html) ([source](https://github.com/holoviz-topics/examples/tree/main/attractors)), and explore the Panel codebase itself for extensive usage of Param throughout the codebase.\n",
    "\n",
    "## Serving the Notebook\n",
    "\n",
    "Lets finalize our app by organizing our components in a nicely styled template (`MaterialTemplate`) and mark it `.servable()` to add it to our served app:\n",
    "\n",
    "```python\n",
    "pn.template.MaterialTemplate(\n",
    "    site=\"Panel\",\n",
    "    title=\"Getting Started App\",\n",
    "    sidebar=[obj.param],\n",
    "    main=[obj.view],\n",
    ").servable(); # The ; is needed in the notebook to not display the template. Its not needed in a script\n",
    "```\n",
    "\n",
    "Save the notebook with the name `app.ipynb`.\n",
    "\n",
    "Finally, we'll serve the app by running the command below in a terminal:\n",
    "\n",
    "```bash\n",
    "panel serve app.ipynb --dev\n",
    "```\n",
    "\n",
    "Now, open the app in your browser at [http://localhost:5006/app](http://localhost:5006/app).\n",
    "\n",
    "It should look like this:\n",
    "\n",
    "![Getting Started App](../../../_static/images/getting_started_app.png)\n",
    "\n",
    ":::{tip}\n",
    "\n",
    "If you prefer developing in a Python Script using an editor, you can copy the code into a file `app.py` and serve it.\n",
    "\n",
    "```bash\n",
    "panel serve app.py --dev\n",
    "```\n",
    "\n",
    ":::\n"
   ]
  }
 ],
 "metadata": {},
 "nbformat": 4,
 "nbformat_minor": 5
}
