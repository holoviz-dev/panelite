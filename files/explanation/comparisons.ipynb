{
 "cells": [
  {
   "cell_type": "markdown",
   "id": "7daac391",
   "metadata": {},
   "source": [
    ".. raw:: html\n",
    "    <head>\n",
    "        <meta http-equiv='refresh' content='0; URL=./index.html#technology-comparisons'>\n",
    "    </head>\n",
    "\n",
    "# Technology comparisons\n",
    "\n",
    "```{toctree}\n",
    ":titlesonly:\n",
    ":hidden:\n",
    ":maxdepth: 1\n",
    "\n",
    "Panel vs Dash <comparisons/compare_dash>\n",
    "Panel vs ipywidgets <comparisons/compare_ipywidgets>\n",
    "Panel vs Voila <comparisons/compare_voila>\n",
    "Panel vs Streamlit <comparisons/compare_streamlit>\n",
    "Panel vs JavaScript <comparisons/compare_js>\n",
    "Panel vs Bokeh <comparisons/compare_bokeh>\n",
    "\n",
    "```\n"
   ]
  }
 ],
 "metadata": {},
 "nbformat": 4,
 "nbformat_minor": 5
}
