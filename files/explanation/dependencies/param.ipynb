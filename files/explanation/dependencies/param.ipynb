{
 "cells": [
  {
   "cell_type": "markdown",
   "id": "91e15c99",
   "metadata": {},
   "source": [
    "# Panel and Param\n",
    "\n"
   ]
  },
  {
   "cell_type": "code",
   "execution_count": null,
   "id": "63b2cdc5",
   "metadata": {},
   "outputs": [],
   "source": [
    "import param\n",
    "import panel as pn\n",
    "\n",
    "pn.extension()"
   ]
  },
  {
   "cell_type": "markdown",
   "id": "0a9fb636",
   "metadata": {},
   "source": [
    "\n",
    "[Param](https://param.holoviz.org/) is a Python package that is foundational in the implementation and usage of Panel, and more generally of the [HoloViz](https://holoviz.org/) tools. Param provides super-charged object attributes, called **Parameters**, that behave like normal Python object attributes but benefit from two major features that are both heavily used in Panel:\n",
    "\n",
    "- *Parameter* attribute values are runtime validated.\n",
    "- *Parameters* are objects that can be watched, i.e. you can register callbacks (Python functions or methods) that will be executed when the parameter value changes.\n",
    "\n",
    "## *Parameterized* and *Parameter* intro\n",
    "\n",
    "A *Parameterized* class, i.e. a class on which *Parameters* can be set, is created by inheriting from `param.Parameterized`. Most Panel objects (widgets, panels, layouts, templates, etc.) actually inherit from `param.Parameterized`!\n",
    "\n"
   ]
  },
  {
   "cell_type": "code",
   "execution_count": null,
   "id": "58628c94",
   "metadata": {},
   "outputs": [],
   "source": [
    "print(\n",
    "    issubclass(pn.widgets.FloatSlider, param.Parameterized),\n",
    "    issubclass(pn.pane.Matplotlib, param.Parameterized),\n",
    "    issubclass(pn.Column, param.Parameterized),\n",
    "    issubclass(pn.template.BootstrapTemplate, param.Parameterized)\n",
    ")"
   ]
  },
  {
   "cell_type": "markdown",
   "id": "e3d2a413",
   "metadata": {},
   "source": [
    "\n",
    "Let's create a *Parameterized* class with a single *Parameter*.\n",
    "\n"
   ]
  },
  {
   "cell_type": "code",
   "execution_count": null,
   "id": "92a6509b",
   "metadata": {},
   "outputs": [],
   "source": [
    "class A(param.Parameterized):\n",
    "    x = param.Number()"
   ]
  },
  {
   "cell_type": "markdown",
   "id": "7e33e034",
   "metadata": {},
   "source": [
    "\n",
    "`A` has now an attribute `x` that can be accessed and set as you would normally do with a plain Python class.\n",
    "\n"
   ]
  },
  {
   "cell_type": "code",
   "execution_count": null,
   "id": "7d8b048c",
   "metadata": {},
   "outputs": [],
   "source": [
    "A.x"
   ]
  },
  {
   "cell_type": "markdown",
   "id": "5ba015f2",
   "metadata": {},
   "source": [
    "\n",
    "As each *Parameter* type has a default value, we can instantiate `A` as is.\n",
    "\n"
   ]
  },
  {
   "cell_type": "code",
   "execution_count": null,
   "id": "49e97a06",
   "metadata": {},
   "outputs": [],
   "source": [
    "a = A()\n",
    "a.x"
   ]
  },
  {
   "cell_type": "markdown",
   "id": "dfb508c5",
   "metadata": {},
   "source": [
    "\n",
    "Obviously, we can set a new value for `x` on `a`.\n",
    "\n"
   ]
  },
  {
   "cell_type": "code",
   "execution_count": null,
   "id": "ae854430",
   "metadata": {},
   "outputs": [],
   "source": [
    "a.x = 2\n",
    "a.x"
   ]
  },
  {
   "cell_type": "markdown",
   "id": "b757b751",
   "metadata": {},
   "source": [
    "\n",
    "In Panel documentation we often refer to the *Parameter **value*** to describe the attribute value.\n",
    "The *Parameter **object***, i.e. the object declared in the class body and of type `param.Parameter`, can be accessed via the `.param` namespace, both at the class and instance level.\n",
    "\n"
   ]
  },
  {
   "cell_type": "code",
   "execution_count": null,
   "id": "33f18d3d",
   "metadata": {},
   "outputs": [],
   "source": [
    "A.param.x  # equivalent to A.param['x']"
   ]
  },
  {
   "cell_type": "markdown",
   "id": "9fe5e0cd",
   "metadata": {},
   "source": [
    "\n"
   ]
  },
  {
   "cell_type": "code",
   "execution_count": null,
   "id": "001e0437",
   "metadata": {},
   "outputs": [],
   "source": [
    "a.param.x  # # equivalent to a.param['x']"
   ]
  },
  {
   "cell_type": "markdown",
   "id": "845ac7d5",
   "metadata": {},
   "source": [
    "\n",
    "The *Parameter* object has methods and attributes that can be useful to interact with. We can for instance access the `default` value of the `x` Parameter.\n",
    "\n",
    "\n"
   ]
  },
  {
   "cell_type": "code",
   "execution_count": null,
   "id": "3a1e615d",
   "metadata": {},
   "outputs": [],
   "source": [
    "a.param.x.default"
   ]
  },
  {
   "cell_type": "markdown",
   "id": "fdc8eaf8",
   "metadata": {},
   "source": [
    "\n",
    "*Parameterized* classes often don't need a constructor, because the default constructor already allows them to be configured using *Parameters* as constructor arguments. Still, sometimes you do need to customize the constructor of a *Parameterized* class. This happens regularly enough that Param's users have come up with the following convention that you are likely to encounter.\n",
    "\n"
   ]
  },
  {
   "cell_type": "code",
   "execution_count": null,
   "id": "5a781a3d",
   "metadata": {},
   "outputs": [],
   "source": [
    "class A(param.Parameterized):\n",
    "    x = param.Number()\n",
    "\n",
    "    # Naming the keyword arguments `**params` is purely a convention.\n",
    "    def __init__(self, **params):\n",
    "        super().__init__(**params)\n",
    "        self._y = self.x * 2"
   ]
  },
  {
   "cell_type": "markdown",
   "id": "3f8fa4b7",
   "metadata": {},
   "source": [
    "\n",
    ":::{attention}\n",
    "For an object attribute to be powered by Param you must declare it as a *Parameter*! Otherwise, that attribute will become a regular **class variable**, and as such will be shared across all the instances of that class.\n",
    "\n",
    "```python\n",
    "class P(param.Parameterized):\n",
    "    x = param.Number()  # Good\n",
    "    w1 = pn.widgets.FloatSlider()  # Very likely you DO NOT want this\n",
    "    w2 = param.ClassSelector(class_=pn.widgets.FloatSlider)  # Much better!\n",
    "\n",
    "```\n",
    ":::\n",
    "\n",
    "## Runtime type-checking\n",
    "\n",
    "The class `B` below is created with 4 *Parameters*:\n",
    "\n",
    "- `t` is a `Number` *Parameter* that only accepts Python `int` and `float` values.\n",
    "- `i` is an `Integer` *Parameter* that only accepts Python `int` values and that must be within the interval `[5, 15]`\n",
    "- `s` is a `String` *Parameter* that only accepts Python `str` values and is documented with `doc`.\n",
    "- `option` is a `Selector` *Parameter* that only accepts one of the values listed in `objects`.\n",
    "\n",
    "\n",
    ":::{note}\n",
    "Param offers [many *Parameter* types](https://param.holoviz.org/user_guide/Parameter_Types.html). All of them share a common set of arguments like `default` or `doc`, and some add other arguments such as `bounds` for the numerical *Parameters*.\n",
    ":::\n",
    "\n"
   ]
  },
  {
   "cell_type": "code",
   "execution_count": null,
   "id": "3fe9388a",
   "metadata": {},
   "outputs": [],
   "source": [
    "class B(param.Parameterized):\n",
    "    t = param.Number()\n",
    "    i = param.Integer(default=10, bounds=(5, 15))\n",
    "    s = param.String(default='a string', doc='The simulation name')\n",
    "    option = param.Selector(objects=['a', 'b', 'c'])"
   ]
  },
  {
   "cell_type": "markdown",
   "id": "aeadf52a",
   "metadata": {},
   "source": [
    "\n",
    "Once the class is created, the *Parameters* are already active and can be updated, but only if they're valid!\n",
    "\n"
   ]
  },
  {
   "cell_type": "code",
   "execution_count": null,
   "id": "c77d55f8",
   "metadata": {},
   "outputs": [],
   "source": [
    "# Updating `t` to 2 is valid\n",
    "B.t = 2\n",
    "\n",
    "# However updating `i` with a string isn't and raises an error\n",
    "try:\n",
    "    B.i = 'bad data'\n",
    "except Exception as e:\n",
    "    print(e)"
   ]
  },
  {
   "cell_type": "markdown",
   "id": "16dd3510",
   "metadata": {},
   "source": [
    "\n",
    "The same principle applies at the instance level, both when creating the instance and when updating it later on.\n",
    "\n"
   ]
  },
  {
   "cell_type": "code",
   "execution_count": null,
   "id": "d7edfe3a",
   "metadata": {},
   "outputs": [],
   "source": [
    "# Setting `t` to 3 is valid\n",
    "b = B(t=3)\n",
    "\n",
    "# However setting `i` to a string isn't and raises an error\n",
    "try:\n",
    "    B(i='bad data')\n",
    "except Exception as e:\n",
    "    print(e)"
   ]
  },
  {
   "cell_type": "markdown",
   "id": "3638a946",
   "metadata": {},
   "source": [
    "\n"
   ]
  },
  {
   "cell_type": "code",
   "execution_count": null,
   "id": "493828f9",
   "metadata": {},
   "outputs": [],
   "source": [
    "# Setting `s` to a string is valid\n",
    "b.s = 'foo'\n",
    "\n",
    "# However setting `option` to a value not found in `objects` isn't\n",
    "try:\n",
    "    b.option = 'bad data'\n",
    "except Exception as e:\n",
    "    print(e)"
   ]
  },
  {
   "cell_type": "markdown",
   "id": "b3a95ca3",
   "metadata": {},
   "source": [
    "\n",
    "As you can see, code inside of *Parameterized* objects and code that uses *Parameterized* objects can often be written without any special error checking, since it knows that only allowed values will ever be present.\n",
    "\n",
    "\n",
    "## Dependencies and watchers\n",
    "\n",
    "*Parameters* are objects that can be watched, i.e., you can register callbacks that will be triggered when their value changes.\n",
    "\n",
    "The class `C` has 3 *Parameters*. Using the `param.depends` decorator, we can declare the callbacks of these classes, i.e. its methods, and the *Parameters* that they depend on:\n",
    "\n",
    "- `updating_on_t` depends on both `t1` and `t2`.\n",
    "- `updating_on_s` deponds on `s` only.\n",
    "\n",
    "By setting `watch=True` (default: `False`), we let Param know that we want it to trigger the callback automatically whenever the *Parameters* it depends on are updated. Without setting `watch`, we're only _declaring_ the dependency between a callback and its *Parameters*, which is information that is stored by Param but not used by it otherwise. Libraries like Panel that read this information can then use the declarations to determine their own flow of program execution, as we will see later.\n",
    "\n"
   ]
  },
  {
   "cell_type": "code",
   "execution_count": null,
   "id": "458a66a0",
   "metadata": {},
   "outputs": [],
   "source": [
    "class C(param.Parameterized):\n",
    "    t1 = param.Number(default=2)\n",
    "    t2 = param.Number(default=3)\n",
    "    s = param.String(default='a string')\n",
    "\n",
    "    @param.depends('t1', 't2', watch=True)\n",
    "    def updating_on_t(self):\n",
    "        print(f'New value of t1 and t2: {self.t1}, {self.t2}')\n",
    "\n",
    "    @param.depends('s')\n",
    "    def updating_on_s(self):\n",
    "        print(f'New value of s: {self.s}')\n",
    "\n",
    "c = C()"
   ]
  },
  {
   "cell_type": "markdown",
   "id": "42e5535a",
   "metadata": {},
   "source": [
    "\n",
    "Let's confirm this behavior by setting new values to these *Parameters*.\n",
    "\n"
   ]
  },
  {
   "cell_type": "code",
   "execution_count": null,
   "id": "c0eacb8a",
   "metadata": {},
   "outputs": [],
   "source": [
    "c.t1 = 0"
   ]
  },
  {
   "cell_type": "markdown",
   "id": "996a4daa",
   "metadata": {},
   "source": [
    "\n"
   ]
  },
  {
   "cell_type": "code",
   "execution_count": null,
   "id": "c86a13c3",
   "metadata": {},
   "outputs": [],
   "source": [
    "c.t2 = 1"
   ]
  },
  {
   "cell_type": "markdown",
   "id": "770ff0ad",
   "metadata": {},
   "source": [
    "\n"
   ]
  },
  {
   "cell_type": "code",
   "execution_count": null,
   "id": "44e250cf",
   "metadata": {},
   "outputs": [],
   "source": [
    "c.s = 'another string'"
   ]
  },
  {
   "cell_type": "markdown",
   "id": "514185c2",
   "metadata": {},
   "source": [
    "\n",
    "Param offers a more low-level API to set up watchers, with the `watch` function available on the `.param` namespace. `watch` accepts a callback and a list of *Parameter* names, and a few other arguments. The callback will receive an `Event` object, and the new *Parameter* value can be found on its `new` attribute.\n",
    "\n"
   ]
  },
  {
   "cell_type": "code",
   "execution_count": null,
   "id": "cfd09527",
   "metadata": {},
   "outputs": [],
   "source": [
    "def callback(event):\n",
    "    print(event)\n",
    "    print()\n",
    "    print(f'Old value of s: {event.old}')\n",
    "    print(f'New value of s: {event.new}')\n",
    "\n",
    "# Setting up a watcher that will trigger the callback when `s` changes.\n",
    "c.param.watch(callback, ['s'])"
   ]
  },
  {
   "cell_type": "markdown",
   "id": "3b2dfa69",
   "metadata": {},
   "source": [
    "\n"
   ]
  },
  {
   "cell_type": "code",
   "execution_count": null,
   "id": "f580cde5",
   "metadata": {},
   "outputs": [],
   "source": [
    "c.s = 'new string'"
   ]
  },
  {
   "cell_type": "markdown",
   "id": "5335eb7d",
   "metadata": {},
   "source": [
    "\n",
    "## Panel and Param\n",
    "\n",
    "Panel knows how to map *Parameters* to widgets, and so it can easily generate a set of widgets from a *Parameterized* class that control its *Parameters* and trigger any dependent callbacks:\n",
    "\n"
   ]
  },
  {
   "cell_type": "code",
   "execution_count": null,
   "id": "dd44ad0e",
   "metadata": {},
   "outputs": [],
   "source": [
    "class D(param.Parameterized):\n",
    "    t = param.Number()\n",
    "    i = param.Integer(default=10, bounds=(5, 15))\n",
    "    s = param.String(default='a string', doc='The simulation name')\n",
    "    option = param.Selector(objects=['a', 'b', 'c'])\n",
    "\n",
    "    @param.depends('t', 'i')\n",
    "    def compute(self):\n",
    "        return self.t * self.i\n",
    "\n",
    "d = D()\n",
    "\n",
    "pn.panel(d.param)"
   ]
  },
  {
   "cell_type": "markdown",
   "id": "0e3ff046",
   "metadata": {},
   "source": [
    "\n",
    "Panel, when given a method decorated with `@param.depends`, will re-run the method and render its new output every time one of the *Parameters* it depends on change:\n",
    "\n"
   ]
  },
  {
   "cell_type": "code",
   "execution_count": null,
   "id": "9e0b5b06",
   "metadata": {},
   "outputs": [],
   "source": [
    "pn.Row(d.param.t, d.param.i, d.compute)"
   ]
  },
  {
   "cell_type": "markdown",
   "id": "bb777d25",
   "metadata": {},
   "source": [
    "\n",
    "Because the displayable objects provided by Panel are all *Parameterized* objects with their own set of *Parameters*, they can all be watched. We can for instance hide a widget (setting `widget.visible` to `False`) by watching the value of another widget:\n",
    "\n"
   ]
  },
  {
   "cell_type": "code",
   "execution_count": null,
   "id": "133befef",
   "metadata": {},
   "outputs": [],
   "source": [
    "checkbox = pn.widgets.Checkbox(value=True)\n",
    "slider = pn.widgets.FloatSlider()\n",
    "\n",
    "def hide(event):\n",
    "    slider.visible = event.new\n",
    "\n",
    "checkbox.param.watch(hide, 'value')\n",
    "\n",
    "pn.Row(checkbox, slider)"
   ]
  },
  {
   "cell_type": "markdown",
   "id": "98db8220",
   "metadata": {},
   "source": [
    "\n",
    "Using `.param.watch` as done just above is a valid (albeit pretty verbose!) way to set up some interactivity between Panel components. Panel also provides a much more natural \"reactive\" API, allowing you to bind the value of two *Parameters* together, or to bind the value of a *Parameter* to a callback that depends on some additional *Parameters*. In the example below, `tinput.visible` and `output.visible` will be updated whenever `checkbox.value` changes (clicking on the checkbox), and the value of `output.object` will be updated whenever `tinput.value` changes, that value being transformed by the `boldit` callback.\n",
    "\n"
   ]
  },
  {
   "cell_type": "code",
   "execution_count": null,
   "id": "c1778569",
   "metadata": {},
   "outputs": [],
   "source": [
    "checkbox = pn.widgets.Checkbox(value=True)\n",
    "tinput = pn.widgets.TextInput(value='some text always bold', visible=checkbox.param.value)\n",
    "\n",
    "def boldit(value):\n",
    "    return f'**{value}**'\n",
    "\n",
    "output = pn.pane.Markdown(object=pn.bind(boldit, tinput.param.value), visible=checkbox.param.value)"
   ]
  },
  {
   "cell_type": "markdown",
   "id": "7b2b9857",
   "metadata": {},
   "source": [
    "\n"
   ]
  },
  {
   "cell_type": "code",
   "execution_count": null,
   "id": "7b57cece",
   "metadata": {},
   "outputs": [],
   "source": [
    "pn.Row(checkbox, tinput, output)"
   ]
  },
  {
   "cell_type": "markdown",
   "id": "93c0b050",
   "metadata": {},
   "source": [
    "\n",
    "As you can see, *Parameters* offer a very generic mechanism for your Python code to declare options that control it, and Panel's Param support allows you to work naturally with any combination of objects and their *Parameters*.\n",
    "\n",
    "## Related Resources\n",
    "\n",
    "- See [Param's documentation](https://param.holoviz.org/)\n",
    "- See [How-to > Declare UIs with Declarative API](../../how_to/param/index).\n"
   ]
  }
 ],
 "metadata": {},
 "nbformat": 4,
 "nbformat_minor": 5
}
